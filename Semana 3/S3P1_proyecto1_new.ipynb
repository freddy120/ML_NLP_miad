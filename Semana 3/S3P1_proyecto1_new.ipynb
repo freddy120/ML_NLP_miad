{
 "cells": [
  {
   "cell_type": "markdown",
   "metadata": {
    "application/vnd.databricks.v1+cell": {
     "inputWidgets": {},
     "nuid": "6dca0aad-df7e-42e4-aeb7-2e4e6722f9cc",
     "showTitle": false,
     "title": ""
    },
    "id": "EfDnZEEqCaCX"
   },
   "source": [
    "![image info](https://raw.githubusercontent.com/albahnsen/MIAD_ML_and_NLP/main/images/banner_1.png)"
   ]
  },
  {
   "cell_type": "markdown",
   "metadata": {
    "application/vnd.databricks.v1+cell": {
     "inputWidgets": {},
     "nuid": "0e7a97c2-f52d-4da5-ad72-0a0d6f5d2f5e",
     "showTitle": false,
     "title": ""
    },
    "id": "IuzRRwr_CaCj"
   },
   "source": [
    "# Proyecto 1 - Predicción de precios de vehículos usados\n",
    "\n",
    "En este proyecto podrán poner en práctica sus conocimientos sobre modelos predictivos basados en árboles y ensambles, y sobre la disponibilización de modelos. Para su desasrrollo tengan en cuenta las instrucciones dadas en la \"Guía del proyecto 1: Predicción de precios de vehículos usados\".\n",
    "\n",
    "**Entrega**: La entrega del proyecto deberán realizarla durante la semana 4. Sin embargo, es importante que avancen en la semana 3 en el modelado del problema y en parte del informe, tal y como se les indicó en la guía.\n",
    "\n",
    "Para hacer la entrega, deberán adjuntar el informe autocontenido en PDF a la actividad de entrega del proyecto que encontrarán en la semana 4, y subir el archivo de predicciones a la [competencia de Kaggle](https://www.kaggle.com/t/4bd64c1deb3c4ffb8ca7ff93c1f1497d)."
   ]
  },
  {
   "cell_type": "markdown",
   "metadata": {
    "application/vnd.databricks.v1+cell": {
     "inputWidgets": {},
     "nuid": "4c3f8051-7f48-45d6-8dbf-552142849f24",
     "showTitle": false,
     "title": ""
    },
    "id": "OjFTWy25CaC6"
   },
   "source": [
    "## Datos para la predicción de precios de vehículos usados\n",
    "\n",
    "En este proyecto se usará el conjunto de datos de Car Listings de Kaggle, donde cada observación representa el precio de un automóvil teniendo en cuenta distintas variables como: año, marca, modelo, entre otras. El objetivo es predecir el precio del automóvil. Para más detalles puede visitar el siguiente enlace: [datos](https://www.kaggle.com/jpayne/852k-used-car-listings)."
   ]
  },
  {
   "cell_type": "markdown",
   "metadata": {
    "application/vnd.databricks.v1+cell": {
     "inputWidgets": {},
     "nuid": "13ceb6cd-4389-46fe-9c18-73d67342d76c",
     "showTitle": false,
     "title": ""
    },
    "id": "U8s-te2pCaDI"
   },
   "source": [
    "## Ejemplo predicción conjunto de test para envío a Kaggle\n",
    "\n",
    "En esta sección encontrarán el formato en el que deben guardar los resultados de la predicción para que puedan subirlos a la competencia en Kaggle."
   ]
  },
  {
   "cell_type": "code",
   "execution_count": 1,
   "metadata": {
    "application/vnd.databricks.v1+cell": {
     "inputWidgets": {},
     "nuid": "f001e034-674f-4a82-8a45-6a2ea892920b",
     "showTitle": false,
     "title": ""
    },
    "executionInfo": {
     "elapsed": 6,
     "status": "ok",
     "timestamp": 1651010228903,
     "user": {
      "displayName": "Freddy Mendoza",
      "userId": "10598764195432276332"
     },
     "user_tz": 300
    },
    "id": "m_iMqV5CCaDN"
   },
   "outputs": [],
   "source": [
    "import warnings\n",
    "warnings.filterwarnings('ignore')"
   ]
  },
  {
   "cell_type": "code",
   "execution_count": 2,
   "metadata": {
    "application/vnd.databricks.v1+cell": {
     "inputWidgets": {},
     "nuid": "2f367759-65bb-404e-b7e6-41700fbbeadd",
     "showTitle": false,
     "title": ""
    },
    "executionInfo": {
     "elapsed": 300,
     "status": "ok",
     "timestamp": 1651012097732,
     "user": {
      "displayName": "Freddy Mendoza",
      "userId": "10598764195432276332"
     },
     "user_tz": 300
    },
    "id": "ya5qLA2-CaDz"
   },
   "outputs": [],
   "source": [
    "\n",
    "# Importación librerías\n",
    "\n",
    "import pandas as pd\n",
    "import numpy as np\n",
    "import seaborn as sns\n",
    "import matplotlib.pyplot as plt\n",
    "from scipy import stats\n",
    "\n",
    "pd.set_option(\"display.max_columns\", None)\n",
    "\n",
    "#from pickle5 import pickle\n",
    "from sklearn.model_selection import train_test_split\n",
    "from sklearn.decomposition import PCA\n",
    "from sklearn.tree import DecisionTreeClassifier, DecisionTreeRegressor, export_graphviz\n",
    "from sklearn.ensemble import BaggingClassifier, RandomForestRegressor, GradientBoostingClassifier\n",
    "import xgboost as xgb\n",
    "from sklearn.model_selection import RandomizedSearchCV, GridSearchCV\n",
    "from sklearn.model_selection import KFold\n",
    "from sklearn.model_selection import cross_val_score\n",
    "from sklearn.preprocessing import OneHotEncoder\n",
    "\n",
    "from sklearn.feature_selection import f_regression, SelectKBest, mutual_info_regression, mutual_info_classif, RFE, SelectFromModel, SequentialFeatureSelector\n",
    "from sklearn.feature_selection import mutual_info_regression, mutual_info_classif\n",
    "from sklearn.feature_selection import f_regression, SelectKBest\n",
    "\n",
    "from sklearn.metrics import mean_squared_error, f1_score, accuracy_score\n",
    "from sklearn import metrics\n",
    "\n",
    "\n",
    "from tpot import TPOTRegressor\n",
    "import hyperopt\n",
    "from hyperopt import fmin, hp, tpe, Trials, SparkTrials, space_eval, STATUS_OK\n",
    "\n",
    "\n",
    "\n",
    "import warnings\n",
    "from sklearn.exceptions import DataConversionWarning, ConvergenceWarning\n",
    "warnings.filterwarnings(action='ignore', category=DataConversionWarning)\n",
    "warnings.filterwarnings(action='ignore', category=ConvergenceWarning)\n"
   ]
  },
  {
   "cell_type": "code",
   "execution_count": 4,
   "metadata": {
    "application/vnd.databricks.v1+cell": {
     "inputWidgets": {},
     "nuid": "56b67f78-5f7e-4076-b2f2-2dfc4946f3f2",
     "showTitle": false,
     "title": ""
    },
    "executionInfo": {
     "elapsed": 2418,
     "status": "ok",
     "timestamp": 1651010265424,
     "user": {
      "displayName": "Freddy Mendoza",
      "userId": "10598764195432276332"
     },
     "user_tz": 300
    },
    "id": "dj9slqbICaD1"
   },
   "outputs": [],
   "source": [
    "# Carga de datos de archivo .csv\n",
    "dataTraining = pd.read_csv('https://raw.githubusercontent.com/albahnsen/MIAD_ML_and_NLP/main/datasets/dataTrain_carListings.zip')\n",
    "dataTesting = pd.read_csv('https://raw.githubusercontent.com/albahnsen/MIAD_ML_and_NLP/main/datasets/dataTest_carListings.zip', index_col=0)"
   ]
  },
  {
   "cell_type": "code",
   "execution_count": 9,
   "metadata": {
    "application/vnd.databricks.v1+cell": {
     "inputWidgets": {},
     "nuid": "a847cb6e-0a1d-4983-b769-ed441ffd9a95",
     "showTitle": false,
     "title": ""
    },
    "colab": {
     "base_uri": "https://localhost:8080/",
     "height": 223
    },
    "executionInfo": {
     "elapsed": 300,
     "status": "ok",
     "timestamp": 1651010295449,
     "user": {
      "displayName": "Freddy Mendoza",
      "userId": "10598764195432276332"
     },
     "user_tz": 300
    },
    "id": "NQw7OkK_CaD2",
    "outputId": "73e00e86-5450-42a0-f245-70e85fd8f7d4"
   },
   "outputs": [
    {
     "name": "stdout",
     "output_type": "stream",
     "text": [
      "(400000, 6)\n"
     ]
    },
    {
     "data": {
      "text/html": [
       "<div>\n",
       "<style scoped>\n",
       "    .dataframe tbody tr th:only-of-type {\n",
       "        vertical-align: middle;\n",
       "    }\n",
       "\n",
       "    .dataframe tbody tr th {\n",
       "        vertical-align: top;\n",
       "    }\n",
       "\n",
       "    .dataframe thead th {\n",
       "        text-align: right;\n",
       "    }\n",
       "</style>\n",
       "<table border=\"1\" class=\"dataframe\">\n",
       "  <thead>\n",
       "    <tr style=\"text-align: right;\">\n",
       "      <th></th>\n",
       "      <th>Price</th>\n",
       "      <th>Year</th>\n",
       "      <th>Mileage</th>\n",
       "      <th>State</th>\n",
       "      <th>Make</th>\n",
       "      <th>Model</th>\n",
       "    </tr>\n",
       "  </thead>\n",
       "  <tbody>\n",
       "    <tr>\n",
       "      <th>0</th>\n",
       "      <td>34995</td>\n",
       "      <td>2017</td>\n",
       "      <td>9913</td>\n",
       "      <td>FL</td>\n",
       "      <td>Jeep</td>\n",
       "      <td>Wrangler</td>\n",
       "    </tr>\n",
       "    <tr>\n",
       "      <th>1</th>\n",
       "      <td>37895</td>\n",
       "      <td>2015</td>\n",
       "      <td>20578</td>\n",
       "      <td>OH</td>\n",
       "      <td>Chevrolet</td>\n",
       "      <td>Tahoe4WD</td>\n",
       "    </tr>\n",
       "    <tr>\n",
       "      <th>2</th>\n",
       "      <td>18430</td>\n",
       "      <td>2012</td>\n",
       "      <td>83716</td>\n",
       "      <td>TX</td>\n",
       "      <td>BMW</td>\n",
       "      <td>X5AWD</td>\n",
       "    </tr>\n",
       "    <tr>\n",
       "      <th>3</th>\n",
       "      <td>24681</td>\n",
       "      <td>2014</td>\n",
       "      <td>28729</td>\n",
       "      <td>OH</td>\n",
       "      <td>Cadillac</td>\n",
       "      <td>SRXLuxury</td>\n",
       "    </tr>\n",
       "    <tr>\n",
       "      <th>4</th>\n",
       "      <td>26998</td>\n",
       "      <td>2013</td>\n",
       "      <td>64032</td>\n",
       "      <td>CO</td>\n",
       "      <td>Jeep</td>\n",
       "      <td>Wrangler</td>\n",
       "    </tr>\n",
       "  </tbody>\n",
       "</table>\n",
       "</div>"
      ],
      "text/plain": [
       "   Price  Year  Mileage State       Make      Model\n",
       "0  34995  2017     9913    FL       Jeep   Wrangler\n",
       "1  37895  2015    20578    OH  Chevrolet   Tahoe4WD\n",
       "2  18430  2012    83716    TX        BMW      X5AWD\n",
       "3  24681  2014    28729    OH   Cadillac  SRXLuxury\n",
       "4  26998  2013    64032    CO       Jeep   Wrangler"
      ]
     },
     "execution_count": 9,
     "metadata": {},
     "output_type": "execute_result"
    }
   ],
   "source": [
    "# Visualización datos de entrenamiento\n",
    "print(dataTraining.shape)\n",
    "dataTraining.head()"
   ]
  },
  {
   "cell_type": "code",
   "execution_count": 10,
   "metadata": {
    "application/vnd.databricks.v1+cell": {
     "inputWidgets": {},
     "nuid": "62ac9df8-b2f3-42db-b2c4-9631abc1aead",
     "showTitle": false,
     "title": ""
    },
    "colab": {
     "base_uri": "https://localhost:8080/",
     "height": 255
    },
    "executionInfo": {
     "elapsed": 368,
     "status": "ok",
     "timestamp": 1651010307440,
     "user": {
      "displayName": "Freddy Mendoza",
      "userId": "10598764195432276332"
     },
     "user_tz": 300
    },
    "id": "NafukpIvCaD7",
    "outputId": "a21a6d35-7a33-43d1-9a75-c77c31fbea9a"
   },
   "outputs": [
    {
     "name": "stdout",
     "output_type": "stream",
     "text": [
      "(100000, 5)\n"
     ]
    },
    {
     "data": {
      "text/html": [
       "<div>\n",
       "<style scoped>\n",
       "    .dataframe tbody tr th:only-of-type {\n",
       "        vertical-align: middle;\n",
       "    }\n",
       "\n",
       "    .dataframe tbody tr th {\n",
       "        vertical-align: top;\n",
       "    }\n",
       "\n",
       "    .dataframe thead th {\n",
       "        text-align: right;\n",
       "    }\n",
       "</style>\n",
       "<table border=\"1\" class=\"dataframe\">\n",
       "  <thead>\n",
       "    <tr style=\"text-align: right;\">\n",
       "      <th></th>\n",
       "      <th>Year</th>\n",
       "      <th>Mileage</th>\n",
       "      <th>State</th>\n",
       "      <th>Make</th>\n",
       "      <th>Model</th>\n",
       "    </tr>\n",
       "    <tr>\n",
       "      <th>ID</th>\n",
       "      <th></th>\n",
       "      <th></th>\n",
       "      <th></th>\n",
       "      <th></th>\n",
       "      <th></th>\n",
       "    </tr>\n",
       "  </thead>\n",
       "  <tbody>\n",
       "    <tr>\n",
       "      <th>0</th>\n",
       "      <td>2014</td>\n",
       "      <td>31909</td>\n",
       "      <td>MD</td>\n",
       "      <td>Nissan</td>\n",
       "      <td>MuranoAWD</td>\n",
       "    </tr>\n",
       "    <tr>\n",
       "      <th>1</th>\n",
       "      <td>2017</td>\n",
       "      <td>5362</td>\n",
       "      <td>FL</td>\n",
       "      <td>Jeep</td>\n",
       "      <td>Wrangler</td>\n",
       "    </tr>\n",
       "    <tr>\n",
       "      <th>2</th>\n",
       "      <td>2014</td>\n",
       "      <td>50300</td>\n",
       "      <td>OH</td>\n",
       "      <td>Ford</td>\n",
       "      <td>FlexLimited</td>\n",
       "    </tr>\n",
       "    <tr>\n",
       "      <th>3</th>\n",
       "      <td>2004</td>\n",
       "      <td>132160</td>\n",
       "      <td>WA</td>\n",
       "      <td>BMW</td>\n",
       "      <td>5</td>\n",
       "    </tr>\n",
       "    <tr>\n",
       "      <th>4</th>\n",
       "      <td>2015</td>\n",
       "      <td>25226</td>\n",
       "      <td>MA</td>\n",
       "      <td>Jeep</td>\n",
       "      <td>Grand</td>\n",
       "    </tr>\n",
       "  </tbody>\n",
       "</table>\n",
       "</div>"
      ],
      "text/plain": [
       "    Year  Mileage State    Make        Model\n",
       "ID                                          \n",
       "0   2014    31909    MD  Nissan    MuranoAWD\n",
       "1   2017     5362    FL    Jeep     Wrangler\n",
       "2   2014    50300    OH    Ford  FlexLimited\n",
       "3   2004   132160    WA     BMW            5\n",
       "4   2015    25226    MA    Jeep        Grand"
      ]
     },
     "execution_count": 10,
     "metadata": {},
     "output_type": "execute_result"
    }
   ],
   "source": [
    "# Visualización datos de test\n",
    "print(dataTesting.shape)\n",
    "dataTesting.head()"
   ]
  },
  {
   "cell_type": "markdown",
   "metadata": {
    "application/vnd.databricks.v1+cell": {
     "inputWidgets": {},
     "nuid": "286ad57d-9445-4749-9260-c46ec2c78c17",
     "showTitle": false,
     "title": ""
    },
    "id": "T22Ds9zbUTvq"
   },
   "source": [
    "## Analisis Exploratorio"
   ]
  },
  {
   "cell_type": "code",
   "execution_count": 11,
   "metadata": {
    "application/vnd.databricks.v1+cell": {
     "inputWidgets": {},
     "nuid": "aebc725d-3e63-4e19-b5b6-b6143dca7804",
     "showTitle": false,
     "title": ""
    },
    "colab": {
     "base_uri": "https://localhost:8080/"
    },
    "executionInfo": {
     "elapsed": 289,
     "status": "ok",
     "timestamp": 1651010342867,
     "user": {
      "displayName": "Freddy Mendoza",
      "userId": "10598764195432276332"
     },
     "user_tz": 300
    },
    "id": "K3GJn75T4X3U",
    "outputId": "73282e69-5f5a-40f4-ad58-34fe7cf0bd45"
   },
   "outputs": [
    {
     "name": "stdout",
     "output_type": "stream",
     "text": [
      "<class 'pandas.core.frame.DataFrame'>\n",
      "RangeIndex: 400000 entries, 0 to 399999\n",
      "Data columns (total 6 columns):\n",
      " #   Column   Non-Null Count   Dtype \n",
      "---  ------   --------------   ----- \n",
      " 0   Price    400000 non-null  int64 \n",
      " 1   Year     400000 non-null  int64 \n",
      " 2   Mileage  400000 non-null  int64 \n",
      " 3   State    400000 non-null  object\n",
      " 4   Make     400000 non-null  object\n",
      " 5   Model    400000 non-null  object\n",
      "dtypes: int64(3), object(3)\n",
      "memory usage: 18.3+ MB\n"
     ]
    }
   ],
   "source": [
    "dataTraining.info()"
   ]
  },
  {
   "cell_type": "code",
   "execution_count": 12,
   "metadata": {
    "application/vnd.databricks.v1+cell": {
     "inputWidgets": {},
     "nuid": "d9fd9857-7a7a-433d-9027-0b5169a1cc17",
     "showTitle": false,
     "title": ""
    },
    "colab": {
     "base_uri": "https://localhost:8080/"
    },
    "executionInfo": {
     "elapsed": 276,
     "status": "ok",
     "timestamp": 1651010369884,
     "user": {
      "displayName": "Freddy Mendoza",
      "userId": "10598764195432276332"
     },
     "user_tz": 300
    },
    "id": "FgfIzzKS4rQk",
    "outputId": "8976ba8e-6c4d-486d-85f6-f5bef5479aa3"
   },
   "outputs": [
    {
     "data": {
      "text/plain": [
       "Price      0\n",
       "Year       0\n",
       "Mileage    0\n",
       "State      0\n",
       "Make       0\n",
       "Model      0\n",
       "dtype: int64"
      ]
     },
     "execution_count": 12,
     "metadata": {},
     "output_type": "execute_result"
    }
   ],
   "source": [
    "dataTraining.isnull().sum()"
   ]
  },
  {
   "cell_type": "code",
   "execution_count": 13,
   "metadata": {
    "application/vnd.databricks.v1+cell": {
     "inputWidgets": {},
     "nuid": "8a30f7c1-12a5-4fe4-aa6e-acb0f95a0f05",
     "showTitle": false,
     "title": ""
    },
    "colab": {
     "base_uri": "https://localhost:8080/",
     "height": 300
    },
    "executionInfo": {
     "elapsed": 301,
     "status": "ok",
     "timestamp": 1651010398084,
     "user": {
      "displayName": "Freddy Mendoza",
      "userId": "10598764195432276332"
     },
     "user_tz": 300
    },
    "id": "QYu4kdPq4xKh",
    "outputId": "6758bc64-b093-4d90-99a3-95fd605505e3"
   },
   "outputs": [
    {
     "data": {
      "text/html": [
       "<div>\n",
       "<style scoped>\n",
       "    .dataframe tbody tr th:only-of-type {\n",
       "        vertical-align: middle;\n",
       "    }\n",
       "\n",
       "    .dataframe tbody tr th {\n",
       "        vertical-align: top;\n",
       "    }\n",
       "\n",
       "    .dataframe thead th {\n",
       "        text-align: right;\n",
       "    }\n",
       "</style>\n",
       "<table border=\"1\" class=\"dataframe\">\n",
       "  <thead>\n",
       "    <tr style=\"text-align: right;\">\n",
       "      <th></th>\n",
       "      <th>Price</th>\n",
       "      <th>Year</th>\n",
       "      <th>Mileage</th>\n",
       "    </tr>\n",
       "  </thead>\n",
       "  <tbody>\n",
       "    <tr>\n",
       "      <th>count</th>\n",
       "      <td>400000.000000</td>\n",
       "      <td>400000.000000</td>\n",
       "      <td>4.000000e+05</td>\n",
       "    </tr>\n",
       "    <tr>\n",
       "      <th>mean</th>\n",
       "      <td>21146.919312</td>\n",
       "      <td>2013.198125</td>\n",
       "      <td>5.507296e+04</td>\n",
       "    </tr>\n",
       "    <tr>\n",
       "      <th>std</th>\n",
       "      <td>10753.664940</td>\n",
       "      <td>3.292326</td>\n",
       "      <td>4.088102e+04</td>\n",
       "    </tr>\n",
       "    <tr>\n",
       "      <th>min</th>\n",
       "      <td>5001.000000</td>\n",
       "      <td>1997.000000</td>\n",
       "      <td>5.000000e+00</td>\n",
       "    </tr>\n",
       "    <tr>\n",
       "      <th>25%</th>\n",
       "      <td>13499.000000</td>\n",
       "      <td>2012.000000</td>\n",
       "      <td>2.584100e+04</td>\n",
       "    </tr>\n",
       "    <tr>\n",
       "      <th>50%</th>\n",
       "      <td>18450.000000</td>\n",
       "      <td>2014.000000</td>\n",
       "      <td>4.295500e+04</td>\n",
       "    </tr>\n",
       "    <tr>\n",
       "      <th>75%</th>\n",
       "      <td>26999.000000</td>\n",
       "      <td>2016.000000</td>\n",
       "      <td>7.743300e+04</td>\n",
       "    </tr>\n",
       "    <tr>\n",
       "      <th>max</th>\n",
       "      <td>79999.000000</td>\n",
       "      <td>2018.000000</td>\n",
       "      <td>2.457832e+06</td>\n",
       "    </tr>\n",
       "  </tbody>\n",
       "</table>\n",
       "</div>"
      ],
      "text/plain": [
       "               Price           Year       Mileage\n",
       "count  400000.000000  400000.000000  4.000000e+05\n",
       "mean    21146.919312    2013.198125  5.507296e+04\n",
       "std     10753.664940       3.292326  4.088102e+04\n",
       "min      5001.000000    1997.000000  5.000000e+00\n",
       "25%     13499.000000    2012.000000  2.584100e+04\n",
       "50%     18450.000000    2014.000000  4.295500e+04\n",
       "75%     26999.000000    2016.000000  7.743300e+04\n",
       "max     79999.000000    2018.000000  2.457832e+06"
      ]
     },
     "execution_count": 13,
     "metadata": {},
     "output_type": "execute_result"
    }
   ],
   "source": [
    "dataTraining.describe()"
   ]
  },
  {
   "cell_type": "code",
   "execution_count": 14,
   "metadata": {
    "application/vnd.databricks.v1+cell": {
     "inputWidgets": {},
     "nuid": "35bf235f-cc14-45f5-845b-0f97dc6e2fa9",
     "showTitle": false,
     "title": ""
    },
    "executionInfo": {
     "elapsed": 2,
     "status": "ok",
     "timestamp": 1651010515073,
     "user": {
      "displayName": "Freddy Mendoza",
      "userId": "10598764195432276332"
     },
     "user_tz": 300
    },
    "id": "RY534H425QVK"
   },
   "outputs": [],
   "source": [
    "numeric_features = dataTraining.select_dtypes(exclude=['category', object]).columns.values \n",
    "categorical_features = dataTraining.select_dtypes(include=['category', object]).columns.values"
   ]
  },
  {
   "cell_type": "code",
   "execution_count": 0,
   "metadata": {
    "application/vnd.databricks.v1+cell": {
     "inputWidgets": {},
     "nuid": "8e74f94f-4cb7-4ee9-b797-efb4fffcd5ef",
     "showTitle": false,
     "title": ""
    },
    "colab": {
     "base_uri": "https://localhost:8080/",
     "height": 567
    },
    "executionInfo": {
     "elapsed": 17455,
     "status": "ok",
     "timestamp": 1651010556877,
     "user": {
      "displayName": "Freddy Mendoza",
      "userId": "10598764195432276332"
     },
     "user_tz": 300
    },
    "id": "ObU87RVW45LC",
    "outputId": "2bdb4df0-8d4d-40b6-c6c5-6bd2b6d9f979"
   },
   "outputs": [
    {
     "data": {
      "text/html": [
       "<style scoped>\n",
       "  .ansiout {\n",
       "    display: block;\n",
       "    unicode-bidi: embed;\n",
       "    white-space: pre-wrap;\n",
       "    word-wrap: break-word;\n",
       "    word-break: break-all;\n",
       "    font-family: \"Source Code Pro\", \"Menlo\", monospace;;\n",
       "    font-size: 13px;\n",
       "    color: #555;\n",
       "    margin-left: 4px;\n",
       "    line-height: 19px;\n",
       "  }\n",
       "</style>\n",
       "<div class=\"ansiout\">Out[11]: </div>"
      ]
     },
     "metadata": {
      "application/vnd.databricks.v1+output": {
       "addedWidgets": {},
       "arguments": {},
       "data": "<div class=\"ansiout\">Out[11]: </div>",
       "datasetInfos": [],
       "metadata": {},
       "removedWidgets": [],
       "type": "html"
      }
     },
     "output_type": "display_data"
    },
    {
     "data": {
      "image/png": "[encoded data removed]"
     },
     "metadata": {
      "application/vnd.databricks.v1+output": {
       "addedWidgets": {},
       "arguments": {},
       "data": "data:image/png;base64,iVBORw0KGgoAAAANSUhEUgAAAhUAAAIVCAYAAABm5A1+AAAAOXRFWHRTb2Z0d2FyZQBNYXRwbG90bGliIHZlcnNpb24zLjQuMiwgaHR0cHM6Ly9tYXRwbG90bGliLm9yZy8rg+JYAAAACXBIWXMAAAsTAAALEwEAmpwYAAEAAElEQVR4nOydeXwV1d3/P2fWu9/sC4EAgbAlEIQQ3FtBLfZBoIrL01YrYHnaarG1Wts+VRRt61Zbt6fuC2irVVur/qzWulStK1gXEAQEgyzZk7vfWc/vj7uQm3smAkkI6nm/XnkBc2fmnJk75Hznu3y+hFIKDofD4XA4nIEiDPcEOBwOh8PhfDHgRgWHw+FwOJxBgRsVHA6Hw+FwBgVuVHA4HA6HwxkUuFHB4XA4HA5nUOBGBYfD4XA4nEHhS2dUzJs3jwLgP/xnMH8+E/7c8Z8h+vlM+LPHf4bgx5EvnVHR0dEx3FPgfAnhzx1nuODPHudg8qUzKjgcDofD4QwN0lCenBDyYwDnIuUu+QDAEgCVAB4CUAxgHYCzKKU6IUQFsBrATACdAM6glH6SPs/PASwDYAFYQSl9Nr19HoAbAYgA7qKUXj2U18PhcAYX26b4pDOG1nAS5QEXxhR7IQjkoI2v6xbe3x1CSziJyoALU0cEoShiv8eYpo0Ne0LYE0qiMuhGXWUAkiQglEjio5YYWsMaygMqJlZ4EXS7AAA9iSQ29/psQoUXBW4XookkPuy1fUqFF770MUN5bzLzaQtrKPYr8KsSfCpQ4fPB5RrSZYHzBWfInh5CSBWAFQCmUEoThJA/AzgTwNcB/I5S+hAh5DakjIU/pP/sppSOJ4ScCeAaAGcQQqakj6sDMALAPwkhE9LD3ArgBAA7AbxNCHmCUvrhUF0Th8MZPGyb4oWPWvH+zhBsCogEmDoyiDkTyw+KYaHrFh5/fzcu+9t6JA0bLlnAqoX1WDRtBBRFZC7qtk3x/EetMEyKmGbCtClawgnMrinEP9a347Inep1rQT2+Vl8KCuA/zT0QBQGWTZE0LPynuQeHjS7AcxvacWmv8a9cWI+T6krhUVU8s6EFF/753exnN5w+HfPqKgZ8b3oSSfxjQ3vedY8rccOwoqiiHnjcyuDcZM6XjqE2SSUAbkKIAcADYA+AOQC+mf78fgCXI2VULEz/HQAeBXALIYSktz9EKdUAbCeEbAXQlN5vK6V0GwAQQh5K78uNCg7nc8COrhi2tEZxx8vbsovbBXNrMb7UhzElvkEdi2UgfLA7lF1YASBp2Ljsb+sxrsSLw6oLmYv62BI3QnEDlz2xoZfxUIetLbGsQZE91xPrMaakCR5FRGfMwC8f37uIX7WoHtva4lmDInPMpX9bjzHFTSj2mdmxM59d+Od3MWnFMagpHdi92dISY173nWc3ojUcx+4eDUeNK4Uk8eg4Z/8ZsqeGUroLwPUAdiBlTISQCnf0UErN9G47AVSl/14F4NP0sWZ6/+Le2/sc47Q9D0LIckLIWkLI2vb29oFfHIezD/Dnrn9awxpufH5LzuJ24/Nb0BrWYNsU29qjeP3jDmxrj8K2+0047xfbpnhmQwu+ftMr+O8738TXb3oFz2xoQWdcz46dIWnYaAkn8UlnjLmoR5NW1qDIbL/siQ3oiLHP1RrWkDSsrEGR2f7Lx9ejI6oxj+mM6WgNJ5mftUWS+3TN/T17bRH2uHt6EmjuikMUBHzUGt6ncTicvgxl+KMQKc/BWAA9AB4BMG+oxusPSukdAO4AgMbGxgP/7cTh7Af8ueufmGai0KPglBkjQdIe/cfW7URMMwc1LOJkINy/pAmji92YP60qO/6T7+1CsU9xXNQ7HYwHnyrBJQs5n7lkAWV+FR1R9jFumX2MT5VQHnA5nM+1T9fc37NX5FWY53YpEoooENVMcDgHylD6t44HsJ1S2k4pNQD8BcBRAAoIIRljZiSAXem/7wIwCgDSnweRStjMbu9zjNN2DofzOaA8qOLsI0bj7le34ZYXtuKuV7bh7CNGo9inZMMit7ywFbe/vA1bWqPY0RU7oHGcDATNNPGDr47PGf8HXx2PQs/eRb03LlmARxGZ22WRYNWCuuxnmbBIgUd0PkYiuGBubc4xF8ythSQAY4q9uOH06Tmf3XD6dIwp9h7QPehNaq71OedeOb8Oq1/bBq8qQZEEJE1rQN4hzpeXoTQqdgA4nBDiSedGzEUq3+FFAIvT+3wHwN/Sf38i/W+kP3+BUkrT288khKiEkLEAagG8BeBtALWEkLGEEAWpZM4nhvB6OBzOIBLTLGb4o/efvbe3hrUDGsfJQHDJElb2CWWsfGIDwgnLcVH3qxLTEJBFAbe+tBXLjq7B+XPGY9nRNbj1pa0IxS3HY1yiAK8iYvmxqWOWH1sDryJCEUUIAsG8ugo8veIYPLR8Np5eccygJGkCgCQQjC11486zGnHtqVNx7eIGPPbODsydXAG/W8IVT26AYaZyUDic/WXIwh+U0jcJIY8CeAeACeA/SLnj/h+AhwghV6W33Z0+5G4Aa9KJmF1IGQmglG5IV458mD7PeZRSCwAIIecDeBapktJ7KKUbhup6OBzO4BLTTKYHoSvGjvnH9ZRb3qmk04mMgdA36dJp/KhmZhf1SSuOQVskiTJ/KrnzlS1tqAi6sPzYGtgUEAhQEXShNaKhuTOBW1/cmnO+jpiG6iIVNaVeXL+4ATHNhNclQRYJDGqB9nEGUAp0JXQAgCAQ1JT6BpyYmY+NpGHBpKlafwLgxCkVKParaO6MobkzgS1tURR65SEYm/NFZ0irPyilKwGs7LN5G/ZWb/TeNwngNIfz/ArArxjbnwbw9MBnyuFwDjZFXpUZ2y/1s/MJqou8ME0bj7+3K6+SYlFDlaNh4WQgbO+IOY6TOa7vou5WJPz9zU/wrcPHojtmoNAr48E3tuPcY8Yzz1XsVWFTAZGkmTfnEUEXnnx/F84+sgYJzYRHlXD/a9vw03mTB+0esxHQEUni53/9IGc+z67fjdryArhkAaZt73P+BofTG14zxOFw8hjM6gsndMvCijm5YYEVc2pBQZmhh7ElXmzYE2JWUmzYE9qnMXt7BkYVuLFqYW5uwaqF9RhV4HY8XiA2jp9cif9Zsw4/evhd/M+adTh+ciVsm30tmmlm59h3zppJcXrjaPz00fdwyV8+wMWPvofTG0fD7+pffGugUIqsQdF7Pt+cPRZvbmvHVYumYmK5f1DyNzhfPrh0GoczTAy3mmR/8xoq4aXeqJKIh9fuwLKja0BIarF7eO0OHD2+mOlZEASCPSF20mVLKImGUexxnK5nZKELt764JWf8W1/cgknlPkwbVcg8FyEis6R09dImvLCpBdcubkBCN+FRUl6HWWMK0RHVmVUuHVGNqW1x/5JZg3ODHWjvVcpaGXRl52XbFJecNBkxzTxknkXO5w9uVHA4w8DBWrgPBKcSzMEQXuqNYdo4c1Z1Nikzk8BoWNQxn6Ay6GaGGSqCLkcjzel6bjxjOjMPYk9IwzQHAyUUNxxKTTUsnlmNnz76XvZaLj+5DknTRJFXxtlHjM67zqBbYp4rnEjljgyV0elVUqWshR4FZx0+Gje9sCUnDDKq0J0NAXE4+wsPf3A4w4DTQncoZNwPVHhpXwklDax+vTmnYmL1680IJw3HYyaX+5khi4mlfqbAlW1Tx+vxuSRmVUjA7fyu5VXZxxR7VfzhX3urP849pgZ/+NdWuCQJoiAwq1lkkV1q6nNJjoJdgxGG8rkkrDy5Dqc1jswaFJl5/fLx9ZBEvixwDhzuqeBwhoH+Fu7hzrgfqPDSvjK6yIvuuJ7jKeidKMliZyiBf364G7efNTMnUXJiuc/Ru1IecDFFrgIuGStPrsMVT+6V3F55ch0K+jEqygMqrlpUB5ckZSs5koYJ3TRxRmN1zlv/ijm1iGkmEqbN/K47ohr+9+uT0R7VsiJfJT4VmmENqbcoqpl4bN0OfOfIGrbXJapjR1ds0KXSOV8OuFHB4QwDB2vhPhCcSjAHO3FvbAl7nLElzuN0xjRMH1WM/1mzLmfx7nQoQ22LJNFYXYQfzqnNq75IGBZuS3sXMjkVt/1rK649tcFx/HKvCtsmuKhXmGPVgnr4VDnvrf+mF7bg3nNmQRIF5ncdcEkIJYyc3idXLKhDkddZ0bM1PHCjU7cszJlUga1tEea8Pm6PIqqZqC7ieRWc/YcbFRzOMHCwFu4DwakEc7AXmAMZRxGFnOROIJXc+dvTpjsaaTu648zqi5vPPIyZU5HRw2CxviWMW1/akjP+rS9twdWnTGNrXiRNlPpVXHjCBNzw3Obsd33hCRPglkWm+NZ9S2bBo7AlvD2f0ZZ9X3DLEm56YQsKPQpWzKnN8a5ceMIEWDbFL/76AaaPKhh2rxnn8wc3KjicYeBgLdwHytAJLw1sHM20mWEGm1JHI+3N7Z3MBd/rEh20JZzbfnfFDeb4Ec1knqvQKyOi6Sj1qzmCWaV+FS0O3oiOqI7yAMlb8FfMqYVh2X2ntN9Ekqky1z2hJNa80Zw1kCaV+9Ed1xHTzUMmFMf5/MEzcjicYSKzoB5eU4KaUt8hY1AcygiEMMMMAnGWtXaS6VZFEZfMm5ST9HnJvEnQ+1m4Cz3sMEeBW8aFJ0zIOVfmrV8SRPz+n5uROa1Ngd//c3NW/KvvvEp8Coq9atYjk0lifXjtDhR51QHfQ3+vBNU9oSRufTHV94QCuOvVbRhR4DlkQnGczx/cU8HhcD43OEl4d8X07L/7Sl87hZpKAwoKuuUcD0KBR0ap33nhdpL2DiUMqKKQcy5VFJAwLNiUMr0bhmVi1YK6rO5FpgmZT5EwptiLS+dPyXZqlQTg0vlTBiU8FtNMphfk+n9swhmN1eiMJPHrb0w9JEJxnM8f3KjgcIYJXbfw/u4QWsJJVAZcmDoiCGUQYuafJ5JJEx/sCaElrKEioGJqZRAul+R4b8oDDjoVAbXfduknTi7Hw8sPz+kXsmF3CL//5+ZsVUjGg3DTGYdhdDF7vk65DkG3jOc27MaiGdXoiGgo9av46zs7MHlEAARg5oE0jmlAoUfH6iVNaI2ktChC8Tg0M3Vu3aQ5SZw3nD59UO550C3jhU0tuOecWdjZFYdbkXDnyx+juTOBm17YgvuXNKHMr3LPGeeA4EYFhzMM6LqFx9/fjcv+trciYdXCeiyaNuJLY1gkkyae+GBPVlUyU0nxX/VleGtHN0QiwLQoYrqJf29vx1FjS7M6FX3vW9At4d8fd+YswhfMrcW4Eh9GF3vx7Iet+Mkjez0Vvz1tOgJugelB6IqnuqGyGpdplomV8+twxVO9ylDn10EgNhrHlGDpfW/neB1AbBgOeSCmZSJhCPhgdwdsCmxti2JcqQ8BtzCkJaVuheCMWaNz5rpiTi3aozr2hJKIJA2EkzpsmqrQ4cYFZ3/gORUczjDw/u5QdmEE0hLNf1uP93fvWw+LLwIf7AkxZao3tcXQFtaxPN1fY/madWgL69jaEcHOUCIrrZ1tMf7iFuwJa0yBqd2hBLa1R7MGReaznzzyLtwyOz/C71KyjcvOuOMNfO+Bd3DGHa/j8fd2wSVJuO3l3Bbnt728FTYVmPLdoAJkUWKOI4sSdvUkcMfL23DLC1tx+8vbsKsngUjSHlIBsoQOXNrn2bvphS04ZcZIuGQBXlXCd1e/g/+6efAEtzhfHringsMZBpwy/1vDg6taeSjTEmbnR3REdPzfS1tzwgX/91JKPyKUMNktxqO6Q0mnhbgecxSfYm3X0x4KVhnqDac3MMdvdbiW1rAGWSTMz7rjBh56Ozcs8tDbOzBlRAAj08mSfcMspb6BJ092RDVmLxJRAFbMqUUoYWTnOBTy7JwvNtxTweEMAyOC7IqEiuChkXF/MLqUVgbZ1Q9eVcQZjdW4+9XUG/xdr2zDGY3VCCUNlPnZ963S4X6mxnCQw3aQ3PaqomPjshIfe87lAeftfgc58KBbwtIjxyKjii0SYOmRY2HbFKIAXDA3t+vpBXNrMRgK2kG3hO9/pSZn3O9/pQZHjS/GC5ta4O4VfhsKeXbOFxtuVHA4w0CBW2YuGoVueZhnhkHvO+FkoJR4Faw8uS7nHqw8uQ4eRXQs23RabIu9Cq5alNsT5KpF9ZhSGUShh32v1XQuQd925bplo9TBeEjoJvMY07JwxYLca7liQR3csgiPLLLHFwXEDSsn/BE3LBS4ZewJJZl9UVoGwZPllkXE9NxxY7qFj/ZE8IPjanHfq9tzrpmXlnL2Bx7+4HCGgdaIll00MhLRq19vxmHVBagp8w/r3AYzSbC/bqx7whr+9GZztl24W5Fw18sf43tfHcfuSRHTYNnU8b4taqhCbZkPLaEkKoIu1FUGIUkCJpUHsL0jllPuObLQDa/i3HrdopSZkOlSJOYxM8dMgyr1KSmVBHTFNOiWzZxz3YgAMw9k6tmNGFHgZvZFGYwFPqpZzHGvW9wASile396VHe9QUXnlfH7gRgWHMwyUB1xDtmgMlMFsdvZJZwzXPLMxJ2/gmmc2YlKFH+UBFza3RbHiT//J7p/KG1Ad8wmKvIrjfRMEAr9LRly34HfJ2aoFSRJwwsRyVARcOaWrG1rCjq3XC70KXvxoD24/ayZ6YgYK0o3LKgvGYOmRY9EZ17P6EUuPHAsBBD/7ywd5c169tAkugDnnhGEx73NcszCm2Iub//swfLBrb4lsfVVwcHQqdLbWhmZaqAiouPHMw2BaNiZXBg4plVfO5wNuVHA4w8Ch3PtjMJuddcY0dtlmTMOM6iLmPaivCGDVgvq8UtP6igAURWQeU13ocfSI2DbFUxv25DUUG1noYnoQJlX40TCyACfWjchpXHbVonr4VQmaZeeUrl54wgT0JAzmQt0e0VAZVJgiV5k8jL73ucSfqj7piec2G7tyYT1M0x5wybGT0VbmV3HNMxtxemM1xpR4eHIm54DgRgWHMwwcyr0/BtPgcWoAdtT4Ysd78ElnLKdpF6Wppl2NYwpRU+rD8RPL8MCy2TnCWDu6444ekUjSwM0v5DYBu/mFLfjtadMdW6/v6I4zj7n21IZsYzAgZTjc8NxmrF7axGyvXupTYVrAn9fuSIV5NBMeVcL9r23DL06awmw0Rmmq5Lhv2eelf1uPsSVeNI4p2v8vtRcWpcxxN+0JY3ZNKS57YgPWLG0a0BicLy/cqOBwhomD1bRrfxlMg0e32MJPmf4atk0RSRroiRtwyxJsm6I1nHQo20yiutCDJz7Yned1qCnx4pwjx+KaZzZlt18ybxI6YxpiGrsJWDSp49rF07C1LZoNMYwr82FUgRvv7uphHuNUhhqKG/jBV8dnu45mEjVVmaA1omPOpAr8tFe79BVzarErlMS9//4kx3i699+foDLoBiEYspLjtrDGHPfUmSOz43bGtAGPw/lywo0KDoeTx2AZPIooMCs5Hl5+eFZgqq+BUFvmd2z77aQf8eCy2VmDIrP9mmc24U/fnQ2Pwha5WrO0CZvbYnmhjM3tERCAecwDy9geCZ9Lwg8f+k/O/iuf2IC7zm5EgVtmemuuW9zA9JSUB1SIhDDvQXlg4Dk3pX4V3XEdf3lnZ1ar4vTGkfAqInSLpkIwg9C4jPPlhBsVHA5nyIjrDsmIuuVoINz+7Rn48fET8Lt/7nXP//j4CTAs21Hkqt3Bg9Ae0WHaNvOzrpiOB99szlnsH3yzGZMrA4gk2TkSBMD3vjIeVzzZqyrk5DpY1GIKSsU0E0mTML0olm3hyoX12TBHJm+CwkZpwI1rTp2Kj9tjWS9KTakXZQHntuz7Sjhp4IqTpyCUNHNCIFctqodt27hu8TSYlMK26SERjuN8vuBGBYfDGTKckj7LAy5sbo0wF26XLMIt55ZnumUBJT4ViiQ6ejFY212yAFWWmZ/5XBIzxGHbtmMyo2baWYMiM98rnkzlIJx9xOi8SpJSvwIKgvP/mOvFuOaZTfjjubNh24mc67RtGwIR0BrW0BXLTdS8ZN4ktIU1VBcNzHtU6lOhSgJWrl6XZ9D99GsTMbLQg564gU86Y4dcaI5z6MONCg6HM2T0l/QZSZrMhVsSBdz97+053UPv/vd2HDW+FH5VwqoFU+BRZMQ0E16XhLhmIOCScMHc2rxFPeCSkTRM/OYbU7G9c+9b/5hiL1ySyAxL3HjGYRAEMD0FEYfW591xA89vbMlLxmwcXejYrr0jqmPlkx/mXf+apU1QJAH3vbY9Z273vbYdN5152IC/k6RhY3cPu2y41O9COGmi1KceUAkxh8ONCg6HM2T0l/RZVxnAVYvq83IqLJsyPQjdcQ2iQGBRgot6JT2uPLkOalrivPdbf0XQhQK3BOqWsWFPJOet/+KvTURlUGWOY9g2Stwquvt4Cn42bxJqShW210MVcerM6pxkzJUn1yGum3A7eFHUPtuAjIGio8Cj9JvgOhA6oppjC3evIuLdnT2oLvKgcXThgMfifPngMt0cDmdIySR9Hl5TgppSX44o1aKGKjy8/HDc/u0ZeHj54VjUUAVVYid3yqIAywYz/NATN/HEf3Zh5uhCjC/1YeboQjzxn13Y3hmHTYHrnv0o55jrnv0IosAeh4AgkjRwdZ/Ez6uf2QSfKuHCEybkSG6n/i0y5+VWJPhUiSnT7XfoPVLgUSAQ4ji3gVLqV7GnJ86ck9cl4aVNbfjl4+sxCPYL50vIkHoqCCEFAO4CUA+AAlgK4CMADwMYA+ATAKdTSrsJIQTAjQC+DiAO4BxK6Tvp83wHwC/Tp72KUnp/evtMAPcBcAN4GsAFlFLep5fD+ZwgSQIaRhWiYdTebTHNObkz5CAyFdVMNNUU54hVZcIfbREnhVB2WKIrpgOgzM+ShomKgJrrEQmo2O3QgKwtoqHAI2FEQa4XZUSBC6ZtMaXAk6aJpO6cXDpQErqJsoAL4YSRM6eqQjcMy8QxE8rw/q4w2iJJjCvj4Q/O/jHU4Y8bATxDKV1MCFEAeAD8AsDzlNKrCSE/A/AzAJcAOAlAbfpnNoA/AJhNCCkCsBJAI1KGyTpCyBOU0u70Pt8F8CZSRsU8AH8f4mvicL4QmOkW33tCSVQG3airDECSDq7zUtctvL87lCNk5VUlZtmmRxHhUSScOKUE3zp8LLpjBoq8Mh54YzuCbpnZz+LBc2f3myzKGqc8oMK0KPMzSRTx08fy5bjvXTKLOUaxV4EkEPx7SxsWzahGZ1RDsU/F4+/swOLG0Vkp8N7Xcu4x4xF0sUMm5YGBl3q6FQk3v7AFPz5+AmrL/eiM6igNqHBJBKYF+NNjewao3Mn5cjJkRgUhJAjgWADnAAClVAegE0IWAvhqerf7AbyElFGxEMDqtKfhDUJIASGkMr3vc5TSrvR5nwMwjxDyEoAApfSN9PbVABaBGxUczmfipBGxqKHqoBkWum7h8fd347JeJZWrFtZjapWfKSRFCDCu2I3jJ+fKZ69aUI+YxvZgdMd01JWzZb8nl3tx3nG1eeNPLg/g054Izvvq+DxpbdNiJ2q6JYKVJ9fllZoG3RJkEWgcU4Kl972dcy5JoDhuYmXOtaycXwfDsjC9qgCrFtYz5zZQIkkDZ8yqxs6eZM49vmBuLaqLPCj1q7h28TRIIi8n5ew/Q/nbYyyAdgD3EkL+Qwi5ixDiBVBOKd2T3qcFQHn671UAPu11/M70tv6272Rs53A4n4GTRsSGPaGDNof3d4eyi2ZmDpf9bT0iSSu72GW2r3xiAzTDxoaWaNY4yB7zxHp4VZmZnxB0y1jfEs7KfmfaiN/60hZ82BJljr8zlEBnzMoaFHvH2QBJZOdBECIg6JZw/eIGXHPqVFy/uAFBtwTTouiKWbj1pa3Z8c89pga3vrQVpkWyoY/MGFc8tQGyIOLTngRufbHPnF/cgk97EgO+736XjIqAO+8e3/j8FnzUGkFzZxy7uhOIaVZOq3oOZ18YSqNCAjADwB8opYcBiCEV6siS9koM+RNLCFlOCFlLCFnb3t4+1MNxOAAO7eduj0MOQEto4DLQ+0qLQzfU1jA716Etojl+1h03sGJObuLhijm1iGgGWkJJ6ObeXzOEALpJHXMqWsNJx3HaIxpznFDCwD2vboMNADT1S+2eV7ehJ2EgZhj4ZtNo3P3qNtzywlbc9co2fLNptKNgV1tUQ3NXLCtVfssLW3Hri1vR3JnAjq7YPt3b/p493bIQcfDsSIIAjyIhpltoC2tYct9beGZDCzcsOPvMUOZU7ASwk1L6ZvrfjyJlVLQSQioppXvS4Y229Oe7APRK18LI9LZd2BsuyWx/Kb19JGP/PCildwC4AwAaGxv5/w7OQeFQfu4qg25mzL4iePBar1c65jqwhafKAy7YlDI/K/TkSmFTmtKcuOnMw1Dgpg7CVOxxPIqIEUH23Er9Kq59dlPeOFNGTMHJ06qwtS2S1bU4eVoVbErhV2T88a1c5c4/vtWM6xc3MMeoDLhg2uycDo+yb7+y+3v2CtwKRCIwx55Q5oPfLeHN7V0o86v4wVfG46OWMKZU+jGmhCdtcj6bITMqKKUthJBPCSETKaUfAZgL4MP0z3cAXJ3+82/pQ54AcD4h5CGkEjVDacPjWQC/JoRkiqZPBPBzSmkXISRMCDkcqUTNswHcPFTXw+F8kXDSiKirDAJINfr6pDOG1nAS5YF9ayjmdIxTQujUEUFm3kB9hZ/Z6GvaiCDWftqJKxbU5eVbSCLFD+fUMq/n3Z3dzCTO2759GH4+bxI643p2nCKPAsOyIQnEQUxLZOZhBF0K3IqGCT5/H1EuGd1xnak5oZkmfjZvUrZ0NaOFIQpAiV9lyoFXBAeeqBlJmkiaJi6bPwWrnvow5/p024ZHETCp3I+LH3sPzZ0JuGQBo4u9qC46NLrocg5thrr644cAHkxXfmwDsASpkMufCSHLADQDOD2979NIlZNuRaqkdAkApI2HKwG8nd5vVSZpE8APsLek9O/gSZoczj6R0YioLfOhJZRERdCFusogJEmAbVM8s6ElTwVzXl2F46LidMzxE8uYXUUXNVRBUUQsqK/E2GIPWsIaKgIqplYGoSgiRCLkCE/99rTpkCQBLknC8xtTFRM9cQMFHhkPvrEd48tqsWDqCIwp9qIlnERFwIVpI1LX0x1ju/rdsgTNsvMaipX4VGxqiWD16805HonVrzdjSqUfQZeI6xc3IKab8CqpREyT2pAlEZt7eSrGlHhhURt+F7uh2OE101HolXPKOgu9MuKGCb+lMHUv/t8Pjxnwd69IwO6Qidtf/hjLjq6BKADTRxXgqXd34cbnt2D10iZYlCLokgEkkDRs/OKvH2D6qAKusMn5TIbUqKCUvotUKWhf5jL2pQDOczjPPQDuYWxfi5QGBofzueNAvAGDCUsjAgA+6YxljQMgtaBd+Od3MWnFMY6LitMxDyybzUwIrS3zYWpVAZ7f3IafPPJeL+OhAXUjAvjJI7nn+skj72Jy5TEocMs4rDpfj6LALeOfH7UxDaGAm937QyAk21ArM84Nz23G3EnlCHpkZgdRtyzhfx54J+9ca5Y1IZIwcu5JJGEAhW7EdZPpqUgaFi5hlKeuXtLkqK3RHh24doRlE/zvX1PjZq7PJQu47dszsbU9hq6YjosffR/XLm7Aij/9Jzs2l+3m7AtcUZPDGQYyb/Zfv+kV/Pedb+LrN71yyCTEtTokULZFnJM4nY5xSsZsCSWxtS2cNSgy23/yyHuOSaSt4SRaI1rWg5Cpilj9ejN2dMWZRs0nnTGUB1SmemTUoY9HWySJhG4yEzKdkitNy0ZMt3DHy6lkzNtf3oaYbsG0bKiSyFTHDCfZ47dGtKy2Rm9csoAy/8BzXpySUDuiGs6fUwuvKiFp2NAMa9DH5nzx4b0/OJxh4EC8AQfK/uY6OIlF9beoOAlJOSVjVgZd2N4ZZy5ukaTJTlKURfjdMhRprzeHEECRCDyKhAllPpx77LhsQ687X/4YbZEkmsYUY3ZNAe6vbsr2H5ElCpGw+194FBGySPDCpvwGYT+dN5l5jGUDD72dG+J46O0dmFo1FXHdZLZFz8h0sxJVRwbdzHyTkUH3vn3p/eCUCOuSRPhdEgQBaBwdREXAlf0s0wSOw/ksuFHB4QwD/XkDBtOoOJBch/46izoxMuhmJjCWBhRmwqPfJSNuWMzFrcgr4XvHjmfKV9cVBpkJmSMKVfz37NF5Db0qgy7ouoWtrYk88atxpR6smFPLbNolChRnzMo935UL6+FRgFUL6vJEsXTLYjcnsyxUBlVm9UmxT8aVC+txaa97duXCelQWiNjYGs7qVGRyOm59cQsmlvvQMGpgjb4qgmJeku4Fc2vxq6c3ojuu48ITJuCir02Cadt45HuHo9irHvTQHOfzC/mytcpobGyka9euHe5pcL5YfOZv277P3bb2KJbc91be2/i95zQNqlGxrT2Kr9/0St7C/cCy2fj23W/mbX94+eFoGFWY9W707SzqxHufduOMO95g5gdc8PC72bd0SoG/vLMTvzujAYoo4M3tXXmLbePoQpx1z1vMcxX7VPzXzftxPd89HLpls8+3tAkXP/pe9jugFHjq/V347WnTQSllHrNmaROeXb8Lx9dVoT2SRKnfhX9u2IWv1Vc5jkEp8J178z97YNlsbGuPpNq4p5M+47qBCWV+tEQ0XPHkh3nejctPnoKv1Vf2vvX7/ey909wFi1K8sqUDVUE3doUSeGTtTuxJa5S4ZAF3nDUTspjyAA3UiOF8IXF87ringsMZBqoLPcw37upCz6COcyC5Dr0TN/f1ncMpD6IjpqGqQMXECn82jFBVoKLM78KHu8PMCotRhR7mubrjOmI6Ow+hxUnMK5yEYbGbg3VENaYceNIwEEmyG3p1xnScUFeR3UYAnFBXge64zty/J67DtCkzNBNKpI7Z2bO3YqTYqyBp2hhZ6GZ6N6oKBh7+iGom2sIJTB9VgM5oqpy277xDCRM+VUQ4kcxL5OVw+oMbFRzOMLCjO86siphRXTiongqn/IgKp+1B1wGVlDqJaVUF3Ti9TxghkxvQGdWYFRZlDjH/Yp8K07bZ+R4Ox1QEXdBM9jGlPhWmZeGOs2aiK93Qqyeuwe9SAJjMY4JuCc2dibzwR225j7l/iU+FKBBmaKbUr2JzazSnpPWCubUAAWxK8fzG/JyOo8YX7+tX74hNbRBBxA8efCcnVLPmjWbsCSXT+RUCEoY1KEYM58sFr/7gcIaBA6mwOBAy+RG9qxhuOH06po0I4qpF9TnbM2JRTkmkn3Q6S0RnxLT6nk8SCbO/xsbWMNS0Z6D3MVcsqANgY+X83O0r59dBFICkYTGrMihsx+uh1GaOo4gEMZ1i+Zp1+NHD72L5mnWI6TRruLAqRlRRZPYEsW0w96cU0AybqTmR0G2mKJdpUYQSOhbPrMZPH30Pl/zlA1z86HtYPLMa4cTAW5+7ZClbUpoZ96YXtuCUGSOz960zmgp7TSz1D3g8zpcL7qngcIaBA6mwOBAEgWBeXQUmrTgmLz/CSfzqQJJIncS0/rmp1TFcMbHCD7dMcMdZM9EdN1DoSXkKRCLitpe35oRFbnt5K2468zAEXGw57sNrpjtej0uSUOpXUuPEDBR6ZZi2jYTJXuzvWzILmmHBI4s5wlQeWURbjF2OuTuUZIZyRhZ6QAgc7if7XAndQqFXweVPvpMzt8uf3IAHls3e/4egD5EEWwysusiNZUfXIOiWYVgidMvCS1vbceIUZw/Vochw67982eFGBYczDBxIhcWBIggENaW+PIPASfzqQA0e1vn66zFi2cBPH1uf99kfvjUj20yrN3HdgiwKOHNWdV6uAaXO1yMKBK1hndGW3CFvIqqjzK/inte2Z5M4LRu457XtuM6hX0d5QGWGcsoDKiyb3a+kLKAyS2cLPDI6HPQwOqMD91QEPQpcspBT5ioSoCum4+5Xt+HOsxvhlkVEExY+3BPGhHL/50b06kBCd5zBhYc/OJxhIONBeHrFMXho+Ww8veKYQ+YXn1PI5EAMHqewSF1l0FE10quy24uX+V3ojutM8auuuPNiG9FMpkei2KsyxynyKojqBs5orM52Fr371W04o7HasRtqoUfEqgW517lqQT0KPSI8soiVJ/cJ55xcB68s4HtfGZ/TvfR7XxmPmG5mNSz6zs2rivv7FeQRShhYtWAKzj5ib+fU21/eBlEguG7xNBS4JSgSQYFXgk0x6CG5oeRAQnecwYV7KjicYWaoq7qd3MFO2wWB4MTJ5Xh4+eE5wlj9HeOEJAn4rykVqC7yoDWsoTygYmpFSmTLo7DFnxRRYGpbiAIQdBC/KnDLjnPoirErM+K6gZUn1+V5MDyKCBAwxa8ax0xmbp81phB/Xtuc2q6bcCsSVr+2DWNLJkMkBCKhOf1C4rqBhEOuxeolTRAE4OKvTcR1z36UndvFX5sIVR74e2DQLePTrnhePscNz23GBXNrUe53QRQEJE0Tkyr8KP8MD9WhFG44WPovHGe4UcHhDAMHy03rNM6Jk8vx0pY2vL8zlC1nnDoyiDkTywEA/9jYyjyGtb2/Oeu6hSc3tOSJYi2aNgKaaTHFp9p7SXH3zk+YPqoAIwpczO6dZQHn7p1VBewQTIFHgW7aec3BAi6CUMLCt2aPyWll/q3ZY+B3CTi9sTq3mmVBHdoiGtY2h7C2+T85Y7dFNLhlAb/759Y8rY7L5k9ml6EmdFQVuFFT4snJA7FsGx554J4KEBulfpU5tmFRtEU0EAJ0RDTc89p2/HBOLUYVeiBJ+QbNoRZuOFi5ShxnuFHB4QwDB0um22mcR793BLYwyhnHl/pgU+CaZzbmSE5f88xGVBW49nvO7+8OMas/akq8EAlhJl1et7jBQYpbhGkBt/1ra87cbvvXVjSNaXJ8YyYETI8EpcCv/74pL6fhusUN8KsyNuyO5N2fqkI3s/pj9dImdtmqP2XssPItin3sMtgCjwJKKVoYeSClvoG3PgcVQAhhjl1T4kVZQAWlqbf++dOqsg3gWCJYB1Nufl84mLlKHDbcqOBwhoGD5aZ1Gqc7bjDLGWdUF0IQwJScbnNoRNUadp5zSzjJ7HvRGk7CrQgO3TtN/Oj4CdjeEct6CX50/ATYlKIrruHco2vQHtWyn517dA264hq2fxRlel4+7U5gT3cU96e7f5YHXHh1cytKfApz/FDCgFsWmffn+sUNzHsQ001csaAuT0grrpvQTMr0yPQkDMftli0xQyP3njNrwM9EW0TDzu44c2xJJFBEiqhuYWypF13xHiQNG592J+B3yXmhjUMt3NBftRPn4MCNCg5nGDhYblqnRl9Jw3LIMzBR5FWYXTWd3sZl0TnOP6rAWRmSEIJ3P23G7WkXf5FXxgNvbMeRNUX4pCOec55IwoBACDyygKhm5nkQ3LKItZ90Mz0v40s9iGtmVio7E7Io9Sn44Z/Y19kd15nGUIlfcRATU6EbVl4opdyvIqJZjh4Zp+1O5aZdsYFXf5T5VWxpjeDxd3fljf2dI8YgqplQRIJSv4oyX+p6N+6J4KJH3ssLbRyK4QanaifOwYEbFRzOMHCw3LTVhR5cdOJEbGmLZt/gLzpxIsaXeJmLQXWR17EqI+TwZh1JOi90HkVivvEfP6kcowrcOH7yCPzPmnW9Fvt6EIJsG/HeBkLSsGDalHm+6aMKHD0vBMCtL+WGTG59aSt+tWgqO6chrqPIKzONoaBLwjWnTsXH7Xu9KDWlXkSSlmMoxaYWUw7cJQM/PK4Wv+yVb3LVwnpQ2Cj3s0MjZf6Bhz8My8L0UUGMLPTglhe3YP60KogC8LN5k/GHl7Zic1sUvzt9OgghKAu48PN5k3Bb+rvoG9rg4QZOX7hRweEMAwfLTbuzJ46d3Ym8Bbp+RJC5GIwt8YIQMBe0Io/CfLO+6czDALCrAHb2sNub7+qJI66b2c6hme2XPbEe9y9pYhoId57diJjG7v3R6VjhYUK3qGMHUaecBoEQ5hxmji5A0rBz7ucVC+oQ1QzmGFHNgE+Vse6TDtxzzix0RDWU+lT89Z0dmFTuhyiSHIEtUSRQRRFxh3CKYVkDfib8qowNXRE8tm4Hlh87Dlc+9WFuouwbzdjYEkZ1kQddUQ26RbPNxvqGNni4gdOXfTIqCCETAPwBQDmltJ4QMg3AAkrpVUM6Ow7nC8zBcNO2hjXHN3inxcDp7XPqiGCO10MSUl6PusqgYxVAiU9hhl88ioRdoQTTEGjvR2myyMsOP5Q5vNlXF3nRGdOY4Zz7lszCz+dNQmdcz3odijwKQgkDlLJVMHWTZhf6zLaV6URNZshoSRMkgeLoCeV4Y1snbAp83BbF0RPKkTAt/PwvH+TN+d5zZkESRfzfS7mqov/30lZct7hhII8DgJQX6IonN+D848ZnDYrec15+bA0sG/jl4+tx7eIGbG6N9LnXuaENHm7g9GZfPRV3ArgYwO0AQCl9nxDyRwDcqOBwDmGcunrGddNxMXB6+wQAgQg5b+m/PW06BIFgewe7CuD2b8/A944djyue6lXFML8OCdNEiUP1Q6mDgeBTU0JSVy6sx6W9QgZXLqyHXxUdPS9b2iLMexBJmtCsXK/DhSdMQJFHcWxcFne4n045EO1RDSOCLuxieItcsujodVFEwlQV7elH5Gtf6Yql8kXKAy7m+NWFHvz2uc1IGjZ2dMaQcTrw0AZnX9hXo8JDKX2LkByXljkE8+FwvjQcDNGg0UXOuRP9wTI4trVH8ZNHcg2HnzzyLiZXHoPmrhgzsdEtS7jiqdweFlc8tQFrljahLKAySz29qohfnDQJv/77puz2X5w0CW5ZhE0pnvtwN24/ayZ6YgYKvDIefGM7JpZPcBTscvJuBFwSbkgvnpm53fDcZty3JFVhwRLg6s9TwvLIlPpURHWL6S26fwk78bXMr0IgQOPoIM4+siZHZKvIo+zX98+izK/itMaRSOgmVswdn219/ti6neiO62gJJ7PdSuurgllhsbmTyjC1qoCHNjj9sq9GRQchZBwACgCEkMUA9gzZrDicLzgHSzRobAk7lDG2ZP/fNp3KB1vDSQRd7MTGiMZuXhVOGmioKkCRV86tmJAIABsFHjkn16DAI8OwLZhUwPRRxTnJnSvm1MKi1FGYy7AsZn5C0jCZhlAkYcKi1EGAK8g0NgJuAed9dXxeS3S/W0BPFzvfI5JkK3rqpokCt8IU2eor3X1AEIrpI4PoiOp53pMRBS7c/cr2VNLoonoIhKI1ksAja3fiiJpiblBwPpN9NSrOA3AHgEmEkF0AtgP49pDNisP5gnOwRIP6S6TbX0+Jk6y2RxFBAObbuFMZqt8lY2NrGL9+emP27Z5S4Kn3UxUTP30sP9dg9dImKKLAlMluGlvkeD8VUcQja3dkJbQ9SuqYX3x9CtMQKvYpMG3KFOAKJ038/YM9OePf+fLHmDm60FEUK+CW2eEcl4R/bNidl8A5vnQ0YrrNPN/9S5oG8DSk6I4ZCLoV/OCP/8n7vi6YW4uff30SLBtQZIK2UCrcclrjSMiiANum3LDg9Ms+GRWU0m0AjieEeAEIlNLIZx3D4XCcOZiiQaxQxoF4SnSLLattWKkERqfcjZXz6/JzKnQTXTGbmTfQ6iCy1RXTUR5QceqM3Df4lfPrkDDYHpHWcBKaaWLOpIqcY1bMqUXcISxx59mNqAjIOO+rtdnqlEy568hCN06aWplzrgvmOguDtUU0+FSBed8EQjF3ciW6ojoSmoVOomPu5EqoMvBpl8b0onREtX3/4h0o86vY1cN+/mK6hfaojtWvbceZTWMQiuvwuSSMKfbineYutEW0Q6bxHefQZF+rP34N4FpKaU/634UAfkIp/eUQzo3D+cIy3KJBn3TGmFLckyqc21wXe1VmSem8+gpEkqaDF0PCbS9vyDnmtpe34rpTG+BRgBOnlOBbh4/NEb8qD7ATNUt8KiwbWQMF2Juj0b8wl5QzbyA173Flk3HE2CKcc/Te8e99dTsSuoXuuIBbX9rSR9tiC65b3LBfHpkyn5rbnKyXp+So8cXoiifywh8VQRcqgy6mF6UyOBjPR0rynDVfryJia1sUPzp+In7/z49wzpE1AFLt40NJCzcMowQ35/PBvgboTsoYFABAKe0G8PUhmRGH8yWgutDDbAleXeg5KON3xjQsPXIsMmKYIgGWHjkWnTHnN+ExxV5cOn9K9hhJAC6dPwVjir2wqc1s790Z1bLeiFte2IpbX9yK5s4EOuMaCjwi5k+rwrrmbmxtj2JdczfmT6tCeYDdRjzoFhyFudojWk7OQSYHwaYWdNPKaWN+1yupNuaj0l6H/1mzDj96+F0sX7MOJ02txKgiF7rjBr7ZNDrnmG82jXbseGraVlrQau/4VyyogwULMd3EqTNT3pVLHvsAFz/6Hk6dWY14urQzx0B6cgPiuoWkwfaiJI2B61TEdBOXP7kBF504MWe+F8ytRUXAhZc2teHDPWEsnlmNIq8Ir0uARxWhSgLOPaYGXf08IxzOvuZUiIQQlVKqAQAhxA1gEDrbcDhfTnZ0x3HzC1ty3uBvfiGlHzHYb4Gs3AlZEBA38lUrZcH5PcO2KXriRs4xVy2qh21TiITkNPqiNNXo67enNbC9Dl4VkaSNXT3JvDmMLPTAJSPVoTNuoNAjoyeuIZK0+y1DvfbZTTnj3/rSVvz2tOlwKwJTQ6JxjHMeRJFHxgX/zK0M+d0/N2P10iZmlYckOOtK+FXg+0++k2c8XH8au49IV0yHKBCHBNeBF91FkiaaOxMQCbLJsJlE1O64juXH1mBSRQCX/u0DXLe4AXvCCfzvXz/Ifke1ZT7M4LkVHAf21ah4EMDzhJB70/9eAuD+oZkSh/PFpzWcZOYTDHZOhVPuRMDFls+eWhXMHtfXENmwJ4RfPp6rgJnpYNkZ1aGbNDsuIYBuUsgCYVZeuGQBXQ5NzW4/ayZ0iyKcMJHULYQFAt2iSJoWLNvGb74xFds798pkjyn2ImmYzPE7ohosm53v4ZS70RbRoIjsRT2hs5ud9fbI9KYjqkEWBOa5nITBin0KAOqg9inv0/feHz5VQuPoIEr9LtzxyvZs3sapM0fisXU7Ma7Uh4/bIpg/rQrtUS1rUGTmfclj72NqVZCHQDhM9jVR8xpCyPsA5qY3XUkpfXbopsXhfLE5WDkVTlUmN515GHvRNCxHQ8QlsxfallASJT6VmQMQ1S3mG/yVC+vh1NRMM2wYFvDLx3slY55cB5ckwKYCQol4jnfjZ/MmYVQRu3FZ0C1BFIT9UuEs9iqOUuV+VcaHe/Jbos8eW9RPHgjbQAi6JGYZatAlIWnazHJTVRp4SWmhR8aZTWOwuyfOvGcVQRWKKKA7YaDUqx60hOIMB0O/hTN07HPvD0rp3wH8fX8HIISIANYC2EUpnU8IGQvgIQDFANYBOItSqhNCVACrAcwE0AngDErpJ+lz/BzAMgAWgBUZg4YQMg/AjQBEAHdRSq/e3/lxOMPBmGIvbvnmYXmtugeiVsj6ZexUZVLgYZc5ji32OhoiDyybzTymIugCAfCfHZ15HUfHlXqZb/BJw0aJg5BUsVfBo+vyu5eOKR4HgQBXP7MpZ25XP7MJq5ey+4WsWdqEpGXi2lOnYmuvJmDjSr1wKcRh4SaObcnjDrkO957TiFUL6vIMhEKPiJ09Sea5wkmT2ejs6lOmwbIpHluXXwb7o+MnHvDzkSGmW7j5hc245GuTcOEj7+Vdyz3faYQqEUyqCKA7YWB0sRvNnYmc72ioEopZBu01p07Df9VXQhoEg4oz9PRrVBBCXqWUHk0IiSAtfJX5CACllAb2YYwLAGwEkNn3GgC/o5Q+RAi5DSlj4Q/pP7sppeMJIWem9zuDEDIFwJkA6gCMAPDPdC8SALgVwAkAdgJ4mxDyBKX0w32YE4cz7OgmzXnjveH06Qd8LifvwsRyv6PS46++MTUnVv6rb0zFmGIv3m7uYhoiumlj1cJ6XNZLInvVwnpMLg9gY0sIcydX5ohSXbGgDiU+tuFQVaBClgiuWlSfDalkcjRALOa5KGyEEmzvhlO/kJ6EgbKAgpaeXKGnKxfWAzYgi8gR30qaKeErnyoxK11qSiczx4kkLPy5lxaGW5Gw+rVtGFM8GQVuhamtUVvuc2hCZkISwSyDNe2BJ2pGkqnmZ5taneTLLSgS8NKmPZhUWYCVJ9fhBw++k/NcDZVUN8ugveSx91HoUXD0+BLusfgc0K/pRyk9Ov2nn1Ia6PXj3xeDghAyEsB/Abgr/W8CYA6AR9O73A9gUfrvC7E3T+NRAHPT+y8E8BClVKOUbgewFUBT+mcrpXQbpVRHyvuxcB+vm8MZVpy8AZ90xgb1fJII/HBObU4Vww/n1EIQgD+9+QmuXdyAa06diusWN+BPb36CHd3xbGimNy5ZgFcV8ee3m7PHXLu4AX9+uxk7QwloFrvRlmUDF54wIafK4MITJkAzKXpiFv6xISW5feMZ03H7WTPxjw27YdkC81ySIGYFuPrOrThtvPTdHnTL0Aya7RWSOd+lf1sPw07lF/TGp0rwyhIkQcB3j6nJqXT57jE1KPayx/GoInb1aPioJYJPuxPY3BrBrh4N7VENiijg7CPGYGtbBJ/2JLC1LYKzjxiDArfMTCANumX4FPZnXmXgORUeRcJNL2yBTZG9lsqgC+cdNx4r5o6HWxEQ0SzMbxiJGdUFaA8lcP3iBtxx1kw8veKYIdWpcPKstYQS2NF1YP83OAeXzwx/pMMXGyilkw7g/L8H8FMA/vS/iwH0UEozKcw7AVSl/14F4FMAoJSahJBQev8qAG/0OmfvYz7ts322wzUsB7AcAKqrqw/gMjic/ae/526wxa+cfxlrzOTK1UubmG/CXTENM6qLmNLeumVjbXMIa5v/kzNOWySJ9gi71LI1rEEVhRzJbVUU0BnTIYkEx03M9UisnF+Hrjj7XB1RDeV+dr8QlyQwRbZiuom45uDdiCaxuyeJ6579KHvMxV+biGKfiu64gZiWWx3z4+MnwKJsye8CN1umvCLgQtKwmFUuHkViClyF4gZM22bfg30s5+zv2YsmU/LkXkXEpfOn4I6XP87zmFwwtxYuSUQ4kYQgivC7RPhc4pAnZzrlGu3sSUDa0YPqIp5fcajzmUYFpdQihHxECKmmlO7Y1xMTQuYDaKOUriOEfHUAcxwwlNI7kJIZR2NjI/2M3TmcQaG/526wEzWdzufUpTSUMJhvwg8vPxyCQPo053KhrjKIHd1xZiilzO8CIcThMxUXPfpe3rxWL03JTfcWxkr9O1WG6VSGSuFQurq4Abe9vDVfZGtxA7wO8uLFXhU/fjg3p+C6Zz/CXWc3osAt43eMktI1S5scS0dZuRb3LZkF06LMfJPZY4vw/a/UoCO2t/X697+S8oZQsBNFS3379nz09+wFvVJ2XMOiuHJhPZanDbvec/+/b85At2Zi5ZOpBnAiGfqchjHFXlxz6jRc8tj7OcbumjdS5a7TRxXwqpNDnH1N1CwEsIEQ8haArA+KUrqgn2OOArCAEPJ1AC6kcipuBFBACJHS3oqRAHal998FYBSAnYQQCUAQqYTNzPYMvY9x2s7hHNKMKWY3+jrQWLXT+Zy6lAZcMvMtOa6nqj9YzbmOn1iGH86pzcuBqC70QCQ2U9ZaEtlv3BktBlZOgW5ZbGlvw0RUs9jS3hF2SWcoYUAUgItOnIjr/7HXI3HRiRMRShiYUObDuceOy+njEdctRJJs2e+2iMYsXW2PsGW1IwkTAY+AE6aMyPHIXLmwHgSppMm+HgwAsEGZjcsoBv5OpAhCzrgr5o5nXmvcsFAeVFHoUdAWSXlIpo0c2i6lgkDwX/WVKPTIeOuTblAKrHmjGXtCSQCDX3LNGXz21ai4dH9PTCn9OYCfA0DaU3ERpfRbhJBHACxGKgfiOwD+lj7kifS/X09//gKllBJCngDwR0LIDUglatYCeAupZNHadDXJLqSSOb+5v/PkcIaD/hp9AftfVud0PgBMY6MiqOLcY8bmuf4rgy580hnDPa9+nJNYeM+rH2NkgYsZSjlsVCFiupU1KDKfXfbEejzgIF9d5FVAAKa3ZPXSJkevg8/FrlpxEsXyuyTIAsGIAldOQqYgAFUFLvz37NG5fUROrkOJT87mG7DGYYU5RhawS1qLvQosys7puPPsRqZ3446zZiKcNJldUquLBq64GtFyK1icrvXTrjiKvQp+fPx4VARc2NIaxrb2KMaX+51OPShIkoCqAg/uemVd3pwOlow958D5rOoPF4DvARgP4AMAd/fKhzhQLgHwECHkKgD/AXB3evvdANYQQrYC6ELKSACldAMh5M8APgRgAjiPUmql53c+gGeRKim9h1K6YYBz43AOGqxGX8CBt0W3bYpI0kBP3IBblmDbFJIkMI2Nj9uiWYMC2Ov6P3Z8KaK6wWza5ZTrsKMrBs10ygHQserkKfCoMmKaCa9LQjxpIK6bMC22KFW7gzegK6ahzOfCqgVTsLMnmQ0ZVBW4YNgms2wzaVhQXDKaO+N5C36pT2XKZK9e2gRVZIt2KSJhGgIzRxc6lpr2xE2mRySmsUNTmmGj3K+iO67neF4y2hoDJZpMjTutKoBzjx0H3bRw6zdnYNVTG9DcmchW9fzuuc3ojuu4fnEDdMvCiEIPtnfGhtyoAICxJYPryeMcPD7LU3E/AAPAKwBOAjAFqRLR/YJS+hKAl9J/34ZU5UbffZIATnM4/lcAfsXY/jSAp/d3PhzOocyBtEU3TRuPv7crLzSxqKEKkiTkGS/bO2PMBW17ZwxFXoXZtOv+JWyvg0eRoMo28zOfKqE7bmTzKjLeAK8qwrTYb8hlfrY3oDLghkktECLklYeqksgs26yvCiCqmcwF//dnTHdI4EwlhLJyJ37xdXZJqVNJazRpocyvMD0ilUF2HkzQLUMSCDP8IQ1C6KHEp6BxdDDPcLxq0VQU+yQoooikYWVDDknTQjhJIAoEfpfzkjGYolWf5cnrDy6eNbx8llExhVI6FQAIIXcjFXbgcDhDyIFUhvQnod0wqjBvf5fMVpl0yQI6ouwFsjuu4zenTM2RqB5T4kVFUEUkaTIXQY8iMr0Ba5Y2QTPZ3gUKyjQCmsYUwaaEGUp46NzZOHNW7sJ91cJ6+F0SWsPsfAcnAbBSn4rOqM7M0fApKYnrs4+syTFeihz0OHwuCRYF8x7ct2SWg8CWiXjMYoY/xhQPPPwhCgQ/OmEizr1/bZ/n5QOsXtIEQQCaO2OoDLrQHddR7ndBEglsSuGWROY5D9S71h9Onrz+GIp5cPaPz0rnNTJ/GYSwB4fD2QecdCL6iyfvCTmVlCaZ+3sUMVU2KOd2qfQoIiqDbub4pX4VXbGUiNQtL2zF7S9vQ1dMh20Dcd2CRxax/NganD9nPJYfWwOPLKI9yg6ZtEU0eJS9AlPnzxmPZUfX4OG1O9ATd06SbHPwCMQMC7/sY2z88m/rQQBUBlR8/ys1OR1Zv/+VGhBiY+X8Pp1V59fBtEy4063B+96DoEfGaY3pjqN/SXUcPa2xGgUuiXku27bR5tBjpCOqM69fFFK5G4q0dxEkBFAkgmLvwMMfHVENnQ7fy55wErtDSSgiwWUnT8HP501C3DDxaXcMy+5fm1IltfOTRQdbd+VAOVTm8WXms4yKBkJIOP0TATAt83dCSPhgTJDD+bKRqeTovUB9VjzZyRCoCLINkRKfioqgK8cIqAi6UOJTUeCRmG3MRUKYeRgdUQ0iIbjnte2w0uuUZQP3vLYdhR4Zo4vdOO+48Th/TupndLEbJT4VMd3Iab8uCan26z4XW+DK75KyCZl9P8vkCfQmZYikyjVZyIKUTQjNLOq3vbwVkiDBp0pMoyuuWUxhrohm4bF3Uoqa15ySEhN77J0dUGURZQH2nMv8Ks6ctbcl+92vbsOZs6ohiwS6aeJ7x47PES373rHjYVgDV9T0KhJUSWDO6eP2KAQQjCj04McPvwvNstEaSqI84EbSsPG/j3/AXKD7865lsG2Kbe1RvP5xB7a1R5nGyUDZl3lwhpZ+wx+UUravi8PhDBkHEk+uqwwwJa/rKoPM/auLvGjuikEW/NmKCL9bRHWRF29u78Sf3mzOkZy+6+WP8f3j2KWHPQkDssguDwWxmU2zJNGGi4rQLDsnP+LCEyZAFtn5BH6XiJhmMstNM4ZI3/CDWxGhmRazdFMz2eWpHTENY0vcqCpw5Yh2VRW4HD0l7RGNKSYW00xUBFWsWlCfV25b7BWzhl1mjIqgCz5VQlQDM6/lviWz9utZYuFziYhoRp7kekYP4rTGkRhleFDoUXDDc5txy38fhlDCyM6jNZwfhvss3ZWDFZY4WI36OM7sc0MxDoczuPSXULa/8WRJErCooQq1ZT60hJKoSAtWOTVhEgSCo2pKsWFPKC1w5UZdZQCCQFAecGFzWxQr/rRXOdMlp7pqOmleCATMXhmNYxqYTbOuW9wASQD+sWFPXnLlYaMKUB5Qcxbb8oAKywIkUWSWm/7u9OlMQ8SriIjp7CZgd53d6JhTEUnaaAvFcPS4ErRGUt/P+zs6MK26hH2MX8VP+jTnypTHhpMWBIHm9RgJxW38/p+bs4Jhlg38/p+b8dvFDam27wzjJZIYeBTasIDf/H0Tfnf69Ow9zuhBdMd1WDZw6d/WY9nRNbj1xa14f1cIR44rwbSqADa3ReFR9r5rZp7hzpiWJ1r1629MhUD27rO/yccHwmDrv3D2H25UcDjDwFC8uUmSgIZRhWgY9dn7OglczaurcPzFPKLAzZTIrgiq2NoeZXoqQgnDcbtHIczSVdO28qocJIHAoBaiSQfxq3CSmdhYU+oFpWAu0HHdYhoiNqWwbBt+jxtn3/tW9rMr0l1HWd1INYNtBPTEDbhkAb98fEOeIXL7WTOZ19IS0VDglpkJoS5l4M7jtkgyVaIb1+GSxLzvZs0bzUgadrb9u2UD7+/swX/PHo0irwwrHbbo+wyPLnbjru80oiduYHNrBNc9+xG64zpuOH06Cj3yficfHwgDqRrhDA7cqOBwhoGheHNz8nywtn/SGcM1z2zM8SBc88xGTKrwo6bUx/zFvK09ypTInjV6FlRRxLufpqSoe2IGCrwyHnxjOxrHFLIFrpY0AQS44ql38lz8q5c2YfXrn+QtqD+dNxl+l8Duuuqg61DsUQDCLl0t8Mj4+we5npI7X/4Y40t9CHpkZu7E6iVNzG6kP5032bGaJmGwe49oBrsMt9iroMgr4fTGXINr1YI6lPkH3lCs2KtiyZGjoYgCHl67A9ctbsCWtggse696pUsWIBBg1YI63PrSVsyfVoUbntuMe8+ZBdOmTO9Dc2cCb23vyoaZMlz453fx8PIjDnpYgvKGDMMCNyo4nGFgsBuKOXk+TpxczvRIVAZVpgehM6ahptTHFNL6tDvOfLP+tDuOEp+C+dNGYl1zd6rctAOYP20kog5y16Gk4SiY1R7R8K3DU109M6Wr3zp8DGK6CQHA944dn5dTQQhw8dcm5imE2qAIxU38+PgJ2V4eLjnVHCycNHDS1MqchfuCubUo9inY1ZNklqG2RjRmU7XuuMH04gTdsmP5brFXxrWnTk1VVKSvc1ypF35VRChhOYaNBoplWyj0qrApxfJjx+H6f2zKexauXFiP7piGAo+Csw4fg7tf3Y6kYWNHVxwrn9iAG06fjlK/kvf92Q5eIcOyDkpYgpeUDj/cqOBwhoHBTihz8nw8vPxw5vY1S5uYHoQHls12FNIaW8zuI+JTJZgWxa6eRF4y5OyxRcxjCj0KbEod8xPWNXfnnWt0kQemTZnejQeXNaHIo+TkYRR5FJiWjaBbxh/fyg2N/PGtZlx7KrsJ2D3facSIAhdTgKs8wJYDL/TI+PXTH+Z5ca5f3ABJENhCVqKAlrCWl6g6qtCD7jg7bNQdz1b5HzCSKOKWF7fge18Zjzte/hjzp1VBEoA7z2pEV1xDsVeFLBEkdBOBtMx55jrdipTzbPW9F6KDV6jIq2JGddGQhyUOVu4GxxluVHA4w8CYYi9u+eZheH9nKPuWOnVk8IDf3FrD7DfrPSH2dqcqhq6Y7iik5STWFNNNCIQtX/3Astn4zTfqIItSVqbbME3YoIjpJq4+ZSq29RLTGlviBQjFQ2/vyHlLf+jtHagbkVLHZM1btyh+//zepEebAr9/fjOuOzWVHPmjuROwvTM1jiQAP5o7ATGd7UUJJ02USALzep44/wimd4HAZkqLd6fbmLPyPepGBHDDc7mdUG94bjPuOGsmCj2yc9hogLRHNJw2cxRu+9fW7P0KaxZ++bcP8KtFU2HZNla/8gm+dfhYRHUTT76/C6c1jsTIAg+6oqmutXtCScT1fO/D1JFBR49E3+TjTInpYCpfDrYHkLP/cKOCwxkmdJPmvKXecPr07Gf7KzVcGWS/WY8uZje6GlnoZr5RVgRV7OpmGyLdMYOZN1FfFUBcZ+cNWNSCYRH8/K+9cwPqAWqj2Kugrc+b+hUL6kCpzXxLtylFkZetXBnXTeYxEd1AkUfBtvZYzjgXf20ixpWxPS/lARUdUZ15Dz7pTOaVp648eQokUcSSo8ZkjYSM16HQKwMUzHyPpMEO/2iGDdNifxbVBu6pqAymFDKXHzsOVz71Yc796onr6EkYOGpcGSzbhiISfOvwMfDIAi5/ciO64zpWzKnFw2t3oDzgwuyxxcwmdp/lkWAleV65cCpkkQzIwOAlpcMPoV+ybJbGxka6du3a4Z4G54vFZ/726/vcbWuP4us3vZL3y+/pFcdgTLEXL3zUmufFmDOx3PEX7cdtUfzXzfnnW7O0CWfd81be9geWzcbbn3TlGRtHjy+BZdt4fVv+Z1+ZUIKWcBKSIKArZqDIK8O0bZT5XdAMG9+6+828cVYvbcLZjPFXL20CAZhzczrmviWz4JZFtIQSMCxkPR+yABR6VcdxBELwbcbcHljahE2tEbRFtOx9LvWrqKsMgBAw78GsMUXMc/U356Rhorkjgc64nh2nyKNgYqUflzz2fl7S6TWnToNAiOP1NI0t7v3V7/ez95/mLnTFDZz3x3fyzn/94gZsbosAAI4eXwLNsJEwLPhcIr5551vZ/f7w7Zk4amwxlAOsRun9/FcGXTjr8NE5BuGB5kEMZU4F7ymSg+OFc08FhzMM9OemFQiwpTWal1MwvtSHMSVsF25bxEGm20Eiek+IXYI5utiDUp/KdP0fU1uC9oie17mz3O9Cd0LHJfMm4ZpnNmU/u2TeJMdGW+0RDRTspD4nWetIwoQsAppFsbUtujf8UOZz7FfSHtGyf8/7LKbBp0poS+8DICU8pRsQCDv8cdOZ7CZkTrLX4YSJoFtiinyZtsVMOrVsGwmL4vKT63B5r8TPy0+uQ1wfuE5FVLfw3s4e5nx39iSyCqTdcQMXPPQfXDp/CpKmlA17JA0bcc3Ei5vbcMKUA1usez//p8wYmRfqOdA8iKEqKeUJoPsONyo4nGGgPzdta1hjLmgzqgtRXeRlvi05nc8psbA8oGJqlQ9NYwvRnfY6bGntQYlXRavDoh7VrJzOnUCqc+e1pzagxKsgktBzBJ4My0Spnz1+qU8FdUjqK3OYc9Ajg4BgV3d+Qmjj6ELmMSU+Nau3kPeZV8V/Pu3JW+yrCz1oj7GbkLlkkakfEXAQBvOqIgRC8OCbzTn37cE3m3Hd4gZm0un9S5rglgkuf2JDjtH3h3+lRL4GSjRpwqbsezK5wodI0kLStBBwSZhQ5sOVT32IC+bW4pQZI3Hri1vhkgXs6IoDAHZ0xRwN3f7o/bwS4mBcHmAexIE0IvsseALovvNZvT84HM4Q0F9/j5jOTkY0LAvPbGjB1296Bf9955v4+k2v4JkNLbBt6ng+jyziigW5fTwyIk6ZEtCt7VGsa+7G/GkjMbJIzRoivXHJQlbIqnc/ijMaq9GTlnCOJC1sbovg0+4EtrRFEElaCCcNrJiT20NjxZxahDUDBDZzbqZtsY9JGo5tzG1KmefyqiJEwcaqPp+tWlAHm1JmomTcsFDgkXH2EaNzrvXsI0ajLKBk9SMyDcVOb6xGgUdm9gpxSylJbNZ9CyXYiaKdsVTDL1biZ2dUP7AHrhelfgVPvrcLPz5+Qs58LzxhAkIJExc9+h4ueuR9LLnvbZzZVI1Cj4JSnwq/S8xel0cW8dDbO9Aa1j5jNDas57U3h1oeBO8psu9wTwWHMwz056YdXcROIPSrMs5dvc7xben4iWV4YNlstISTqAi4MG1EEBtbI3h+455UcmXcQIEnlVxZW+ZjloCODLlBCHDNqVPxca8Kh5pSr3NFwtImJE2beZ0Bl5xN7sx4RB5Ii2IBwCMOQlIsye/rFjegK8YOM3THDZT5ZNy/pCl7P+Oajs6oBrci5QhWeZSUd+G7x45jniuuWyiSZabx0ji6MKummdl+2ROpnhyZLq2ZklaPLKIjrqPA7XzfWEJeJT4VIiHMBNsirzKQxw4AoJsWLpg7AR2RZI5Mt2VT/DQts52Z56q0l2JHdxyNowtx+1kz8bPHPkB3XMeyo2sOOByTef6rlh+ON7d14tL5U3KSRq85ddohJa3NE0D3HW5UcDjDhJObdmwJWyY7blgO5aFJVBd68OzGFmxJ5xpsaY1gTyiB6iIPjhpXtleUigBHjStzfOO/46yZkEXAsHIrU65aVI9I0sCEMh/OPXZcjgJlOGHAp0rMpl1uGTh+ciX+Z8267PZVC+qgiBQtYQO7ejR81BLJXs+uHg0J3cQl8ybBtvcmY9aNmATNNFHiY1d/VARc2NIWxaV/3HvPrlxYjzElbnTHDGazL4/CDll4FNHReHEKDXVGdTz5/q5UWKSX4fLTeZMdzxWK68xmawKxYdrsnI77B6GkNOBW0B03UVngwQ979Xc5fw67YVx1kQdX/b+NmFDuR1dMw55Q6u1cFABZEmDb9IDyCgSBIK5b+PXfP0Jl0JVjRFYVuA6pXAXeU2Tf4UYFh3OI4eTF2NEVY769VgRc2NQaxp5QMj8/oMiDgFtEsc+foxPhJB2d1G24vTJTp+LPyw/Hf88endur4+Q6lAdcCCUM5iI4s7qJ+Wa/emkTyvwq83qKfSp27wrnqVNWBd0AsXDlwnpc2qu75pUL60FBs9sy41z6t/X447mzUeDgYfnjubOZolQeRYQkEnYehp9t1JT4VJzWR1b7igV1AGzHMtigR8EPH3o3/94saXJMPO2IHli4oTdxzcJPHnkP1y1uYM6r7799qoSqAhUFbhmyuDdccdioAvzvXz/Avec0HXBeQcYDsCeUzJbcumQBp86oGsAVDj68p8i+w40KDucQhOXFsGwwRaFOnFKBUMJg5gc89N3Z0C3k6ERcsaAOlWn56LwFxCWiM8bWaIgbVnahz4xxxZMpAyGmm46y1k5v/IUedohhRnUhc5x7z5kFkRA8/HZzXmfTc49hhzLaIxosSpmfhZM6vEpuyMKriLApRdIwcdGJE3H9P/bKfl904kTIEsENpzfkeFEEArgkwu4VsrQJcZ3drj2UMJj3rD2mOSbYlvnV/XqOWHTEUt/Jixtb8H/fmoF3P+2BRxGhiAKuPmUatndE8ee1O9Ed13HlwnpY1MZFJ07C+zt74HPJGF3sxg/nTABAoZt0QMJSB+oBGI7yzqFIAP0iwo0KDudzQldcc5Bu1pBwEJ/STMqs2Lj5zMOYeRNuRYAqsz0ITmWT7REN5QGFLbJV4FyV0hN3Ph87b0KHKAg4YUpuv44fHz8BfpUdynArIlyyyPxMEkT84V/bsou6ZQN/+Nc2XLGgDmV+BSMK7JxqFkEAgi4RH7dZuKyXp2TVwnokLfb970obaLe9vIHZrp0lmFUZcIFSyuwlMhjrZolPRePoIJpqSvCDB99BoSf13V3bq2/KqgV1KPAoWPnEBnTHdaxaUA+XImHVUx/i3nNm4bf/2IS5kyuw5MjRA8orOBAPAC/vPLThRgWH8zlBEQWmG//h5Ycj4OB5iGrsHhK6ZaMjquepTFYXemBZlOlBWL20ybk8lIJ5TNOy2bhiQV2etoVbFgGPwkxUdCopLfGqEAhwwT9zPTK/++dm/Onc2eyGXi4ZFMBVi+rgkvZKhScNE5IAVBWomFjhz3o9qgpUuGUBpk3R3BnPM5JKfGrWoMiMf9nf1mP1Eva9CbgkhJMGsxGbZlpM79K95zTCtIEXN+3JS3AdVVgz4OcolDDwo+Mn4tzVa5E0bJwyY2Ted3fZExtw7eKGbP7EZU+sx73nzEKhR8Hr2zrxjRmj8Nd3PsUP50zIehV6ew/K/C6IArAn9NmehP31APDyzkMbblRwOJ8TYhr7bTiuW4jpJrMvh1eVmIbI/Uuash09M9uve/Yj3HV2I+IOJa0xBzd+zDAdZbpbI0nopp0TYtBNG52xJNyKgB98dXyewQFiM8dJmiY0gx3KaI9qzLbs1546DYRQ2DZwUZ824sU+mZkHUehV0BXTmaGmkYUe5vhtUc0hP0Ny1IQIJdj3OZQw4VUFHDcxN8F15fw6ULCrbPYHv0vKERhz0on4pCOWe42RJE5rHAnLBq586kPccPp02NSGIBCm9+CCubVY/XozuuP6oHoSeH+PQxtuVHA4hyCsmLHXwcXvUUR4FAlXrv0wrwxzfJnP0S3PNFA0CwVeBSdOKcG3Dh+b85bsVSQ89s4WZgmo16GSosSn4sI/v5e3PdMYixWauW5xA257eWteuOC6Uxsgi+zOph5FYnoDIkkTAbfMThZd0sTMg7hvySxY1Ma5R9egPbpXwvvco2uccx18Ku7418c5uR53vvwxxpZ4EXRLTIPD5/B9+lQJiiQwhbFWLx149YdbEvNKJFnzmFFdgAtPmADdsvHke7tQ6neBUuCaZ1LG6KaWMGaNKcLHbVGIAvK8Bzc+vwXnHzce1/9j86B6Enh556ENNyo4nEMMp5hxqV9heiMMy8b0kYX44ZzavHblqZwCVuWBw4LmEiEKlFkGWuoTcfYRY7C1LZJdaM8+Ygz8LhFtYY05NyevR3tUgywJWHrk2JyeGEuPHIueBDtc0B3X4XOJTC+GRxGZoZSAS3aU/XZKIu2M6hgRdGGTli+VbloWc3zTtnDS1Nxcjwvm1qLAI0MRBWZCqE8VsWrBFHgUORuWiWsGPLKI3Y5v4wOv/miPafAqAn61aCr+9/EP8Ni6nXlGz5UL6/G/j3+A5s5ENpQUSRoIuOTss2LZwJvbu3DXK9vw629MRaFHyYZLMvOtCLiy8t6D5Ung5Z2HNtyo4HAOMT7pjOGaZzbmvMFf88xG3HTmDLywqSVPxGlefQUkScD8ukqMLvKgJayhIqBiamUQH7aG8cv/mpzXNMstifjFSZPQEdu7oBd7FbhkEaZNHd/sE7qVM9eEbqEnbkCRRKZg1dWnTGPKWpf6VcgCwcdt+Qt3iZeda1GYFn5ieTGuXFiX095cJKn25nHDdMzRqHDYXupXEdMtR52Ix95hC3Y57S8QoMSvosir5lSMBN0CAKFPWKYehV4BJnX2iAyUIo+C5s44OqPJnAZi5x83HknTTs9NRnNnInstVzyZkg//6WPv4bTGkXClv+/506qQNGz84q8fYPmxNbjp+dxOrDu64zj7iNFIGBbiuoVt7dEBV2rw8s5DG25UcDiHGJ0xdpWHQCjOmJWrE3HlwnpUF3pgmjae+6g1K361tS2ClnASY4pdUCUxZ+G+cmE94oaBhJHb5OrHx09AV1xHQme33e5JGOiKG3lGQE0ZQUyzmHMWBYrTG3PnvGpBPYJuEW0RtrbFnWc3MhttGZaJUMJiejHcioSWcCRvbtVFHlBYzGRRQQAzuZMQikiS7WEJJ9lCWk6S2+GkAVkk2N2TzCtPLfGpuOyJPkmfT6zH6qVN0Cx2/opuD7yhWNK08PO/foBzj6nBvU9vxFmHj87zUtzywpa8a+mKaTi9cRQmVvhx20tbcUZjNda80Zz9vLrIkzWEMvflmfV7cEZTdc75ByO/gpd3Hrpwo4LDOcRwqvJoGlvEFHg6bFQBkqaFnYxGW5UBF/OY1Uub8DtGFcWapU0IuNgx9gI3W1firrMb4VMlRzlup4Uz6rBwJ3Qru5hmtmXyCcr97CoXzbCZiZVTq4JQJIEpB37uMePwpzebc7bf9fLHOO+4WpQ5NEIrcMuOEuJO+9uUYs0bn+TMbc0bn+CiEyexQxxhDZVBFzN/5WcnTTmAJyqX3gZTd1zHmjf2NjsTCDC2xIPNbdGcY1yyAMMGbn5hK65cWI/lx6YSbDPhDpcsoCWUkv2uCrqxozuBNW8047TGkVn57cz18UqNLzZDZlQQQkYBWA2gHAAFcAel9EZCSBGAhwGMAfAJgNMppd2EEALgRgBfBxAHcA6l9J30ub4D4JfpU19FKb0/vX0mgPsAuAE8DeACSuneLjwczueQuM6W424NJ5nbP+mMQZVF5oL/u9PZrbrbHLUgDATcAvPNvivhkNypWwChOGHKiJw8jCsX1ju+wbdHNMcOpl5VdEwuLfOpzLCNZln4n2Nr0BLeG+b5n2NroJkWehJsOfBSv4LNbVGs6CVVnUouVQCwdSJ0i+2Riekmfnz8hKyhlvH8dCcMqCJhHuMUlin1q7CojRPrcnM0LjxhAmw68OqPTILoY+t2ZvNgMt1HV55cB8Oy8etvTEVzZywrgvWrb0xFeUBGoUfBpX9bj9u+PRPdcT075xVzarHmjWbsCSWxYu747PmcEoV5pcYXl6H0VJgAfkIpfYcQ4gewjhDyHIBzADxPKb2aEPIzAD8DcAmAkwDUpn9mA/gDgNlpI2QlgEakjJN1hJAnKKXd6X2+C+BNpIyKeQD+PoTXxOEMORUBF1tIqtDN3F7iU9DuIEzld2jJ7fQm7pIFUErglgnuOGsmuuMGCj0yeuIaijxsuekCjwwCMD0iaxy0LcoDLngVgSm5LUtsiWyfKqE7oTPDNiVeFZtb8vMz6kaooJQy75tLEnHt4mnYmg4ZiQQYV+aDKgnoThgOJaoNjp6K5z7ck5fvcsm8yaAA0/P02PeOYBpvXkXEzp4E7v33Jznj3PvvT7Dy5IF7KtyymDWY1rzRjOXH1qC6yIPygAudUQ1L7lubnc9Vi+pRGXRBIBStYR0/nzcBv3lmMxK6hf/75mF4d2cIlo2sQeGSBcweW4SLTpyAhGFjd3eCV2p8yRgyo4JSugfAnvTfI4SQjQCqACwE8NX0bvcDeAkpo2IhgNVpT8MbhJACQkhlet/nKKVdAJA2TOYRQl4CEKCUvpHevhrAInCjgvM5J5I08PzGljwp6sbRhQ6dM5scG235VJH5xq2KxLHM0bYpfvrY+rxzOfXKsClFd4wtOd0dN5jHABRRzcJzH+5OdVCNGSjwpjqonn/cBFx9ylRs69ibdJkqzZQR1cjexbvXvZkyIsC8N1OrgnA7eHFmVBegLazlGCIXnTgRAVVC0rSZrcejmsFsAlbqE5n5Lm5ZxKfdcabBt6MrgWc+yO0ge9+r21HoUVAeUNEd13NyRzLG4EDpjOr405vN+L9vzkDStAAKKLKA9btCeffpl4+vx81nHoat7VEkDAuNowtxWuNI7AklMLkygHGlPmxrj2bnt2JOLX7x1w8wf1oVbn1xKyqDrrzvf6gqNYZDupuTz0HJqSCEjAFwGFIehfK0wQEALUiFR4CUwfFpr8N2prf1t30nYztr/OUAlgNAdXX1AK6Ew9l3DvS5i2g6vjU7t3TzW7PH9NtHozyo4sITJuRJPidMi/nG/ZtvTEVNiSdHhloWAZHY6HQQZWoJJ/H3D3LfxjNaDIVemekN8LlErH69OWf81a83Y1SRBwGXiJPqq/Z2UO0ATqqvgk0polpuQmJUM6GbFii1ceqMXMGqlfPrENPYc44kTXTH2SEY3WTnOlx9yjQUeNjXU+hR8IeXtuYZNWNKJjM9NfcvmYUin8qsZvG5JLy+vQsvbu7IzsslC1hy9FiAghnm2dclsr9nz6OK2NwWxbaOKNa80YyfzZuMzqjuKOwV1U0oooCYbqE7bmBcqQ8CATpjOq7++yZ0x3VcOn8KSnwqLk/nWWSuc08oidWvN+P+JU2goENWqcGluw8dhtyoIIT4ADwG4EeU0jAhe79gSiklhAx5DgSl9A4AdwBAY2Mjz7ngHBQO9LlzyzIMK4kJZf4c/YLe2fUZUqEEFa1hDU+9tztvwa8u8jCrJaKahT0hDVc/syn7S/hn8yahxOdC0EHyu8yv4rzjahBwK2iPUJT4FJx3XA3K/Cosmy3tvWZpE/ONu9yvQiAEO/REzrxiugnLTiUT5mlE2BSSKOaUlAJpYSyHRMkSnwJC2ImnFrWZuQ6aaUEgbNnx1ctmMas/ehxyR7rjBvwuAd/7yvg8b1HAJTENB7cipqpwGGGernQew2fR37PnlkXccFoDLErxzabR+HF6Ib5g7njmfWoJJVE3IoC1zd0o9MhQJQGfdMTRHdfxvWNrcNvL23DlUx/i/745A6fOHIkn39uF3plt3XEdpX51SHMouHT3oYMwlCcnhMhIGRQPUkr/kt7cmg5rIP1nW3r7LgCjeh0+Mr2tv+0jGds5nM81FrVhUYKLHn0Pl/zlA1z0yHuwKIGcDlm45L3tpy+YWwsQioqAmhVfuuSxD3Dxo+/hpKmV2UZbvXHJAvwuCfe+th3Ljq7B+XPGp8oLX9sOzbIQ1QysmJM7TkryW0Q4aWPJfW9jxUPvYsl9byOctOFWBHQ7NAeLJI1UM6pe51q1oB5uhcC0U0med7y8Dbe8sBW3v7wNcd2CYdvZ8M81p0zFdYsb8PzGFhgWRTiZ6mVy96upY+56ZRvOaKyGYZm4cmHuOFcurIciATalzPvmVdgS5j5VcvZuGJR5TIE71b3zvOPG4/w5qZ/RxW74XRJkQWJ2XQVNlcL2vn63IiHgSimksqpzPMrA3wP3hJIo8avwKCJiuolzj0k9Ay9uamPeJ48swrBsTCj3w6I2rnt2Ey75ywf4/fNbYKbzVZKGjfW7w7jrlW34wVfH481t7dlzHAxhqv6kuzkHl6Gs/iAA7gawkVJ6Q6+PngDwHQBXp//8W6/t5xNCHkIqUTNEKd1DCHkWwK8JIYXp/U4E8HNKaRchJEwIORypsMrZAG4equvhcA4Wlg3mInTn2Y17ww+9pKDHlfpQ5FWYb9Z/csyDYFcx6KYNRRSZIluzxhQy246PKZ6MoEMSp88l45n1u3HPObPQGdVQ7FPx+Ds7MLrYDdOmzIZa9y+ZxQxxEEIRUGXmor56SROe+/CTnPyEB9/YjpGF4xBOGswQzLhSL9u7EDMcu55GkuwW7wndZPYxKXTL2NWTxBFji3DO0Xtlz+99dTsimskMmTx47mxEkmyjJpI0Bvx8lfhVhJMGenppjowuduNn8yajuTOOO86aiQ/3hBFJWtneHXd/ZxZUycK29jjWNoey87nu2Y/wu9Onpyo9Sr1YdnQNdvUk8MO5E/DRnjBm1xRjalXBkIcguHT3ocNQhj+OAnAWgA8IIe+mt/0CKWPiz4SQZQCaAZye/uxppMpJtyJVUroEANLGw5UA3k7vtyqTtAngB9hbUvp38CRNzhcAp74cpmVhfsOIvDLDIq+Mjhg73yJhmqgp8aZyJ9KhFFkgUET2W/rqpU0ghOLUmX0W9ZPrEDdM5mKfMEwkDcqU6e5JGBhTEsDS+97O2Z40LGgmW2QrlDDZOhVLmhyvsz2q4R8fduAfH3bkfHZ642gEXBIUae+iRgigSAR+FzvM43NJUCWBaYxVFbIrc/yqjP95IrdXx8onNuDec2ahIqhi3tRc2fMrFtRBEtnN0ToiOkp87OqcIu/AEzWDLhGyQHD+H/+DpGGjMujCGY3V2TBI5jv6yzs7szoU/9nRjRnVhXh03c6ccyUNGzZNffcUwN2v7g3XXLWoHnWVwYOS08Cluw8dhrL641XAMa9oLmN/CuA8h3PdA+Aexva1AOoHME0O55DDaUHxqTLzzf6BZbNR5FGYctguScLWcAy//vve3IlfnDQJAiHMN+5Q3EChV85J7gT2llPe9vKGvHyGa09tgCJRR5lulvFy35JZUGV2XxK3zNapaI9qjqWwTpoXAbcMlyTgknmTYNvIGlZTKidBMy2mtoRmWohoJqqCKu44aya60t6FnpgGLe0B6usRuuOsmcw5d8Z0CERlN047lZ0H4lVFTCr3YtWC+qxwWCZsNLl84ItkQrfQHtlruJ4yYyTzO1p2dE1Wb2JKZQCmbWPlyVNwywtbs8mlGSPshU0tOOfImpxz/PLx9ZhRXXhQchp6S3d3xTTIooC4buGTzhivAjnIcEVNDmeYcCqBSzi0Me9w8GB0RDWUBWSc3qeN96oFdbAozRoUmf1//fdNeGBZE/ON2+sSEdNMnHX4mDxZ6Yhm4CfH16LAq2YX2gmlHkQ1AyV+hen+98gCJpT5cO6x43JCNpGECVEE8zoVB52KorTI1aoFdXklnZJAmWWoCcOESCRopo3tvT4bU+JFdZEHbZ5kTgVMXE+FPiRRwMaojp/28i5cfnId2qNsT0lct9hJtH4VXXGDGWrqSbDLbb2KiK0dcdz60pYcI+3Wl7ZgYoUPDaMG5q2I6nZOx1un1ueZBNeLvzYR//v4enTHdVw2fwrOnJ2qJnl9excuPGECmjtiWHb0ODR3xfLOsbk11VfkYCzsgkAwptiLTS0RXgUyjHCjgsMZBmyb4u/rW/CTR/b+8vvtadNxUn0FAm55b05DL6/Dj0ZOdBSFMi3CbAJ245lsRU3dZL9xP3jubKiiyCy1vPWbM7Chz0J7xYI61ARcSBpWzts4pam38ZvPPAzfnJ2r33D5yXUo9snQLZsp7X10bTHTcCjwSIgmLdzaZ5xbX9qKG884DLqVWy2xamEdCtwKdMtGSyiZ37Ok2IvOmIHLnvgwZ/uEcgG6aePyPnktlz+Zkgp38pQwhaxU0VH8avWSJoccGS9sCmbVTksoiYZRGBAxzUSZX80aNJlr6HtNM6sLMOm0BnhVMTvvVU99iN+dPh3nz6nFMTt7IAkElAKSSOBTRJx33Picstmd3XF8uCeMCWV+TK4MYGzJ/hsX+6M/watAhh9uVHA4w8C29mjWoABSv/x+8si7mFh+NARCcFofr8MVC+oQcLOFrNyKgN097Ddot0OIIezQd6M7pkMUwJai1qzsopnZf+UTqe6V3XEdQZeMiRX+7AL5ymYZCYO9OK9Z2gSfIjFbrAsgTMPhmlOnIZwwHUpkTdz6Ym6I4dYXU6WmSYPdcbRhVAGzX0h9VRAhh+qPUMJgGjyUUqZRddWiqTBMi3mucNJgtksPuGW4ZXaiaEVw4ImHRV4FnTE9m7zqU0VcOn9KtkdHZh6/+Ov6rAZFpnR0TyiJjS1heNRCTCj34+5XtuH17V24+czDoEgS7n51U859KfDKWPGnA/ca7K/+RH9VINyoODhwo2IQoZRC0zSoqgpCCJLJdLMdF89A5uSyvSPG/OW3vSMGtyIyF+81S5uYQlbXL25AuUMfCZ8qMV3sRV52tYbfJYOCXTaZWqDZfTyqi1347z4eiZUn16HTIbGyLaKlu3Tme1fuPWcW03DojOoo9LKTKw3boSeHZkAz2QmRUc1kV8BYFkr8TgqlEp7bkF/NUuBRmHNO6BaKHOYccGjQdv+SWairDOCqRfX45eN7cyoyiY8DJaGbcMtijn5IZdCF5cfWYEK5H5tbI1j9enM2SfPKpz7E8mNrcMqMkbj71W2wbCCcMHHxo+/h8pPr0BnToVk2o3HcBlzf65k5EK/B/noeeBXI4DAQdVJuVAyAjBGhKAp0XQelFGfe8jwe/uHx3JDg9ItLFpiJlaosOKpDtkY05sLVFtFQ6JHw+zMaYFp7kxElAfCqAkYWurH82BrYNNWFcmShG+GkwcxnCCcNUMqOsTs1wCoLqNAMykzudBKlKvWpaHPIT+iK6cxjSnxqVqsjPw8ht3sosDdR1O9i52gUuh3KU5c2QRLh2JfjqNoyvLGtM5Wf0RbFUbVlKPTITNXMAo8MSSDMc5mWgwcjYUKSBCxqqEJtmQ8toSQqgi7UVQYhSQOXFnIrEiSB4LrF07ClV9+TYq8Cw7Rx0/O5z1fSsFP7CKkcmIfX7kCFvybrdbrjrJmQRMK8lphu5m3bH6/B/noeeBXIwBmoOik3KgaApmk44+Z/4v7vHo3v3Pkq7v/u0RBlZbinxfkcUORVmCGOYq+CHmIwF8FiB+9CkVdBgVfCzm4tr1rApoBp54p5mjZ1bOF9/eIG6JbNNHhkh4VWtyzENBvfbBqdV0mR0E2snF+XLRHtXYba3/WwjtFME+GEzdScqC33Mb0OScNEic/FbFzm1EE1FDcwolCFWxFzjDG3IsKiFvP7NCwL3zt2fN6cY7oJSxKZoZFrHao/Svyp3yGSJKBhVOGAcyj6Ek4YkEUC06J5ip1xPcmck0CA8WV+/PYfm7DkyLGwKUVl0IU9oSRaQklYFBhd7EZzZyLnuIBLzhl7f70G++t56F0F0hZJDpks+BeZgealcKNigGSMiH01JvqGSDhfTuI6Oz9hzdImuBWR+TbuUURcfnJdNkchk/ToVUREEhbD/bweq5c04ed/+SDvl/LD3z2cWa2hiALcisisJHHLIrN7qUeWoIoUFzAUINcsbcJj72zJCmm5FQmr0907MyGSvjkiXkXEix/tyROy+u4x46FKYGpOBFzOXodo0oZmWjkGgmZaCLjZsuduRURMs/HTR9/P++yP587G7p78pM8RQTdbW2NpE9odPExdMQ0Xf20irnt2b5XNxV+bmOrFPIS4ZBFx3cLP//pB3vd1wdzavPyKS+dPQdAlY3dPHBefOAmfdsdx4/OpypS7X90GlyLhp4++h9+dPj1H6+KqRVMR9OzNDTkQr8GBeB4EgaCm1MdzKA6QgealcKPiINA7tyLj3eAhki83bQ7NwdoiGiRRgEfOfUv2yGKqcVhASS3qsZSehGWnBK7awuy3bqcmZC0RDbpp54yhm6ntQbfEzHVYvbSJ2b30oe/ORodDYmN33GAKaYFQ6KYNkdC8kk7TtnH85BF9EjjrEXCLaAlpTI9AZz/ltgGXjKv+38a8ea9eOsuxpHNnD/sXa0QzmcmdY4q9jrofJQ4aGkVeFaue2pjjwbjrle34369PxmGjP+sJOnA8ipiVVZ9WFcgp9w3FNYQTRs6c/KqIYp+MHV3Ar57eiFNnjkTSsCEKKc/VX9d9iqRhY0tbFNctbsCWtggOqy5EOJbEO809uOOsRsgi2e/YfCauX+pX8PDywxHXLd599CAw0LwUblQMAZRSJJNJUEqZ3ggeIuGU+dmdK0vTra3f3taG4+uq0J524T63YRemjgziwz1htEW0bFfPUr+KKZUBlAcEtk5CQGWGMgo9Mn799IfZ8W0K3PXqNly3uCGdo5G/QLaFHQyUsJaje9B7fJcs4O1tHbjnnFnoiGoo9al45O0dKPaOAAD87p9bs+NQCvzlnZ1YtaAuR6MBSGk0XH3KNLgVCVc8latcecVTKQ+P0y/CLodk0Z64iWKvnGfU6JbtmPhqOzQhK/UrbKVNtwTDYoeATNsasvbm/RFOGhgRdKNxdDBPIXXVwnq8tbEtR9zq/OPGgxABa95ISXbTdKhj5uhCfLAzhFNmjsK2zhhMO3WvLBvY1hZFKGng+EllqD8AmW6nuP7sscXcoBhiBpqXwo2KfWR/whaapmVzLLg3gsPCrQg4/7javDi/RxEgi8CEykKcc+9bOb/sXbIA286Ng//ipEkwLBuyCGapo0clOL1xdJ9QRj1Egb046qaJ8oDKXCArg+w3GL9LgiyxEyiDLhnHTNyb2PhxWxTHTCxDmV9BwrCZi2qBV8YPvjIOu0LJbBLhD74yDnHDBLXZlRwx3WSOLxDAo7ANHo8qYnuHmaNT8ePjJ6DUb0ESwTQEvAo7zLJmaZNjl1aXKjNDQD8/aTJzDKe8jcHCrYiQBODHJ0zCsvvfzvVI/W09rl/cgBc3d2TvYaFbgkhS3UavWlSPh95qxg++Oj6vFHh0iQefdiUwudIPtyLAq0iI6ga2d8TQFtm3KoKMd+KTzhg+agmj0KNgTyiZE9cfU+w94MoEzmcz0LwUblTsI/sbtuDeCE5/JHSb2ZzrknmTkQBwWZ9GU5f9bT1WL21iqmOuWdoEzaRMbYfrTm1g51osbWJWSzSOaQABYS6Qfzx3NtNwKfHJiGs2vH0SG72KCBAwhafGFHlgWBZ+c8rUPKVLAUBXr2ZXmWMmVQZgWDbTQBCJwEzgHFviRYGbXVbrlkRmJ9B7z5kFy6Z47J0deYbAuceMcwxbsbaHkwZ8qoT506pyDLufzZsEgDDH+NlJkwf5acslppmIpit8WHO2bIoVc8djfJkfv3l6I1aePAUumWDZ0TUo8Mj48QkTsez+tXnhseXH1uCm57fuLVv2yFBkEUvv22t89FdFwPJOrJhTizVvNGcNi66YxhUzDwIDyUvhRsV+IMpKNrShqkProuR8sUmaJhb3yTW4/OQ6JE0ToQS71NAp/NATN0BBmcmATjkV3XGDWa0RShgwLPZi0xnV8ee1O/IModHFk9Ed1/GHf23LhjIsG/jDv7bhmlOnMg2UurNmIuCSsaUtlmM8XPy1iRgRdDGPmVoVhCgAF54wIdsDxSWnmqopEmF6PXyqBLcsobbcl9PHQ7dsx3bt0aSJgFvCgoYqbG2LZA2eBQ1VjhUrTj1JCtwK2qMabn95W47Bc/vL23DFwjrMmVSR8wyktDVyyzAHG68igYDAttlVRoVeGQ2uAvy/93bhtMaRoBSglGBLaw9mVhfgze1dzPsWTFd6ZL6v5cfWYEKZn+ltYC1WrKqDvj1IZFHgipmHONyo+AwyYY9Uv7O9oY2Hzp8LTdP261zJZDKbtMn5cuOSJFz+ZG5uQEZpUvKyVTCdmmZ5XRJU0TmngrlweGTHao1Mz4e+x/jcEk6YkqsA+ePjJyCUTFVosBb1pME2kDTDRkywsPr1XDnw1a9/gqsWTWXmdESSJlSZoKJvo6+EDlFgh19UWYANG+0RPa/KZEqln30/VRGSQKDKYo7Bc8WCVGiC1YRMctDPsEFR4lOY96awn7LeoUSVBIQSBrpjWl6J8FWL6rGlNYpw0sBXJ5cjHNexYU8YT763CxfMnYD2cAI2ZT8fNWU+/OykiYhqFh5btxM2BTa3RXDW4aNzvA1OVQROVQeZ5/GG06cjrjsY3Fwx85Bh4EoqX3AyYY/eBoQoK9A0Dd/+vxdg23Y/R3M4bJyqFbpiOrxKSo7bJaf+e2YWQVUiWDGnNmd7Kg/CgmHbuGBu7mcXzK2FIhLmuZw0GrrjBkRCmOdSRQF/fCsVYjh/znice0wN/vhWMwrdMpKGyZxbgUfJbsvgkgUUeGRoZkoF8+5Xt+GWF7birle24YzGagiE4vtfqYGYPkwkwPe/UoNyv4pSnwsxzcbyNevwo4ffxfI16xDTbFjUzlbMnD9nPJYfWwOPLKaFxGjWoMhc5xVPbkDCSDUn6z3nVQvq4FUk2BTMkl+RiDn3YNnRqXuwqyeZDb9ktq9+vRltYQ2aaeHyPt/B5SfXwYaN846rzV7/3a9uw3nH1UIZ4lc9gRB4FAmXPfkhNNPCtYsbcOs3D8Mt35yBm1/Ygiv/30bc/vI2RJImSgNuiARYeuRY3Pj8ZrTHDDz53i5cOn9KzvVcOn8KLn9iPSJJC3e9sg1nHzEaAVWEZaf6npwyY2R2X6cqgkzVQW9csoBjxpfg6RXHYF5dheM+XDHz0IF7KvYBp/yIgeRNsCS8+yp0ci2LLy5Bt7N0c1dcg4g+pZaaAd22mY3Gjq4twu4ejZlTUFPqZZ7LqSeIJ11OyTrX6GIPWwpbNyELIvOtu77Kz0xG1C0Lblli5nXMHjsdMd3Ky6kQRYKoZjINhPuXNOGe17Znq1ksG7jnte24fnEDWh3CRh1RHUkjV78iaaQMNKcciY6YhnOOHItrntnb4+KSeZNQ7leZ3ohSvwrNsPDouvzciQvmTsCergjuX9KUTYh7Y2srxhR5Bvtxy6E7riOWfuNvi+j49dObcNu3Z+J7D6zLua9XPvUhzj9uPG5/eRsumFuLM2dVw7IpzmisxsNv5X7XSd1Cc2ci2/H0xue34A/fnoFf/GV9nrfBqYrAqepg1piibL4EV8w89OFGxSCTybno/e/+qkZYGhYZhc7eSaFcNOuLhWaauGTepLzFSTMtSIKIW//1cXaBpBR46v1d+P0Z05maD9QmKPI6uNg9Ch5btwPfOnwsTJsi4JbwxHuf4ntfqXUU2FIkgXmuYq+Ka57ZxJTCViUBy44ai46YDpsCkgAsO2osXLK0t/KhlyF08dcmI2E4995wyqnocdDDaI9qzHOFkoZjCKjMr+K6ZzfllNXe/e/t+NWiqY45EsVeFVf/fVPOgnrfa9tx1aI6pvGUNEz4VRlzJ1fkNQ7zqhIqC334Tu8qnwV1KPMPbZK3KAgo9aUqYh5btzOtfMoOK1QEXCj0KLjx+S24fnEDygIq1jV349iJZQBSYanuuI5r03Ls6SgxkoaNuGZl79ukcj8eWDYb00c6l5fuS9UBV8w89OFGxSBjmwbO+cMLkH3BrFbFWX94EQ/8YM5+VY30TQrNGBwPnT8XhBDuzficUxl0IZQwc96Si7wyKoMqeuImzpxVnbfgx3ULj63LT5SsmjsBNrWZvTx008TcPp1Ar1hQB8O2mAJbHTEdIwvYstamzTYCNNOEW5bgUSXc8fe9RtJVi+qhWSY7GVE34FEkZnnmnWc3Mhe4SNJ07j+SNhD6ekquW9wA3bKY8uI2ZTchM20LboFdogvCLsVVJIlZNnrR1ybBohaqClw597qqwAWbWnsTX3sdM3N00ZA+e6pMoJsWfv2NqfjFXz/A/3t/N36ZDmf0va87uuM4ZcZI3PriVggCENWMvOfSp0po6YlnKzWyx3bFcfYRo+FVRHRGNVz3j024ZN7kfis19qXqgCtmHtpwo6If9jWxMplMwrKs7L6CrMA2DSy761Xcfe7RECT5gCpGMkmhD//weAB7czkyGhh9vRmczw+hhIVLHsuXz169tAkAMLLQlZOMGEroAGxmxYgoAC6RnfTXOKYBK5/ITQhdmVbH3LC7G4tmVKMjoqHUr+Kv7+zA5MoANNNGiU/OGd+ybSgi2whYvbQJhgU89FZ+iexP5012PMapvXhCt5gLXIlPgc8lMhf7oFtkGmKKQEAh4vmN+bLf5x4z3nFutg3mgv/TeZOZ9/mo8cVML5IsEJiU4NUtbVg0ozqns+mpM0djbXMIa5v/k3MP2qNJjCsbugXTtgFJEPHM+l245zuzENVMbG6N4LL5U7Cqlzx3xkg4deZIuGQBiiggrtk59+vG57fg96dPh9/txS/++gH2hJLZ5NX7XvsE3XEdt581E+t3haCblFdqfAngRgWDA6nQyBgRQq88i8zfbdPAsntex91Lj3A0LJwMmIzHom+iaO8/OZ8/WsNs1crWsIaxxW4kDIqLH+0lLrSwHi5JdqwYsajF7OXR4dAJtD2i4ehe3TY/bo/i6NoyqDIAStASzq+WGBFkdy/tjGnwqWKeOuPK+XXo7KcTqVOIodSvMD0likjQHTeYehy/WjTVUaeiskBlemvaHfIm2iMaJJEwF/xQXGcaLwIhTMlxWRIgg2LmmBIsve/tnPG9CrtiZ6iTDm1KEddN/OPDDhgm8J2jxuKq/7cRPzq+NutNoRRZBU2BACtPrkNzZzzvXEnDhmHbSBoWzjp8NMJJM6tvkWmd/vYn3bjrlW1ZI4VXanyx4UbFAZAJS1iGDoHszUQW+lvkCcl6LvaXTKWJ5Nq/BC6eh3HoUlXgYqpWVhW4kDBspvjV706f7lBOl/I0MDthOrQeL/OrWNvcnZcMObLQA820HJMhmXkGnpShzJLPXu0gn13sVWBRyi7DtIFbXtyScy23vLgFv1o0FTHdZOpxxHW25HWhR0FSt+FRhJxGaKGE7liiW+pXQR3KJgNuBatf/zDPeKku8kC3KHamdS0EkpJi10wbiiDAr+aOH03qoCDDknTokSWIQsqgeXFzB74+bQSSho37X2vGWYePzgntXDp/CmJJA5GEjlFFXhR4cpcMl5zS4ni7uQuTKwIoNMwcgyKTZ5HxAi0/toZXanzB4SWlvfiscEfGmMh4JfqWk1qG3m+JKUmHQQ6Ez/JKsObOKoflHBrYlDKTEW1KHasVfOn+Gr1xyalW4b07Yd7ywlbc+uJWNHcmoBmpvhM5JaXz6xzHj2imY7lrZ0xjlo2GkoZjtUQkaTDLU03bRmtYY5Zh7gklmdcS1VIeANY98Cgi8zp1y4QkEHTHDKxt7saWtijWNnenGrJ5RKxaUN+npLQeZX4RTiWyScPMGi+ZuXXHUwbKrS9+DCt9CywbuPXFj9EW1jC5IgCTkpzxTUowscyPeXUVeHrFMXho+exs2eRQJx1Orgggqhm4+pSpcMkC2iKpkMWeUBJr3kh9Hyvmjse1ixtwx8sfw6KAKom4+pmNMG3k3a/tnVHYFNjYEkapL1UF0/ue/eWdndnnYUK5n1dqfMHhnop9oK8xQQEQUQKs/VO+s00D31/9FhSvH8lkclCSLfs2L+tbqto34ZN7LA4NnHUqDBT72KqNPlVktgpX04YFs0RUZicQLj+WLTet6TZKHMYv8io51R/ZZMhTG0Dc7Dd7RRLZpa4ldY5lmE7JmP15N2TRQfJ63mSENSPvuSeE4NPuJASYWL2kCa2RJMr9LuzoDGNLaxJBDztH5YbTGpg5Hd5058++11IRcEFRRMybXIH3g6Fsv4ppI4JQFBEADnrSoaKI8KkyOiIaHvrubLRG9GzS5p5QEne/ug2XzZ8Catu4+MRJkCUBlz+xAXtCScQ0M3tPUiW4JjpiqRCJZae67y4/tga1ZX5saYtkRa8y92NyRYBXanzB4UYFg956Eb2NCUFWIMgKLEPP2dfJ+8D6rG8S57K7/427lh6ZrfDobST0/tMJp+ZlvT0XvVVACSHcuDgEqCpwMxfOygIVBIRpPLgUAUG3lBO3FwRAIgSSwjY4Am4RZ8zKbSh25cJ6VDhVUQQUSKLAPJdflXDeV8fnLahlARGiCKxaUJ/tM5J5iy30SA6Gg4KAK5Urclmv3IlVC+sxslBk5lSU+kWEk5TZY8SjsK/T6xIhSwSXP/FhjobFXa9uw+9On44fPPifvHvwp+/OhiQQZo6KIgkozbSfT4cyLGpjTJGbeS1TRwQBpBbyxjFDW9WxPwTcIvwuGZploiIgQRZduP2smeiIaGjuiuPmF1IemN69N1yygM6olpXMvmBuLQCgxKuA0pQuyJmzqhFwybj/tW04vXF0jtfihtOnY2wJ91J80eFGRR8opQiFQvjufW/i5jMbcN4Da7PGBAvbNPC9e1+DyMh3yHgmiCCAiLku28z5CCFYeucroJYJIkqQVFfWgOn7pyjunWNvQ2NfEjZ7V448/MPjs0YML00dHiaVB3D1KVPxs798kF2Erj5lKiaXB6EZBnb1JHKMB1kiKHQT7CAENmj2PCIhKPMLcKkq9oSSuceIBGVBF8pCWs4iSClFdYkn+3aaGf/X35iKMaWp55g1frGXYMoIb86bvUcFXBIBQHFYtT/ns0KvCL8K/GrRVPzv43vH+dWiqagMCHCpLowrNXKOEUUbAggmV3qY47h8BIVeBR2xvYZ9oVdBqU9Ah1/OW+wrC1xIahp+NHcCft7rWn/zjakYERTxq29Mxf/22v6rb0zF2FIPFAjY3fd+SgTjir2oLfHjgz0hhIkJtyxiamURXC4Ji6aNQE2Jl+mNONQYXxLAjq4kCtwKDIvC7wZ29tgo8MgoCxRh6oggJJHg8ic3ZA2K33xjKiqCKm48swEFbgVuRUBP3MTH7VE89PYO/HBOLcaVeNEW1fDL/6rDlIoAGscUcj2JLxncqEjT2zOw5PaXICguR2OhL/0laAqyAsoIk/Q2DARZARWEVEil1/kyXhEiStk/k8kkTF3DsrteheT25ngzMgZC5s9Mv5LeZMIhoVCIl6YOI5IkYP7UERhb4kVLKImKoAt1lUFIkgBJUnF0TRE2tETRGgbKAirqKnxwqwrGl1F0Ri20RijK/CqKfSLKAimX8uxxhdjcEsseM6HCiwK3Cw3VwOaWGARiwiWL2e1zJpdgdWETWsMaynvtDwCza/LPFVBVACHs0Pa25i7xpsa3bQogjO7Y3mv0q0BQ9eKoccgxEKqLRBR5/FAUEePKUnMDCECAcWX+fscBgFmjKcr9rpzzlQUCcKlqn+sMoMDtgq2qOKKG5s2hLBDA3MkqRjncg2NqirG+JZK9B/UVfnjcqf+bs8YW532nh5o3oj8kScCcCWXYsDuEAi9Bd5RiYrkLrWEL7RENlUEXTNvGVQunImFYKHBLUEQBPUkdVQVu+FwiNMNGkVeGIvlx3akNCGsGBEIwd2I5JCn1EsX1JL58cKMiTabC4q6lR6YWXuQbC5mFfTDoz4vhRG9DhAIwdQ3n/OEFiC5PTjjl1m/NxHkPrsOt35rJDKeEQiGce89r2WqS3nkXB+q54JUm+48kCWgYVYiGUfmfed0qmsbmlx+PLQmCkFiqUZVfzXn7K3C70DQ23zDc3+39fVYWCCJu7B2/LJAaXxAISnwBtEZCUEQBqiygxBeAJAkQRT929oQgkNR+GYPiQMbp7zOncwkC2e9jAMDjVtDEMB6+KEiSgIbqwrRBGENrSENHTEN5wAVKbciCAJ1YsCkFCEGBV8G0UYXc28DpF25U9EJwqM4YTGMicz7btlOLeR8vRmasTDikN6xQSzaMkp47ISRrrHx/9Vv9hlN60zs34+w7XsEdZ89CIBDIMTAyyaCZP3t7NjKVJhmPR++8lEz1iaqqPNQyQIZbTbC/8Z2MpAN5g+9vnAO5B8N93w5lBIFgdLEPo4v5veEMHG5UpEkmkzASMSy/598QCNm7sNv2kPxp2zYIsN/HAoBt6MzPe8/dThsndjqp1IhHU2GUXn9Slwc9PT0wtSR6enpAbRs9PT2wdA3n3PYibjvnCPxg9Ru4Z/lX4XK50NPTg/MeXIe7lx0Fl8uVY4Bl/t77z7P+8ALuXHIklt7xEogo4+5lR+G7976GNd/fN8nyQ4nP23w5HA5nOCCsuPsXGUJIO4Dm4Z7HPlICoGO4J7GffBnn3EEpndffDgf5ufs8fgeDyZfp+gf67H2R7xW/tqHD8bn70hkVnycIIWsppY3DPY/9gc95+PmiXc/+8mW//v3hi3yv+LUND1xRk8PhcDgczqDAjQoOh8PhcDiDAjcqDm3uGO4JHAB8zsPPF+169pcv+/XvD1/ke8WvbRjgORUcDofD4XAGBe6p4HA4HA6HMyhwo4LD4XA4HM6gwI0KDofD4XA4gwI3KjgcDofD4QwK3KjgcDgcDoczKHCjgsPhcDgczqDAjQoOh8PhcDiDAjcqOBwOh8PhDArcqOBwOBwOhzMocKOCw+FwOBzOoMCNCg6Hw+FwOIMCNyo4HA6Hw+EMCtyo4HA4HA6HMyhwo4LD4XA4HM6g8KUzKubNm0cB8B/+M5g/nwl/7vjPEP18JvzZ4z9D8OPIl86o6OjoGO4pcL6E8OeOM1zwZ49zMPnSGRUcDofD4XCGBm5UcDgcDofDGRSk4Z7AFxHTtLFhTwh7QklUBt0YX+LGxtYYumIa/G4ZhmnBLUsIJw14VAkCoRAgIGmZUEUJbWENZQEVumVCJAJkUUBP3IBLFuGSBVg2EE4YKPOriGgm4rqFIq+McNKAJAjwqRK8qoDOmImeuI4yvwrTpuiOpY5RJIKYbqEzqqM8oAIAumI6PIoEWSQgAuCRJUSSJrpiqX1sStEZNVDklRFwSUiaNlrDGjyKiPKAglDCQmtYQ3lARXWhiE+7LYQ1A15FQlyzUOCREU7qCLgUUAqEkgZGF3kxusiDHd1xtIaTKPO7IIlAS0hDTDcxttgLy6b4tDsOrypBMywEPQo000KpT4VhUXzSGYNLFlHokTGpPABBIPikM4bOmAZFFBDXLZQHXBhT7AUAx88EgTC/S9tOjdEaTn7mvhzO54WeRBKbW2LZ/7MVARHFHje8bnW4p8b5nMONikHGNG08/t4u/PLx9UgaNkYXu3HeV2tx2ROpf7tkASvn1+G2lzeguTOB0cVunH9cLR5+uxmnzqjGFU+9k93v8pPrYNo2rvp/G/cee3IdbvvXVugmxdlHjMaNz2/JfrZiTi0eXrsDZ86qRlWBC799bjOaOxNwyQIumFuL1a83Q5FIdj6FHiXvHBfMrUWpXwGlBJf+bX3O9tWvN6M7ruPKhfW45cUt2fmf99XxuOyJDdl9Vy2ox+aWbhT5PLjphb3n/vHxE/DHtz7EmbOqs3P54Zza7L3a1+s76/Ax8CoCrnhqY878dvUkYFrAtc9uxBmN1Tlj33D6dCgSwZVPfcj8bF5dRZ6xYNsUz2xowYV/fvcz9+VwPi/0JJL4x/r2nN9JqxbUYUqlhbHF4IYFZ0AQSvtN5PzC0djYSNeuXTtk53/v026ccccbSBo2AOC848bj7le3Zf8NAC5ZwLKja3Dri1uzn1+7uAE/ffS9vP2WH1uDm57fmncsAMfz3v3qNiw/tgaWDdz64lbH45zmdv3iBlzEmEtmzqz59933viVNOOfetxzn91nXsC/X1/e+ZOad2Yd1Ly2bfd6nVxyDmlJfzne5rT2Kr9/0yr7s+5kWxlA/d5xDA0opNE2Dqqog5KAYnvv97L21vRNn35P/f3P1kiaAAE1ji4dmppwvEo7PHc+pGGT2hJI5/1kJQc6/gdS/M79vMp8nNJO5n93H5ssc2995M8f1/p3GOs7pHDGHuWTOx5p/333bI8l+5/dZ17Av15c3b93M2afv55l7wvqsLZJEX1rD7Gtg7cvhAICmaTjj5n9C07ThnoojrWGN+Vy3RpJoDR+68+Z8PuBGxSBTGXTDJefeVta/ezuIXLIAjyox9+vrZe99rNN5M8f1HYN1HOscXhd7Lr2P73vuvvuW+l39zu+zrmFfri9v3sreefd3L1mflfld6Et5gH0NrH05nAyirAz3FPqlPKAyn+tyvyubY8XhHCjcqBhk6ioDuGpRffY/7ZPv7cKqBfU5i93K+XV46v1d2c+vXFiP/8/eu8fpVRX23t+1r8917jNJCCQhJAGcBBERr7VUoGIPJKlV2upbXls9fT21itBaPVYTEqj1HE/x0NbW117xVK1YFBJeb0Cr1iIqUIGESxISiITM/fbc9229f+xnP3nuM0kmk0lmfT+f+cw8+7L22nv2WrNmP+v7/O56+CDbrxus2e7W6wcZSNu1+14f7nvPYy9x01Xra9Z96C3ruf/JI9x01XrW9Scrx4jmHHz98Zdq6tOsjJuuWk/R9bhty8aG5V9//CVipsZtWzbW1H/n5tp679y8kQf3HuFDb6kt++arN1TqF9Wl+lrN9fz+8JcvZEWH3VA/0xD82TsvZfcTjce+44ZLueTczpbroomc1azpTXLHDZfOaVuF4kxhw/JkQ5+0c/MgCQsGl6dm2VuhaI+aU9GE6hn/yzti5B2XghtgaoKiJym6LknbxPV9dE1neKbEmt44JU8yli3RnbSQUjJdcFmWtsmWfLIlj2UdNpqAohfgehJJQNIyyZQ8iq7PQNomZWvMFHzyTkC25NGftgikZCLn0pu0QARIqTGaCWdte4FkKh+uyzkuadvC0CDvBoznHM7riuP4AZN5l+6ESd7xiFsGEzmHpGXQETfwg4CRjEPC0knbBgXXoyNukSv5jGRKDKRtkrYOIsD3BXnHZzzn0Ju0SNk6edfH831M3WAq79KVMJkuuCRMnZipM1VwSMfMyrqC49EZN/EDeHm6WD4PH01o9CYNJvP+MQPG8zB1HV0TjGbDY3q+j6HrSAIEGpN5l56EyWTeJWnpJG0dL5CM5xzipk7KNuhJaWSLVIyWvrSNpUtcX1SuzXTBpStuoGsaYzmHrriJ63uYmsFw+XpftDxJR7zhSYWaU6EAoFgs8q7P/4Avv//NxGIL8kTrhO69qUKRgyN5co5PvuSRsg06EwZ9ybC4I1MuXqAxlg3ve10TdCdCc2skE9pZq3uSnN+nbKglSstfurI/6qie8d+dsPjAL12ApQvSMZPpgsdff/8Av375Kv712aGyrbGXDQMp3v261WyvMiBuumo933rqKG/btKLGYNi5eZCi67PriSO8+7Vr2DOTqVl/+9aN5Esen/rWs5Vlt1yzgX/4jxeYzDvs2DzIX33vQIPVMZl3uPnqDTzw9AHeefkqtu/aW7E7/vmnh/n1y1fx1UcPN5gPN121nqSl89ffP8hk3uGmq9ZzbneckYzDx77+VI2V0ZM0KTh+4/KEzmTe56+/v7dp+VH9Invjw1dt4MBojs9857nKdjs2D/LYC2NcvqavxiRpZsDs2DzI/qEpNizv4nPfO8C7rljNTQ/ua3tOa/uSZEpejWmyc/MgDz5zlEvP662p8y3XbMDWNb7w/QMNRs7OzRt528Z+0o0DC4XijGCqUOQHz40zNFPkjgdq283qngSXrUqwssvk1//m8Uo/c+v1gyQswZGpUk1/pWwoRT3q7Y86XhjPVRTCt192LiOZEgkr/K/61t17ue6Slfz5v+7nxjesZcf94R+/9735gsqAAsJJT3c+tJ/3vfmCSgOMlm/btZexnMONb1jLofFcw/pP3LuHsZxTs+yOB/bx9svOpegGbN8V1qH6ONG6zz64jxvfsLZSl7dfdi53PrS/Uufoe309x3JOpYw7H9rP/pEsB8dyNdvt2L0X15NNl3fE7ZprU19+VHZUh0PjxwYU0Xbbd+1l62WrKgOKaPmtu/cykik1bHv14Eq2la/FZ8sDinbn5PqyMqCo/l28+3XnN9T5jgf2MZ53an7Hx/bZwzNDufm/8RRnFFJKisUiZ+KT3n1DOQ6MZisDCjjWbp4dznB4wufwhF/Tz9y6ey9dCbuhv7rl7p/xwrhqD4pjqEFFHdUz/oWAQEKu5FWMiGa2Ritzo+C0NjoKJY9AtrYU6pc1My+aras+ZrVpMRcrovp1K7ui2fLRbKlt+fV1b3XeY9nms9KbHrNsl8z1nFoZLVM5t+3vqOkseTVDfslzJlgerRieKbXte4YzRYYzxYZ+ZjLfvK0oG0pRjRpU1FE/418XkIwZNUZEva3RytxIWK2NjoRtoIv2lkL1snbmRfW6+mPW2xCtjlddhiZoaVc0W96fstuWX1/3VuddXc5s12Ogyi6Zyzm1Mlq6kmbb31HTWfJqhryCxW95tGJZh92271mWjrEsHWvoZ7oTzduKsqEU1ahBRR3VM/7veewl+tM2+ZKLLuDW6wcr9kC1rfE3P3ieHXUGxE1XredvfvB8g8Gwc/MgfUmLux4+yJreZMP627dupC9p1Sy75ZoNFfNix+bBplZHZFfc9fDBSl0igyKqczPz4aar1tOXtCpl3HTVetYPpFjbl2ywMkxDNF0+UyjVXJtW1khkb6zpTfKRt15Ys92OzYN84/HDDSZJMwNmx+ZBHtgbWie7nzjCzVdvmPWcTE00mCY7Nw/ypUcONdT5lms20Juwmho5Ozdv5OLlyv5QnLlsWJ7kgv4Ut1zT2G4uWpZmVY/Oqh69pp+59fpBpvKlhv5K2VCKepT90YTI/hjJFFmWbmZ/eCRtI7Q/hM5IpsSqnjiOLxnPluhKWEBof/SnbHKOT67k05+20AUU/Vr7I1vyKDoBfWmLdKxsf5Qf2felWtgf2RIDqTCTYzLv0pO0yDsuKdvCLNsfEzmHlV1xXD9gsuDSFQ/Ni7hlMJlzSNgGHbaBLwNGMy5xS6vYH0nbpOCG+SA9SYuEpWPoEq9sf0zkwuVJS6fg+Xh+gKnrTBVcumIm00WXuKkTr7Y/yusKrkdHzCSQZfsjbePJOvsjE56f6/vouoYhBGPlY3q+j6HpSFFrf0zlXeKWTsrS8ctZJXb5nHqSGtlSlf2RsrEMieuJsF4t7Q8fU9MZyYYWzMXLk80maSr7Y4nRyvI4E+2PQsknYet0xQ36Uo32x0DaxtBr7Y+847FK2R9LGfWJmnPFcXyefGmKTMlBQzCRL+B4krzjk3VcNAEFN0DTwNR18q7HQIfNzycLuH5Q1q/CeRhdCYuRrINpaKzsjjGRcyh4AY7no2uCohPgBRIpJR2J8I95viRxfEnR9elLWUzkXEqupD9lIYRgNOMCkLL08vwEiW0KBJB3AjQBJT9gpuiSjhno5d+w6wVIKelKWIxmSnTEw2CwmZJDzgnoS5ks77BwA0mmFFDyArJFl/60TdHzcbyA0YxDwfXJFF064iZxU8PxPQQCTYChCWxDY7Lg0J+ySNoaAbIciObQGTMw9DDMTELlkzMR4HgBmhC8OBG+P5uwNTQNknaovAZQ+djjvBOAgEzRB6gcOx3XyTseTiDJljy6kia5kocXSF6eKpF3fDKR2qtJpgoevpQIJJqAlK0zng+v7zmd4aPtXClAApYenqO/QPehQnGqWdapYRsajh+g6wKhCZwAJvLQ32HSlwrDAi1doGuCQMLq3iSvXdvLL120jAsGUmiaIAgkB0ez/Oj5MQ6OZgnqJ0EplhRKKa3CcXy+/cwQhpBkSwGPvjDGmzYs48hkgYeeGeIdr17FrbsfZ8NAine9djX/8tjhGuVwdW+c37tyXY1aGmmUv3flOr791FF+dGiiHCh2TAuNtvnAleswDYf//eA+3nXF6orVsLo3zvt/cR07djeW++7XrsbWNf702//ZEBB2+erOil5arYB+5ccvsm8ky/brB+mMGfz9f+znqouXs7Irzhd/dIi3XLS8RrHcft0g9zy+v2H5TVetZ2V3nB/uG+aN6wd4eWqm5tg3vn4NR6aKNQpatR7bTDetVl+/+uhh/uCa9RRcyV9970CDrhrt864rVnN0qlDRcFf3xnn/m9fVqKD15b/3jedTKBszzfTXnZs3cvejLzac821bNnLNYD9dSilVnKFMFYpMZov89IVMbdBhWRtf1WPzzNESq3piCCTPDWeIWQb3P/ESW1+1qkYhVaF7inrUk4oqnnx5mgMjWVIxi21lxfHASJY7HwoV0lt3H1NIb929t0E5vO6SlQ1qaaRRbt+1l/e86fxQw7y/VguNttm2ay+HxnINmuR1l6ysDCjq94n0x2qFNNquWi+N9tuxey/ve/MFlZ8DGW5350P7OTCa5cY3rG1QLHfcv7fp8jsf2s+BkSxbL1vF86O5hmMfGG1UZqv12Ga6af33roRd0Wjrjx9t89kH99VouNddsrJBBa0vdyznNFVRo/ps27Wn6Tl/8r497FNKqeIMZt9QjtGMXxlQQK02ninI8vcAP9BIWCYHRrK8+3XnNyik1Qp+VI7STJc2alBRxdBMkUDCRFkzHMscU6+aKaT1yuFsIVhT5UfrrbTQahXyeMqNnjbWb9dOdY1+zjleRUMNJC012HaBZ2PZRkWtnTLbTI9tpr4Kcex3cTwBY7Nt205rbaXnVm+jlFLFmczwTInhFoF/OcdjOFOsfI9+DiRMlZXSaoVUhe4p6lGDiipWdMTQBfSUNcP+9DH1qplC2ko5rH8dhWB1JcyaZc22aRd61arc6qeM1du1ql/cMio/Jy2DeFlD1QQtNdh2gWf9qUZFrZ0y20yPrT6f6u89VcrnXK/BbNu201rb6bnRcqWUKs5klnXYLcPykpbBsnSs8j36WRPQVVZKqxVSFbqnqEcNKqrYdE4nFwykyBYddpYVxwsGUtx0VaiQ3nr9MYX01usHG5TD3U8caVBLI41yx+ZB/vGHhypzFKp1rWibnZsHOb8v2aBJ7n7iCNuvb15upD9WK6TRdtV6abTf9usH+dsfPF/5WRPwxYcPlkPIUtz18MEGxXL7dYNNl9901XrWDaT4xuOHWdufbDj2Bf2Nymy1HttMN63/PpUvsWNzc1012ubmqzfUaLi7nzjSoILWl9ubtJqqqFF9dm7e2PScb9uykQ1KKVWcwWxYnqQ/pTcGHZa18XRclL9r6FpA3nFZN5DiS48calBIVeieop4FV0qFEOcBXwSWARL4gpTyTiFED/BVYA3wAnCDlHJSCHER8A/AZcAfSyn/V1VZLwAZwkn5npTy8tmO30rtcxyfp16eZmimyECHTbw8K9oLoOh52LoR6lUdNgKYKbihFkkY6BU3dRKWQakcgDWVd+hN2aE1UvLoTVqYusD1w6Cr7oRF0fVI2yZ51yfv+PQmTQLCx5PndcVwfMlwpkRvyiJharh+qJb2JE2CAEazJfrTNpoICMohY+d0xhACMiWfbNHj3O4YBTdgNBNuaxsaP58o0F8OCRvPlkjaBpoQHJ0u0p+2MTSJF4jKPl4QKpwjMyWWd4b/pY9kHJalbSxD8OJ4gWUdYdlF38f3YSLncF53HICs4zOZc1jRGSOQMJIpllVbD00IUrZB0fUwdJ1sySVlmeRclw7bQhOQcz2sKl01U3JJx0xmii4dtslMyaUnYVF0Q3W3K2FS8DxiRvg760uFwWSWbjBTcumMmfhBQNELiJk6mYJHV8LECwIyRZ+epIXjuRh6aOTEDaNyrTcsTzabpKmU0iXG2aCUTmWLjGR9hsvhfR0xHUODTDHAMkLbI24KhqZLJG2T3pTGdF6Sc3wG0jF0LeyDNCHKQYomOhpjuVLYHj2PjpjN4IoODGPu/79WBzomLAPH9+lN2qzpnZu+Wr3/so7YnPdTHBeLKlDMA/5ASvm4ECINPCaEeAB4D/CQlPLTQoiPAR8DPgpMAB8CtrYo75eklGMnUyHH8bn3yZfZdt+eSohYzNTwA/jao8cMj3q7ot4YqP5523UXM5F3a8yL+jCw//Frm3huONsQ6tMsiGzH5kFsQ+OfHnmhEmRWve5rjx7m0RenW5oi//rsEL/26lU1y5vVfWWXzQ2XH8vgaGa0tDrn//3rr2Qq73Hr7jDM7L/94lpyjs+dD+1veu0iI+M3XrOKc7rCmeZTeY+//v5eNq1McfXFK2rCxXZsHuQrj7zIjw5N1Bx3x+ZBbrv/6Zrr6niST95XHQQ2yL6hYS5Y1sXvf/k/m57Lx992EQU34EP//J+Vc//AlevYtqs2UOytG/vpVPaH4gxlqlDkicPTDM+UatpXZH/8fGyGjmSCuBn63ilL4+a7f8bv/9J6XLfEx+97jpipVdrLZx/c17R9R9bYb1yxmq2vXDmngUUzmyTqJz567cWzWiXKRjn9LPjbH1LKo1LKx8s/Z4BngJXAFuCu8mZ3UR5ESClHpJQ/BdxTVacnX55m2317KgbFSKZEzDDYvqvW8Ki3K+qNgeqfh2ZKDeZFfRjY86O5pqE+zYLItu/ay8GxXNOQq6ie0NoUufENaxuWN6v7jW9YWxPq1cxoaXXOnk/FkHn7ZecylnMq59Hs2kUmxp0P7ef50RxdCbsSBPbu153fEC5WbdBUH7fZdf3kfY3hYVcPNl6b6nLqjZDIyKktZw/PKftDcQazbyiHEKLh3o7sj0vO62PbfXsQaOwfyZKwLa67ZCWfvG8P65Z1V7avbi/N2ndkjX3i3j3sPTo9p7o1s0mifmIuVomyUU4/p3VOhRBiDfAq4MfAMinl0fKqIcK3R2ZDAt8VQjwmhPjdNsf5XSHEo0KIR0dHRxvWD7UIEau3HuYamAWz2wXttpktiKyd0dGqjq3KrK/78Rgt9T/n6q5V9fnNxd6YzLsV+2WyRdBXM4Nmrtd1tMWM91a/s1Z1nqv9Mdt9p1CcKtrde8MzpYpVVU21/RH9HL1dGbWF4SqrYy7tO+p3hqbnZoO0skmi8mezSpSNcvo5bYMKIUQKuAf4sJRypnqdDCd6zGWyx5uklJcBbwM+IIR4c7ONpJRfkFJeLqW8vL+/v2H9ihYhYs2sh7naDLPZBe22mS2IrJ3R0aqOrcqsr/vxGC31P9eHdtWf32z2RnfCrASB9bQI+mpm0Mz1ulaHkDU7l1b71b+eq/0x232nUJwq2t17yzrslu0rsj6inzUBA+VwsZipsazK6phL+47MsuWdc3u7sJVNEh1/NqtE2Sinn9MyqBBCmIQDii9JKb9eXjwshFhRXr8CGJmtHCnlkfL3EeAbwBUnUp9N53Syc8vGikHRn7Ypuh47NtcaHvV2Rb0xUP3zsg67wbyoDwNb259sGurTLIhsx+ZB1vYlm4Zc7dg8yBcfPgi0NkXuevhgw/Jmdb/r4YM1oV7NjJZW52xoVAyZex57id6kVTmPZtcuMjFuumo9F/QnmcqXKkFg//TIoYZwsWqDpvq4za7rbVsaw8Me2Nt4barLqTdCdj9xpKEOOzdv5EJlfyjOYDYsTyKlbLi3I/vjyZ+PsXPLRiQB6wdS5EsO9z95hNu2bOTA8GRl++r20qx9b78u7Jdu37qRwRWdc6pbM5sk6ifmYpUoG+X0czrsD0E4Z2JCSvnhquWfAcarJmr2SCn/qGr9rUA2sj+EEElAk1Jmyj8/AOyUUn673fHnan/Yhobnh/MESn5oDkT2h4ZgquCUQ7EkMwWPzsSxn3uSYaDWQNKm6AWhwZG0SFgajicZzZboTlh0xAyyjofjSYqOT085PGx4JrQ4ZFXgVtzSyRQddE2n6HrEzdBI6ElaxE2B54dvH3QmTHQRBorlHY/uhEXe8TB1jZRlkHE88iWfdEzH1nWGM0X60zFAMjQThnh1JnSmC37FnPACH0OEoVrL0zaGrvHzyQLLO2yssk0y0GFj64KZkottGIxmSqzojKEJwUzRpegEdKcMkILJfGi/ZEseuiZIWgZCkwgZvg8xmnGIWRoDaYuZYjg7PbRLBMMzTmi/SMlkziVpG6RjOo4nGcmUKuFnui7Jl2RlXyECSi4k7XAC7kTOJWHpJKwwEK43aeHLgJIbELfK1kgyvBZT5YCzZR02Fy5PNpukqeyPJcbZYH+MTBfDezsb3v8pS8cwJLmSxDY0AgkJK7Q/4qbBQIfOVEGSK9XaHwJRDi+M4QWSo9NFepMWJc8jHbMYXNF5EvaHjusH9JyA/TGSKTKQVvbHKWJR2R9vBH4LeEoI8bPyso8DnwbuFkK8F3gRuAFACLEceBToAAIhxIeBVwB9wDfKIVMG8OXZBhTtCAJJ3NQYSNvhH8SOUH/MOi7dcYuc42MZGroQFF2fIAjfn8k7HrapYWiCkufTGTeZyDmc0xkj7wZh2mb5yUfOkdi6DoCpC7zARyDKf/xNskWHjphFT8JkJFMiYemc1x0jbmlkij5eADNFh2UdNkEgkeVyJDCed1jdG2em4PPydPgHcHlnnMlslJBqgAg/FW9Z2sbSBTPFMNjM0CDnBBiaAAEvTRZJx0ySdljXmaJPX1LnnM4YY1mHroRZOa7j+1iGIGXr5Eo+U3mfZR0GFwwkmMy5eAHknTAczdQlJQ+Wd8bKb3MYDGdKxEydwAu11Y6YjuubTBZcZopheFl/2sI2NKYLLhKJ6wfYhk4ypmPpGkemivQmbZK2RszQQMJ03idX8uhPWzi+h6npFByPmKnh+uF7rsvSMUxD4EuJpWvkipKOePj2ykDaxgskL04U6YyZ2IZAFwJbqLgcxdlBOgZ+oONLi5wTDvDHpsL+KlN0sQydTFGStE2StsZ4NmC66BC3TA6OZelPhf3QZN6hP2Vj6KHK7gUSISBuGRydLiKE4BXLO9A00VL1bKaBru1PndT5LbEA7kXDgveQUsof0nqUc1WT7YeAc5tsOwO8cj7qVCx6/OjFMUZnHLbtCnXI9/3C+XzxRy/wvjet5bmhbEWL/O03rqlRQOu1yDse2Merz+vidRf01eha1dt98UcvYhmCD1y5ns99b38l5Op33nA+JT/XoJiu7I4zlXMqgVkxszaYa/v1g/iew3TerRzz8tWdNWpo9HgzChOL9FbHky1Vz/e/eR2f/8Heiqp5yzUbsHWtolxGZf704BivWdtXo6vetmUjBcerqfNtWzby3NFJ3rB+gLGM06CLDk1mWdGd4nN14WHNNNmPvPVC+lIWH73nqcqym6/eQHeixHjOrZxPs32rNdKPXXsRAvjTbx+r587Ng5iGxv9+cF9DiNltWzZy/cYVxGJqcKE4M5kqFJnKFTkwUmQ06/D57zeG9W2/fpB7HjvMr79mNT89NMoVa/vpTZl8/Ot7mcw73Hz1hoYQv3r1vLq/+ZNf3URn3KjRuSPVE5g3DVQppacf9YmawFNHp9GFVvkj9/bLzuUz33mO6y5ZyWi2VKNF1iug9VrkdZes5B2vWdWga1Vv9/bLzi3rintqQq7G805TxfTASLYmMKvo1gZz7di9lw3Lu2uOWa+GRttFYWKRhtlO9awPPqsOL6su8x2vWdWgan7yvj0Ndf7kfXu4enAlhqY11UVft24Z25qEhzXTZD/zned4fjRXs+yzD+4jYZk159Ns32qN9NPffrbhnKqD3ZoFij01Rz1OoViM7BvKMTLjV9pvs/t8Rzkw8ZP37WHrZav4xL17SJhmpd00C/FrF174x994iidfmq5ZH6me86mBKqX09KP+3QKGZkr4gWzQo05EixQCxjKlttu1CtFqpUIGTR7j1ZdTHxA0lzCx6v1nq2uruhTdgLFs8/Nttu1opogfND/mSPkc5hqo1qz83Akosc3KaRbsFq1TgWKKM5nw/pXkS37T9ga1Ouh4uX1Hamm0fi4hftX9TbN2NpIpIlv0eyOZ4nG/BdJOKT3Zt1MUc0M9qQCWN1Gsop+PV4uUEvrTdtvtqlXIdseK1mmCpoFZ1eXUq1RzCROrr0e7ulbXpX7b/lTz8226bTrWUmcbqDqHuaidzcqv11rbnV+7ctoFu6lAMcWZTBQoVt1W2umgveX2Haml0fq5hPhV9zfNth9Ix+ZVA1VK6elHDSqATSs68WVQUazueewlPvLWC9n9xBH6UnaNFlmvgNZrkfc/eYSv/fRwg65Vvd3XH3+prCturARl7X7iCD0Jq6lium4gVROYFc1viFTI7dcPsu/oZM0x69XQaLsoTCzSMNupnvXBZ9XhZdVlfu2nhxtUzdu2bGyo821bNvLg3iN4QdBUF31k/zA7m4SHNdNkP/LWC7mgP1mz7OarN5AvuTXn02zfao30Y9de1HBO1cFuzQLFNs1Rj1MoFiMblicZSOvEjLD9NrvPt18f6qC3bdnIvY8f5vatG8m7bqXdNAvxaxde+Ce/uolLzu1sqnrOpwaqlNLTz4IrpaebZnpVvuDw/HgO15dkii4x02C64IRBVH5ApuCRjhuU3DDYJueEuuVAOgzFEkKQLkd9z5TcMLiq6FZMkJ6kRaG8Xco2KHqhjTBTdEnZJl7gY+o604UwGKvk+WSKPnFLI20bpGIaUwWfghMGjw2kbTQBL00VGUjbuL6HlBrLOkwm82UFM23TndSZzPlhGFaqHCY2VWAgbZMoGyUTOYdlHTF8GTCVc+lOWpVQr4LrEbcMJnIOvcnQwBjOlOiImWTK55cpuVi6Tm/SZLroMZYNg8bScZ3JnIsfQLbk0ZcKjZPpokeu5LG80ybw4ch0keUdNogwLG1Nb5zpgl9jzRiaRtI2mC6Eamo6rmMbOvly0Nh4tkRP0qbgenTFTZCQcTwKTkBn3MALAgxNY6YQWjZuOTjs/N4kphGGIZm6Rq7kEzO18K2oQOIGkkzRoyNmln83JoPLO4iXDZEqlFK6xDgblNJiqchEHqYLHjnHo8M2Gc2V6E/aSBFgCJ2ZkkPCMomXn+7lSi6GrmPqAlPXKDg+w5mwv+lK6IznPMazYd9pG4LRTNj/BUj6UzZ+AKPZRtUzsj8mcmFbzDt+2zCwdqFhSik9eeYQyraolNJFRb7g8O8Hx5kuuHzu347Ngm5meuzcPMhE3uW/f/0pNgyk+M3Xrq6xCj7xXy7G0DRu3X0sgGrH5kGKrs/Hvv5UzbIoWKyVnZCyDf72hwf5jdesYnVvgpenivyv7z7X1GCoN0uioK9VPTFypaCpTfGBK9ezbdeeGnMiaet86lvPNMwEv/nqDfzpt56p2CrNjJH6kLF0zMD3JX/67WcbwsWifW65ZgP3P/FyJTxtLoFt+4dmeO0FfTWzzD/0lvV8+tvP8l9/YS1D06VK/kjM1Lh968ZZw4zW9DV/rzWaSf5//8NP1ExyxVnDVKHI0ck8e4/m+OefvMi7X7uG0WypwTpb3hnjH354iH0jWW69fhDbAF3TKnp3zNT54o9e4NEXpyttwzIEf/C1J2ra3+3fPBb216r9aJpgTW+SZ4cys5obsxkemiZY259ScyhOkJM1aJb82x97hjK4nmTbfbWzoJuZHpEVUHQD3vfmCxqsgpHMsT9o0bIoCKx+WWRVtLITRrOlii0SBFQGFNXbRDOx682SaH06ZrW0KaIBRVTeZx/cx0im1HQm+Gcf3Fdjq8wlWG0kU6pYFfXhYtE+dzywryY8bS7lvuM1qxpmmUfn3+z6H0+YUT1qJrliPikWixSLpz+DYt9QjkxR8ol793DjG9ZyaLx5sOGhsVzF3rh1915M3eDAaA7Xh4RlcmA0VwkyjNpGveHxiXv31Bhk7drPXNubapenlpO9vkt+UDE8U6oYA9UzmGczDprZFXO1N6rtg3bHidbVGw31ZTSzNYpuUAnlOh6bYjbDRYi5GxXRebczW6qDzuZSbivTpN0x5hpmVI8KJ1KcjQzPlCq2WKHkte23qu2NKGAs53iVn6P11fvUl1NvkLVqP3Ntb6pdnlpO9vou+UHFsg675SzodsZBM7uinb1Rv6zeqmi2T2RgtDIa6gO16pd1V1kWx2NTtDpWffnt6lNvrMw1PG22cluZJlK2PsZcw4zqUTPJFWcjkf0RM8PAxHb9VrW9EQWMJS2j8nN9kOFc+rpW7Weu7U21y1PLyV7fJT+o2Lg8jakLdm6pnQXdzPSIrICYqfE3P3i+wSroT9uVQK1oWRQEVr8ssipa2Qn9Kbtii2gC/vCXL2xpMNSbJdH6TNFpaVPs3FwbuHXz1RsYSNtNZ4LffPUG7n8y3KeVMVJ/7IG0XbEq6sPFon1uuWZDTXjaXMr92k8PN8wyj86/2fU/njCjetRMcsXZyIblSdK24PatG7nr4YOs6W0ebHh+X7Jib9x6/SCu77GuP4mpQ95xWdefrAQZRm2j3vC4fevGGoOsXfuZa3tT7fLUcrLXV9kfhJM1D4zlKHlhCFdkf/SnbFw/YKrgkbR1UlZoEji+rATouH4YxLW8o2w3lFzsKHwsbWPogpmCS9wyKkaDpQvyjk+25JOw9HBmNYLRbIm0bZC0dKaLLpoQxK0w32IyX8I2DDJFl56khR+E4WWpmIHj+SRtE5CMZR1S5TLGcg7LO+zwrZCCS2fMZKbg0pUwsQxJyROMZ0v0pmymy8t1EYalxU2DbNGjK2EymQ/XJSwoOISzvTvscpBQGI4WIJnKla+TbVD0/MqM8uliaLUEMvyAsUzRoz9tA+F17EvZ5Mtmy4rOsL7V13RoxmFFl03aNhnOFDmnK8bIjMNIpkh/ygYBPQkbXYOpvIMXwFg2DDQ73jCjeuY4k1zZH0uME7E/ovkU82yFnLD9kSkUGc2EfV7cLLfZok/MCsMHLUPj55N5epM2liHCp4GaoOT7mJqGpoXLqk0NoKa9rOpOcHgyP2cTY67mhjI8Ti1zuL7K/miHQ4AvJVN5l/XLYoxkfFw/VArzrkfS0rENjazjVHTR3pTFRN4haRmc2xUj7/pM5j0SloGmRY8CBQLQNI3xrMOKjhimLjgyVSQVM1jRaaMJQd71yRQdehKhuiiApG2E71fK8A9kyjYwtPDtgvFceNzelEXOCdVOL5CM5xw64wa2oTOWdeiIG5S8cKDRnTTRNYHjB0hA13QcL9RcvSCgM2FgaCAQdMZNHE9S8sL31c7riXF4vIDjhYOVmKERBBKQmEZ4b03mwsFOOCtcI27qlDwfCRSdAC8msXUNYQokYXhZ0ZMYukZn3OKSlWHnM54rYRkafSmLnmQYUlT0JONZBykFrh/w8lSJuKGFx7F0YobOSKZIwjIqIWu9KQuAf9s3QszU6U6YbOhP8/JMgZFMiemCSzpmkrJ1siUXDY2c47GmN4kfSA5P5klaBiu6bMazJUYzDroQnJOOqdwPxVlB9ITbNMAPQqV7oMMmbmpM5Ep0aRZr+xPkHR83kMQMjbzrIdAwdA3X99HKmvxIpsQL4zlW9yQ5v682DCwabAzPFCuvNU3UpZEaOH6o7EdhYu20RmV4nFpO5vou+d5xqlDkoWfG+ONvPMXtmy/iJ4fcGtUy0jXf+8bziZk623Yd00XDACuDqYLXoGMlTJ2/fvIAv/bqVS3DrD7y1gsZSNv8r+8+x7uuWM1nH6xTujpi/O+H9uJ4sqWSOZC2eXG8wO3/3zM1+37rqaNtVc2dmwe5+9HDFR3sI2+9kBWdMfKOh+tTU+edmwf51lNH+dGhiZr6RwFjf/rt/2y4Xh+48gJ8KdhRp9c+9sIYr79ggD1HMjX1uX3rRv75Jy/ylouWNwQbff77BypKWrU+m7INXpqoDTUKQ9AONL2eR6YKHJ0q8umq8LCPv+0iLEPn1t17W16nz33v2PF3bt7I5k0qUExx5hJ9RsUPn8/w3b0vc9XFK2oU7R2bB4kbgu27nuZDb9nAii6L4ekiCI2EqfPQM0d59Zo++lIWk3kHXQvD95ppo630xF++eBnffWa4ZnnUtj967cVN1yud+8xgyc+p2DeU44+/EX6GxKrejgbVMtIVx3JOQwhWFGDVTMcazzvc+Ia1bcOsPvOd59g/kuW6S1ZW/gBWb3doPFdROFspmQfHcoxUZY1E+86mam7btbdGB/vMd54jCCBmGA113rZrL+950/kN9W8WMBZdr4RlNpSzfddetl62ikPjuYb6RHpbs2CjaiWtWp8dzZYaQo2iELRm19P1ZGVAES0fyzkVDbXVdao+/rZdKlBMcWazbyjH4QmfT9y7h3e/7vwGRXv7rr10JW2uu2Qlf3zvU+hCx9QNDo2FHxC49bJQ6zZ1jZhhVML3ov2r9cNWeuLeo9MNy6O23Wq90kbPDJb8oGJ45tgf5PpQLphdV2ylewaydahXvXo5m+I5W9hYM41rLqpmvQ6WK3ktz2cq77asf7Pza1XOeLY0J7202fWqft3s3Ku117n+ruYaGFf9WgWKKc5kqpXSSDuvpugGTObdSnsYyRRrdNIoYGwy71aWt9JGW+mJR6db97Xt1ittdPGz5AcVyzqOKYqtVJp2umIr3VMTrUO9moXytCoj2vZ4w8bmomrW62DJmNHyfLoSZtv6159fq3J6U/ac9dL641W/bnfurc63WZ3mGhhX/VoFiinOZKqV0lbhft0Js9LOBtKxGp00ChjrTpiV5a200VZ96orO1n1tuD7edL3SRhc/S35QsWF5kj/51U3ETI3DYzMNqmWkK/YmrYYQrCjAqpmO1ZuwuOvhg23DrD7y1gtZP5Bi9xNHuPnqJkpXb7KicLZSMtf2JRmoSkWN9p1N1dy5ebBGB/vIWy9EE1B0vYY679w8yD/+8FBD/ZsFjEXXK19yG8rZsXmQex8/zJreZEN9Ir2tWbBRtZJWrc/2p+yGUKPt1w22vJ6mLvjYtRfVLO9NWhUNtdV1qj7+zs0qUExxZrNheZJV3Tq3b93IPz1yqEHR3rF5kKlcifufPMKfbN2EL31c3+P8viSmLrj38VDrdv2Aohcub6WNttITB1d0NiyP2na4vkNpo2coS14p9byAsewML00FTBccVvXEmMz7jGZCJTEM9wqDtSxDYOsaY1mHroQVKlglj+6kiYZgIheaDynbYLrokrQM0jGd8axb1igtdCE4Ml2kN2nRkzRwfSi4PtmiR9I2mMofK0NKH03o5Fwfx/PpilvknDBYrDNuoIkwDKs/bRMzdCYLLrmSR08qqo9DzNRJWDqmJnB8yUgm3L4/pTM045EteXTGTcaryvFlQNENt13WYZOydV6aLJKwdNIxg0wx/ES93rLaOlVwSVkGcUsnU3KJmwaT+dA4EVIwXFZpDS3A8zXGcuFrCHXbzoRJ3nGJGUZFbxvNlljWESNuafx8okBH3CBtm4znStiGhqFpjJV12EwxNDnSMb0ceuQzXXTpiJmMZUt0Jy264gbnd6c4MJ5lKu+Sd/xQrdU1pouhQpsveawu2x8/L9sfju9jGTpTeZfuhMmmFZ3NJmkqpXSJcTYopcVSkeGMxA8C/AAmcg5xK+wvNA0sXcfzA0Yzx5ZbhoaUEgkMT5dI2KEZlym5lQ/FyrvHLI5qy6NeT6y1P3RcP6BnDvvNxhzCsBQnj1JKmxENKH74fIa/+Nf9vO9NazkyWWBZp40fBPznz6f4zHdqQ7zSMYOepMVPX5ioTOprFgoWzWR+/y+uozNu8Pc/PNhgNlSbBZev7uSdl6+qmYW9c/MgHXGDD3/1iZpy//XZoYZtI0vC8WRDENpNV61nZVecL/7oUMX22Ll5kEdfGGNNX0dNnaL/Wj56z1MN5/LeN55P3DL45H17asqObJBt172CuKXz37/+eE29dCEZCnxyjqy5Rrdt2UhH3ODdf/vjumuyt2lo2c4tG3nw6Zf5pQtXsOP+xmv9h798ISUv4C/+dX9DKNodN1zKkakiv//lY6bK7Vs38hf/ur9m1vrq8n9C+0ay/Lcv1QaJvXp1j+qcFGc8U4UiR6fyjGVcxnMu//TICw2W2vbrB+mKG3z6289W2sdNV63nnK4YtqExU3D57IMHKkF/CVPn7x8+xI2vX8Pf/vshJvNOja3RTE+cTVs8Ea3xZMOwFCfPkn77Y+/R6cos6OsuWVmxCTpiFgdGc5UBBRwzCEYyJYKAGkugWShYNJN5x+69BAFNzYZqs+DGN6xtmIW9bddePJ+GcpttG1kSzYLQ7nxoPwdGszW2x7ayiVFfp+279vL8aK7puYzlnMqAorrsyAbZef/TlcC16nolLJOuhN1wjT553x5cTza9Jk1NjPvC2erRgKK+fvtHspXfZf15HU/YkQosUpzN7BvKkSlIJIKPff2pppbajt178QNq2sedD+3n+dEcXjlQrDrobzzvcN0lK/nMd56rLD8dbUa13dPPkn5ScXS6GL4vWGV4AIxmWhsKgWw0G2YL4cqVP8SqnVnQyhTJVRka0bK5WCXN6l1ve7QK52pldLS6JrPZIDnHwwvknM+v3XlMtZitXl2/2cLgmh0rej2SKSJbnOdIpqg+bEdxxhPaSxI/aN+f5ByvoX1EBgjQ0mKrXr7QbaZdGJZquwvDkn5SsaIzXjM7WRfhV3+6taGgidZmQ/3rSiCYZcxqgrRan7SMhmVzsUqa1bve9mgVztXK6Gh1TWazQZKW0XKWebPza3ceXS3Kqa/f8ZxX9euBdEwFFinOaiL7I2qT7fqe+vZRHShW3+6bhQ4udJtRbff0s6QHFYMrOiqzoHc/cYS+lE1v0mKm6HBBf5KPvLUxxGsgbaMJaiyBZqFg0Uzm7dcPomk0NRuqzYK7Hj7YMAt75+ZBDJ2GcpttG1kSzYLQbrpqPev6UzW2x87Ng3zj8cMNddqxeZAL+pNNz6U3aXHblo0NZUc2yLbrXlEJXKuuV95xmcqXGq7RbVs2Yhqi6TVpamJs2ciXHjnE9uuaX+t1A6nK77L+vI4n7EgFFinOZjYsT5KOCQSST799U1NLbfv1g+gaNe3jpqvWc0F/EqMcKFYd9NebsLj/ySN85K0XVpafjjaj2u7pZ8HtDyHEecAXgWWABL4gpbxTCNEDfBVYA7wA3CClnBRCXAT8A3AZ8MdSyv9VVda1wJ2ADvytlPLTsx2/fia04/hM5DOM5cDxAtwgwPPDGdFdcQvHD5jIucRNHcsUxA2dmaKH4/t0xkwKbkC25NGVMLD1KHPDZKboko4ZxA0NL4DRbInlHRaOH7690p+2KbphVsh0wcU2dLriBjnHZyzr0JO0SNk6edcDqVUsj7wT7hOZFJGhYRkamaJHvmyGRHZE3AqD0Iqeh6HrTJYthoSpMVUIzyO0KsIgMtsUJEyDTMmrhH0VnDAjJG7pJEydbNU6LwjIFH16UyYCQaYYhqeNZUv0JC1MXaAhsEyNkuvh+aENsrzDZnmXzdB0qRxMFp5zOqYxnfeZLIT1nCm42KaOZQgGkjbTRQ8vCHB9yWQ+rEOm5NIZs7jknE40TbD36DSTeYdEVT2Wd8Q4tyvMF4lmmzt+gKXruL5fM+scjjuwSNkfS4yzxf6YzIMvA6YLHqamV6ypqYJDb9LC1jWOzpQqRlrC0siWAoZnivSmLHQtrIKphZlBQgiGZuY35Ot4bQ4VNrYgLCr7wwP+QEr5uBAiDTwmhHgAeA/wkJTy00KIjwEfAz4KTAAfArZWFyKE0IHPAdcALwE/FULsklI+PdeKBIFkIp/hmeEimaLPVM6p5Gt0Jyw+8EsXkCl6ldfV+RvNciJuumo9SUtn2669TOYdPv62i0jHTf77159iw0CK33zt6qaGyLuuWM2Xf/Iiv/GaVeW8j/Bz9KMsi2rTYcfmQZZ3wstTpaZlve9Na3lh3OeOB/Y1reNtWzbyNz84UDFRmm2zY/Mgf1W2Ulb3xvm9K9fVmCZ33HAplqHxW3//k4bjf/Tai/mF9Y2WhOcF3PvEET5x7zFzZPv1g3zlxy+ybyQbPkk4p5NdT73c1N6IclbC93prM1BuvnoDX/7J03z02ou5dnA5gys6y8d6vOZ3s35ZiivXD/DsUIbf/sef1pzPZatq66wCixRnK1OFIi+O5Xh+tMDPx2ZY0ZNm2317eP35PVy7aQUf/MoxQ6raEvvqo4f5vSvXVfqGqA3f89hhrrp4Oed2x3nb4ArW9M1fmzkRm0O13dPLgr/9IaU8KqV8vPxzBngGWAlsAe4qb3YX5UGElHJESvlTwK0r6grggJTyoJTSAf65XMaceWE8/Ax8XWgcGMnW5Gu8/bJzGcmUal7Xr6+3E+58aD9jOacy+/lT33q2YkO8780XtDREPvvgvkqeRZT3AceyLOrtDEvXW5Y1mi1V7I9mdfzkfbUZG8222V5lpVx3ycoG06SZSVH9uf3NZlrvPTpdGVBE++zYvZf3vfmCY2W+PN3S3ohyVpploETXLzp2s2Pd+dB+nnxpWmUKKJY8+4ZylFz4+Dee4nXrlrGtbHS9502NOSDVlljUF1QbITt2hxlCdz60n/0jWfbOcy6OsjnOPE7rnAohxBrgVcCPgWVSyqPlVUOEb4+0YyXw86rXL5WXNTvO7wohHhVCPDo6OlpZPjxTZDhTZCLnVnIkopu33nZo9rqVYdDMhmhnbFR/r96/1TFGW1gbc63jXHJBZqtDK5MimmldT6vP8o+MlKIbMFSeud0yu6OcM9DuOo5kii2PFcjW9TgVmQKt7juF4lTT7t6rzv4Yqco7apUDEmV91Nsd0fqoPwkkDE3PbztqZ3MoFienbVAhhEgB9wAfllLOVK+T4USPeZvsIaX8gpTycinl5f39/ZXlyzpilVnQkflRPXN4ttetDINmNkQ7Y6P6e7PP0a/fp5W10czQaLbdXHJBZqtDK5Oi1UzrVp/lHxkpMVNjRdXM7Vaz0dsZKNGxWx1LE63rcSpmh7e67xSKaqSUFItF5nN+W7t7rzr7o9qWaGVoRVkf9XZHtD5e7k80Acs757cdKZvjzOO0DCqEECbhgOJLUsqvlxcPCyFWlNevAEZmKeYIcF7V63PLy+bMmt7wM/B9GXDBQKomX+Oex16iP23XvK5fX28n3HTVevqSVmX288ffdlHFhvibHzzf0hC5+eoNlTyLKO8DjmVZ1NsZju+3LKsvZVfsj2Z1vG1LbcZGs212VFkpu5840mCaNDMpqj+3v9lM68EVHdy+tdYc2X79IH/7g+crZW46p7OlvXHz1RvIO27TDJTo+kXHbnasm65azyXndqpMAcWio1Qq8et/8SCl0sKk325YnsQ24FO/uokf7R9mZ9no+ocfNuaA7Czn9UTte0ddFs7268MMoZuuWs/6gRSD85yLo2yOM4/TYX8IwjkTE1LKD1ct/wwwXjVRs0dK+UdV628FspH9IYQwgH3AVYSDiZ8C75JS7m13/PqZ0EEgGZmZYbIgKbkBRS80C0quT1/SQgI5xydX8kPDw9DIlnyyJY+BtI0ktDlStkHC1HGCgJmCR2fcwNTLn4lvGkzkXbqTBkjBaLZEbzK0P5K2yXTBwTZ04maYnRHaFy4pO8yeMDSdTNGlO2GFmRsJiwDIOz6TeadSVtw0yLseSVsHKZjIO/Sn7DAvpOQz0GGRKbmYuk7JDTMtsqUwwyPKFOlNWmRLocERGRkQoInws/mj2ddA28/tb4bnBew9Os3QdJHlHTG6kiZHp2tnaEfbjOdKpG2T6YJLKmbg+QHndMYpuD6ZkofnS/KOT2/KIpCyJmsgOtbTR6c5Ol0iFdM5pzPO6pPMFGiDsj+WGPNpf7TbZw6csP0xlSsylQ8wdCg4YdbP6t4EecdneCa0ygwtwAs0HM9DopG2dRxfVgw2z/fxAuhJWFy0vAPDmP//U5XNsShZVPbHG4HfAp4SQvysvOzjwKeBu4UQ7wVeBG4AEEIsBx4FOoBACPFh4BVSyhkhxO8D3yFUSv9+tgFFO0pOOKDwAkne8ehJmvgyVEGTlkFXwgABJS8gZgpsw2K8HFbVGTeYKXrYhoYfBHQnzDBkK2Zg6QIE+IGk6Epsk1DVMgTTRYkdBPQlLRxfMpwp0peycX2/rJp6JKwwsKe7J85UwaPkBUwVPExdEDc1Ep0xMo5LzDQYy5XoS9nkS2EAmobADQJihsZ0wcXxJSs6bZ4fLdCfsvCCUKPVhcAub+MGAV1xk6InScc0kDCWc1mW1omZobb6H8+P0hEzcbyAybyDodlICZmix2OHJ+iJWxQ8n5enCvQmbbzARwiNQjkszDI0UjGTlZ0J/CB831RIyUTBpeR5GJpOrhSQtuG8nhiHxgr0p2ymiy6dcYv1/WmeGZ4hW/IwNI3BFR1omqjRzlZ1J0jFTDocn2UdMVZ2xtlzZIqXp4t0xAw6EyZ6VccUDWaOThdZ0RlncMWp6SAVisVEIEOTrD9ts7zDZiLnUHB9lnfYZB0XS9OJW4JE3KLkBQhNYAuBqQsE4PoS29RJxYyGkLD5CvNSNseZxYIPKqSUP6T1KOeqJtsPEb610aysbwLfPNG6hE8ppvnJi7kGnbSVLpqwdfyAGsUyCtWyDFETLLa6N87v/9L6hgCudMwgCCRCCL7w/ZdqwsGaaaQfeeuF9Kdt/uhfnmyoT3fSQkrJH91TFeJ13SCf/0GLUK7Ng2j4HBzNtTzXHZsHeeyFMV61qo8d99eWe8/jh9ly6blYhlZzDSKl9NcvX8VXHz3Mb7xm1bFr8uZ1fP4HBxo00SjQK6rnfx4e56qLV9SUu2PzIN9+6ig/OjTB9usG+bfnjnL1K86pzFiPyulKmJWwsNW9cT74lvUVA6TV7yFlG/ztD59g55ZBRjNOje56+9aNbH3lSjWwUJx1RErp/pE8n7h3DxsGUvz2m85naLpY0w/84S9fyP955AXe/drVLOuwiZk603kHx5d87t+eZzLvVJTSX3v1Kl6ezjOV91WY1xJnSfeYkVLaTCdtpYvGDKNBu4pCteqDxa67ZGXTAK6RTBhcNpotNYSDNdNIP/Od5zgwkm1an/0jWQ7UBYDtuL9NKNeuvazq7Wh7rtvLGll9PXbcH+pjo9lSwzWIlLPoe801KdenXhON9NGoDu9+XaPStn3XXt7zpvMrx3/3686vDCiqy6lWXK+7ZGWNUtrq9zCaLXHdJSvJFPwGBfUT9+6Zdz1OoVgMREppdM+/780XcGgs19AP/K/vPsd1l6zkjgf28fxoDteTJCyTkUypos1HSumO3WH4odI/FUt6UBEppc100lZKYn2YWLROiMb92pUTfVXrnbPt066cudQnWjdcpZG12qZV2FhhDlpn9ff6Ze3q2Uppm8q7NT/Pdn2O5/cgROvf6XzrcQrFYqBaKYVQd5+tTUdBYpHWXa3NR33YRIv2q/TPpcUJDSqEELoQ4tn5rsxCEymlzXTSVkpiqzCxdiFYzcqJvur1znb7tCvneOpTr2kdj7Yan4PW2SxYqNVxqrdppbR1Jcyan+d6fWZ7Hem7rX6n863HKRSLgWqlFELdfbY2XR0kVq/NR0ppq/ar9M+lxQkNKqSUPvCcEGLVPNdnQYmU0mY6aStdtOh6DdpVFKpVHyy2+4kjTQO4BtI2fUmL/pTdEA7WTCP9yFsvZN1Aqml91g+kWFcXALb9ujahXJsHOTw20/Zcd5TDxurrsf26UB/rS9kN1yBSzqLvNdfkusGmmmgU6BXV4Z8eaVTadmwe5B9/eKhy/C89cqiiwFWXU6247n7iSI1S2ur30J+yuf/JI6RjeoOCevvWjfOuxykUi4FIKY3u+b/5wfOs6Us29AN/+MsXcv+TR7jlmg1c0J/ENAR5x2UgbVe0+Ugp3X59GH6o9E/FCSulQogfEH4a5k+AyptmUsrN81O1U0O9XuV5AWPZGcZyUHR98o5PwQlY3mnheKFm1ZO0iJkaXhCgoeH4oaEwVXDpipt4QUC26NOZMCuBX5miW6N+5ko+SVvHNETFtpgpupiaTsH1ahTOgnPsdXciHMjYpo6thwFiSdvA1AWWrlXslLgVhpl1JUy84JiG2huZJWVFbGW3zpFJn4m8Q09ZUU1ZBuM5h6RtkLL0cucR4Pk+uqYzHlkl5XOLmRrZooul64yWg8hMDWxDp+R7GJrBdCFcrmsaE7kSXQmLkudhG2HI10DaxpeSmYJHV9ykP2UxnnfRRYDji0p9O2I6z4/m6U/buL5HyrbZ0Jdk73CGibxDd9zE9STLOm0m8y4jZYMm+t0UynUeXJ7mwFiuoph2xU0K7rEgsSCQ7D06zfBM+Psuuh6mrrOsw2ZVz6wz2JVSusQ4G5TS8UyRmWLAaMahP20hJWRLHkUnoCdl4geSybxLX8pC10J7LQwzFBwazzOQtulO6LwwXqS7/DQxW/JCFbzo0JuMnRKL6lQYJov5uIuUU6KUfvIk9l0UBIEsDyh8njmar0zma2ULJEydv3/4UMVwiILAPv62i5nIu3zwn48F8fzPd1zCWDZbYzJsv34QHcnnvv88737tagbSNh/7+lM1dsWffuuZmjCxD3/12Ezqj7z1QnoSFp/61jMNJkVUvz/55tO8/83ruOfxw/zXX7iAfSO5GlNi5+aNfO57++sCy44ZHjs2D9KbsnC8gGzRJWZqFF245e5j4WF/+vZNZAoun/rWsw02Sjpu8r8f3NNgnjQ7VmTNTOYd7rjhUt6yvp9de47W1Ld6m9Aw2csH37Kef/7Ji21D0SIb5feuXMdDz7zA1a84h62XnMMl5+lN7wVNE2xa2cWRqSH+r7/7cc3x1y9L8ZYLly3lDkRxFjFVKPLIgUk64hrjOY+OmM7ITImpgsv2XXubtqfq4LBzumL83b8fYt9Ilp2bB3nm5SkGOhNN2t+xkL/5ajsnEjB2Jh/3TOSEh5BSyu83+5rPyp1qIvsjX6LGDmhlC4znnRrDIQqycn3ZEPB1YCTbYDLs2L2XhG1WZlQfHGtubUR1aGaBRIFj9SZFdf0iS8P1ZYMpsW3XnjkElmkEASQsk66EzbZdtWUcGstVBhTVxx/LORwayzU1T5odKzJEolniTx2dbqhv9TbRdf/EvbOHolUHIEXGyJMvt7c5moUXRUFkaga74mxh31COp4dmMDSD/SNZYqaJ68tKf9WsPVUHhz0/mqsEAW7btZe3blrZsv3Nt/1xugLGVLDZ3DnhQYUQ4nVCiJ8KIbJCCEcI4QshZmbfc/EQ2R/VM6Fhdlug3nBoZg+0mk2dc7yaGdX16+cS5DWXdQXHa2uqtDvGZN6tzPRuNqO71blFJsrxmDDVs8iHZloHpVX/XHSDmoC2dmVXGyPDM+1nobcKLwokaga74qxheKZEIKmYbyOZYk1fMVsQYWStRctHM83bTbuAwROv++kJGFPBZnPnZN7s+kvgN4H9QBx4H/C5+ajUQhHZH61Ca+pfR7Oe6w2HZvZAq9nUScuomVFdv36uQV6z1S9uGbOaKq3K6U6YlZnezWZ0tzq3yEQ5HhOmetvlHa2D0qp/jplaQ0Bbu5nrkTGyrKP9+9Wt7gNNoGawK84alnXY6IKK+TaQjjX0Fc3aQXVwWHUQ4EC6ebtpFzB44nU/PQFjKths7pzUDBop5QFAl1L6Usp/AK6dn2otDJH9kbCosQNa2QK9CavGcIiCrExNNAR8XTCQajAZtl8/SL7kVmZUr+1rbm1EdWhmgZzfm2xqUlTXL7I0TE00mBI7N2+cQ2BZgKZB3nGZypfYubm2jDV9ST7+toua2ijn9yWbmifNjhUZItH7k5tWdDbUt3qb6LrfvnX2ULTqAKTIGLnknPY2R7PwoiiITM1gV5wtbFie5OLlHXi+x7qBFEXXxdREpb9q1p6qg8Mu6E9WggB3bh7k208dadn+5tv+OF0BYyrYbO6crP1xNfC3wBBwFHiPlPKV81e9+adVoFjRk4xmfMbLNkMUnDOWdUjHDBKWznjOoTNmUnBDo2CmHP7VkzQoOpK8G+4/kLKJW1r4mND1Gc+GVkfC0pnMl9A1nbRtUHRdNKGHmR1JGzfwMHWDyfwx68PUdbLFMCQsVg4cixvhsTtiJpN5p/xUQWesXL+c64VPRAjoiJlkiscCgroSOlN5n4lciZ6kXcnjGC+/jlsaQSDxA4njB8QMnYStkSmGH4jVm7QwdMFYNrRHxnMOcUvH0gUxUyeQEk0I8o7Pis4YfhA+Xk1Y4To/gPFsaFgESPIln1U9Sc7vC2dSO47PUy9PMzRTpD9tk7B0MkWvJrRsVXeCw5N5JnIlTF0j7/gsS5ftj2yR3oTNVLFs5vg+lmFwyTmdWFbzSZrVBIHk0FiOwxM5Epah7A9FU84G++PlqQKmJsiXJDFLUHQlBddnMu/SU87GGcmE5pcf+PiBIB0z0IXg55N5elM2aVvnyFSRjniYNZR1PLrjFm4we8DgiXK6AsZUsFkNp8T++C3CJx2/D9xMGEP+aydR3mlB0wQx22a63OC9QGKbGl4AU3mXnmSoHpY8gaGDJwPSMZNseUCRLXpYhsDUtKoyQSLJlnwc36cnaTFdcCsaqBACIaAnaZEp+vSlbMbLgxdNgKkLDE1gGTpTZaUrV/IwdI2CExA3oSOmIyV4viw/kgxDfgDyJZ+kFSZ7Zoo+Qki6EiZTeRdZ/qMfhWk5viRuQczSMXWB64efbJkuD0aMRDhps+j6WLpGX8quzAXxAwikpCNmcmF/iudGM0zmHXoSNkIIDo7lWN2T5DWrezg8mSdbcvH8MAVW1wSeL3H9gKBucoksf+lCsKE/XRkMBIHk8ESOxw5PknM8VlcNRoJAwngOxw/oS9tsWtHBnqEZxnMeyzv0hmNE5UWKWDpmkHd8Sp5Ph22GqbGWzkT5o9A7YuZcBxgKxRlBT1wwNBOQdVy8wCRTcuiKW/SlLAqOT8H16Yyb4dsdtollCA6PF7HLbyUmLK2iYOddF13oOJ5EaIJLz+k+Zbk5rQLGTrXyqYLN5sYJDyqklC8KIeLACinljnms04IyVSjy3NEZXpwose2+PW31xEglvfH1a+hJWPz3bzxOd8Li5qvX4UtRMUCitxkefOZlLj2vt0b9vG3LRh54+mV+6aIVLO+0GMu4TdXVHQ8/XQnlioJ7Pv/9vbw4XuDy1Z01IWTR2xa2ofH+r9cHgO3n1169is9//0DTgLHo3D581QZeHMvz6W8/27DuA1eu5+5HX+TIVIkbX7+ah54Z4teqskGqz/eNFwzw3FC25hi3b93ITw6O8uo1fS2VtT975yu5asNAg1K6c8tGtl5yDoah8a/PDbN/uLbsO264lF++eBnffWa4Mjv78tWd3HD56oq1EtVv86YVxGLhLV+tiEX1+eefHm6q6ka/A6WXKs4GpgpF8qUijxzM8uUfv8Cvv2Y1f/lve/nAL17AZN5rCBa75ZoNlaeG33nqKN/cO8xNV61nZVcM29T4i2+GfUx1/7fQgXxK+Vw8nIz9cT3wM+Db5deXCiF2zVO9Fox9QzlAr/wha6cnRt8jtTPaPmGZDUrptl17ePfrzm9QPz95X7h8x+696EJrq65W65Q7dh/TTetDyCIVtJmiGoX9tAoYi87p0HiuMqCoX7dtV6hwRvvf+Ia1DXpodL7jeafhGJ+4dw9bL1vVVln7g6890VQpjVTQF8ZzPPnSdMN+t9z9M/Yena7RvW58w9oGDXbbrj08VRUQVq2IRfVppepGvwOllyrOBvYN5Xhpwufj33iKG9+wlk/eF2rmCdtsGix2xwP7ODQWBoq94zWrKm3hwGiOjphV6WPq2/xCBvIp5XPxcDLDyFuBK4ApACnlz4DzT7pGC8zwTImROQRs1auk0dP0doFUU20Csopu6wCeenW1ug5AjU5Zv1/9skgDaxcwJkRrTbRaUW2mc9afV6tyxjKlWa9xK6V0eKbI8EyxZdlHp2t1r1b1G54pVV5XK2JzCT2LflZ6qeJMpzpQLGorUT/WThfPOR7j2VLNsrFsqSEUMVq/kIF8SvlcPJzMoMKVUtYPRU9s1udpZFmH3aBEtdOjmumgrdTNrjYBWTGzdQBPvbpaXQegQaes3q9+WaSBtdM8pWytiVYrqtGyVsfvSpgty+lP27Ne41ZKaXXwW7P1Kzprf3+t6resw668bhWqNpvSqvRSxZlOdaBYdVtJxloHi0WBYr0pu2ZZX8puGYq4kIF8SvlcPBz3oEII8U0hxPnAXiHEuwBdCLFeCPEXwMPzXsNTzIblScCvqIzt9MToe6R2RtvnS26DUrpz80a+9MihBvXzti3h8u3XD+LLoK26Wq1Tbr/+mG5aH0IWzalopqhGYT+tAsaic1rTm+Rj117UdN3OzRv54sMHK/vf9fDBBj00Ot+ehNVwjNu3buQbjx9uq6z92Ttf2VQpjVTQNb1JNp3b2bDfHTdcyuCKzhrd666HDzZosDs3b2RTVUBYtSIW1aeVqhv9DpReqjgb2LA8ybndOp/61U3c9fBBbtuykd1PHCFfdJsGi91yzQbO7wsDxf7lp4crbWFdf5KZohP2B3X930IH8inlc/Fw3EqpEOKdwJ8A/4fwQ6+uKa/6DnCblLLUat/FQL1e5Tg+E/kMwzMBQ5kSHTGDmKGTdXyKjk9H3KDo+sRMg5miS0fMwDI0ciUXQ9fJFDz6Uia2qZMp+oxkQnWzO6EzmnFx/ADb0JkuuPQlLYQGIzNhgI9tgOuLmsCxmKmVj2Ph+n4lqCwKyMo7LgnLBBFAoDGcKZX/w9eZyJWImwaj2RL9aRvP9zF0HSHCMKCC49OTNJESpgoOnXGLqbxLZ9zEMsDUdYquX9HIsqUwNCxhaSAFY7kwsGym4JKKGVi6xsvTRZZ3xLhoWYKnh3KMZEqc0xnD8yWO7xM3jwWlxSyNfMlnuLxNIMOgs+WdMTatCJVPx/F58uXpygzuahU0sj/Gsw5Fz8fxQm3N8X0sXWem6GAZOsvSNsuSNnuGZioq7aYVnZVJmhH19kehbH+kbZO865O0dPxAMpZzZrM/lFK6xDgblNJiqcjQTFAOFTTJOR6+DEhaJjnHJ1fySMcMDF1g6xp5x0NKga6Dpeth/2DoxHSNvBuGLI7lSvSnbJZ32TguTORLWJH2fYpDuKL2XKOaq+CvU8X8KaVSyq8JIb5FGCh2LeHgIhqZfAC440RqeDqIBhT/8XyWP773qaZWws1XbyBuajXhWTdfvYEv/+RF3v+L6/jpwTGuHlzOdMGrtT+2bOTRQ6Pc/dhRYqbG/3z7Rp4fcyuTFVf3xvnAlevYtqvWoLj70Rd59MVpYqbGH//KxViGVhNUtnPzIA8+82KDVbJz80Y6Ewb/zz8dC/6K7I1qi2TH5kEeeuZoef9jM6U//raLiFsGn2xhwHz8bRdRcAM+++C+pmZEdVBZzAwD1Rwv4BP3PlYzI7w/bfGZ7zzbYFlEs8UtS+fyNT1Nf1+aJljVk+Tpo5maWd71ds5Hr72YVYNJXnN+b9vfv1LEFEuRmUKR/zw8heOFKcEvT2Q4pyfdsu3Xt68P/NJ6Pvdvx9r6js2DdMYNZgoFPvvggYqtds9jhyuhfwthZGiaYE1vkmeHMsoCOY2c6JwKhzDu3AZSVV/pearXgvDky9McnvD543ufamklfPbBfYzlnIZl112ykh279/KO16wiCGi0P+4LjYfodVfSrjE2Qqui0aC48Q1rK69Hs6UGy2NbOSCr3lLYtmsPrieb2hvVBsP2FvuP5ZyKidLsOozlnMqAIlpWXW51UFnRDQPVPnFvrYHxiXv3kCn4TS2Luc4WbzbLu97OUbO+FYrWPDuUQxcarif55H17eN26ZW3bfn372nZfbVvfvmsvnh8GEFbbatWhf9G2p7ptKgvk9HPcTyqEENcSPo3YBVwmpczPe60WiKGZIlIe+0PcLqirflm07Vi2RKHkN90vmikNNJge7UJ7IlrNxI7skfrluap96+tZbTA027/6WM3q1s4Oqf+53fbVgWr164ami7zyPNrSapZ3vcExkimqJxCKk0JKSalUwrbDD3M7WxieKeEHkpLrV9rKbH1gsyDF6vVR31PdH7SyQk5l22xngaj+YGE4kScVfwy8U0r5sTN5QAGwokmY2FytisiK6E/ZLe2PaKY00NL0qH8dWRbQ2siI7JH65UnLaFjWzCJptn/9sWZbX11+/c/ttk9WWST16+YyW7zVLO96O0fN+lacLKVSiV//iwcplRb1NLHjZlmHTU/SrPRbc+kDmwUpVq+PAgir+4NWVsipbJvKAjn9HPegQkr5C1LKvaeiMgvNpnM6WdWt8ydbN7W0Em6+egN9Sath2f1PHmH79YN87aeH0QSN9seWjdz7+OHK66lcqcbY2P3EEXZubjQovvjwwcrrvpTdYHnsLAdk1VsKOzdvxDREU3uj2mDY0WL/3qRVMVGaXYfepMXNV29oaUZUB5XFzDBQ7fattQbG7Vs3ko7rTS2Luc4WbzbLu97OUbO+FfOFblqnuwrzzkXLk/gywNQFt23ZyI/2D7dt+/Xta+eW2ra+Y/Mghh4GEFbbatWhf9G2p7ptKgvk9HPCgWJnKq3sj6PTASMZh464jqFpjJeNhWzJpTNmUfJ8siWf7rKJ0Rk3sXTBSMahO2lg6zo5JwwUW5a26YiH9kfB8emIhyFkPUmToisZmSkx0GFXDI7I1uiM60wXfEYz4QzqvOvSm7SJPhhqWYeNpUscX5QNEbOybToeBp5ZemiadMZNpgsuPQkLiWRopsRA2sYLfAxNp+h6xIwwvCxphzO8U3ZoQAzNlFjZFY7sw0A1HUvXmcg7dMZD+yNm6SQMnZmiy3k9SVZ2xMq2xTFrQ9MEe49OMzRdZHlnjMEV4bIXxnOM50oIBBM5h2UdNoMrOuf8kb7V1kbC0nH8AEvXKoFjp2G2t7I/zkJmMznOZPtjplDkyGQRX0LJC7ANKDqSqWLYZ+Qdn7zj05Uww9BByyBf8kjHTBKWRs7xmciFBlnMEGiaCE2pbNhHDHTYeD5M5hfexFDBXwvCKQkUOyGEEOcBXwSWEVojX5BS3imE6AG+CqwBXgBukFJOivDNzDuBXwHyhEmoj5fL8oGnykUfllJuPtF69XVoeIHJcPkPfjqmoQtBR0yvfOKkaYAvJYGUWLqg5AfELZ2pnEt3QjBT9FiWtrENjUNjBfpSFumYTt4JcDxJyZVM5R16UiaGJhjOhIOGzkQYJHZ0ukTSNuiMm0wVHFIxA8cL0DVBzNBwvIAgECAk/SmbQAaVwYMUkHcC7LhOT8JkLOfQkww/jCrjBKRtHVsP/2hrQoSTRxM6F3UkGZpxGcmUEELQk9DRRIypgsvq7gS9KYuh6RLTRZe1vUkMQyDLn663oiPOpau6Kw22mbXxyvO6K/MkPC/gqSNTHJ0usqIzzsXL0rw0XWB4psjhyfycG7+yNhTzSas/9mczOgLLgGxR4vkBUgp8Gf6l8ANJ3vGImTqGJkjFNBw/oCNuImWYxqwJga6HwYi6rjFTcOiIW3TGwz5UAlIG9KXildC/hUL1D6eXBR9UAB7wB1LKx4UQaeAxIcQDwHuAh6SUnxZCfAz4GPBR4G3A+vLXa4G/Ln8HKEgpLz3RikRPKTIl+M/DmZoAqiiM6zeuWE2+5PF3/3GookF2Jyz+2y+uJef4Dfrpp8qq6Vd+/CLTRZffu3Idf/W9A22DqiLN840XDJB3a8vcsXmQv/regYq+ddNV60la4edZSERNqFikfr3/F9fx3T1H+aWLBsg5fiUoK9LCalXUQT5XVf6OzYN0xnR23P8sliF4/y+uq1Flw2CzY9vPVdfyvIB7nzhSMUKit4iq1TSlfikUp55cocSeoRlGZhwmc06lL/mr7x3gXVesbtDGV3bF+OH+ES5c0UVfyqLk+sjyROy/f/hpPnDlOlZ02ex9eaamP9p+3SCf+c5z/M6bLlDtegmxMBFyVUgpj0ZPGqSUGeAZYCWwBbirvNldwNbyz1uAL8qQR4AuIcSK+ahLpJRO5vyGAKoojOsT9+5hLOfUaJBvv+xcxnKNwVnVqun73nwB112yku279s4aVBVpns3CuKL9q/cbyzkkLLNBN42Urx279/KeN51fqWO1Dtaoou5t0MMSdqiGRWXVXJfdtdvPVdfae3S6QTGtV9OU+qVQnHr2DmVBauwfydb0JdddsrKpNn5gNMfWy1bxme88x/OjORKWyZHpYiX4cNuuvRia3tAfRX2oatdLiwUfVFQjhFgDvAr4MbBMSnm0vGqI8O0RCAccP6/a7aXyMoCYEOJRIcQjQoitbY7zu+XtHh0dHa0sH5opMpwpVsJ1qqlWoqoDvsLyji+Aay5BVVO51mFc9fpWFO7T7viTVeXNtR7R68m8O2sAWfXruYT21Id+nUxZZwqt7juF4lTT7t6LQhQDGfZjuapQsVZK/Xi2VNP3RPtWq/Xt+tCzqV0r2nPaBhVCiBRwD/BhKeVM9ToZzh6dywzS1VLKy4F3Af9bCHFBs42klF+QUl4upby8v7+/sjxSSltpSFEYV/TUrnqb4wngqt+3etvo565k6zCuen0rCvdpd/zuuvLmUo/odXfCnDWArPr1XHStFZ3xeSvrTKHVfadQnGra3XtRiKIuwn6sWolv1kY1Ab0pu6bv0QQ1wYd9qeZhgFEfeja1a0V7TsugQghhEg4oviSl/Hp58XD0tkb5+0h5+RGg+iORzi0vQ0oZfT8IfI/wqceciZTS7oTeEEAVhXHdvnUjfUmrRoO857GX6E02BmdVq6Z/+4Pn2f3EEXZsHpw1qCrSPJuFce3YPFijb9101Xr6khZ5x23QTSPla/v1g/zjDw9V6hgdv1k9dtaVv2PzIPlSqIbtfuJIgypbHWx2PLrW4IqOBsW0Xk1T6pdCceoZXJ4CEbBuIEVv0iJfciv9VDNtfF1/knsfP8xH3nohF/QnyTsuKztjleDDnZsH8QK/oT+K+lDVrpcWC66Ulm2Ou4AJKeWHq5Z/BhivmqjZI6X8IyHEfwF+n9D+eC3w51LKK4QQ3UBeSlkSQvQBPwK2SCmfbnf8er0qUyiSK4WP5g5PhmFaAymbghtqVI7vYesGXhBQ8gLips5U3mVZRww/kOQcj5Ib0J20mC46WJpOOqaTczxMXceXPrrQmS66dMVCHTVp6diGzmi2SE/Sruihru9jGTolNwh1rrhJyffKYVkenTGTvOsSM41y2E+otYbaZ6itJiyD6bxLMqbTYRvknaCsx5qYukam6BK3DMayJZZ1xOiKa4xly+edtumI6bw8XSRm6CzvjGHogrGMgycDPD8MJeuMm5Q8nxWdCc7rivPM8AzjuRIdMQvHC1je2Vzj8rygRjG9eFkHL00Xzgb1SymlZzAnonqe6UpptlBkslhkIispuj66JggCyDguHbbJZN7FNjXSlkHR89B1nZgu0HSB50lGsw5diVClR4RGnCY0Zooe2aJHf8pCCElXIrbg9odiQVg8SinwRuC3gKeEED8rL/s48GngbiHEe4EXgRvK675JOKA4QKiU/nZ5+cXA/yuECAifuHx6tgFFPfmCw8GxHLoGT7+c43NlS+MPv/ZEg1ER2RPvumI1Dzx9lHdevqoyMemXX9HH1RevqAkHqw7u+uqjh3n/m9fx/37vAL/+mtUEgc+n/+0gb9u0gg9/9dixbrpqPT0Jk3Tc5KXJAnc8UDsLO2np/PX3DzKZdyr1+r0r19EZN/i7Hx6oCRlb3RtvMDd2bh6k5AX8yTefabBQVnbZ3PCa1Wy775idcfvWjWzedA77R7LsH87WWCl33HApV6yOs+upl/mLf93fYJU0MzkMQ6tRTAGlfikUC0wQSLKlIj87nGMy51QMsWrz4/LVnbzz8lX8P7tqzS9dhLEGUT90+9aN9KZM9g/nGvqrdQMpXrVKDSiWGqfD/vihlFJIKS+RUl5a/vqmlHJcSnmVlHK9lPJqKeVEeXsppfyAlPICKeUmKeWj5eUPl1+/svz97463LnuGMpRcyJeoWBD1dkR9mM5nH9zHjW9YWzPT+d2vO78hHKw6uOu6S1ZWZkJ/8r49dMRt3vfmCxpMjzsf2s+R6SJBQKWBVq8byzkVYyQqNwrzqQ8Ja2ZubNu1l9GqCVXVFsqNb1hbGVBE6z5x7x6efHmaJ1+abqjrLXf/jCdfDo2OZtdNzfhWKBYnL4znODzhV+yPyBCrNj/q+7jI/EpYZk0/9Il795Awzab91VNHplUfsAQ5rfbH6WZ4plRjf8w1TKc+KGcy1zzgKwruqt8vDCFrbm9Uz8Zutq4+wKvohmE+9XU43nC0VvUZmim2tFKGZtpfNzXjW6FYfAyXrbfI4GjWhlv1B5H5Ud0PjbSw5wKJ6gOWIEt6ULGsw26wP9oZFdH3+qCcVmFhUXBXtRESzZRO2M3tDa1uNnb9uvoAr5gZhvl0zzGwrFU4Wqv6LO+ItbRSls9y3dSMb4Vi8RH1eZH90awNt+oPIvOjuh8aSDe35zSB6gOWIEt6ULFxeRrbgIQFO1tYGvVhOjdfvYG7Hj5YM9P5nx451BAOVh3cdf+TRyozoW/bspGZQom/+cHzDabHTVetZ2VnDE3ALdc0zsLuS1oVYyQqNwrzqQ8Ja2Zu7Nw8SH+V+lVtodz18EF2bmkMALvknE42ndvZUNc7briUS87p5PatG5teNzXjW6FYnKzpTbKqW6/YH5EhVm1+1Pdx0ZyKvOPW9EO3b91I3nWb9lebVnaqPmAJsuQDxfIFh9FcHgmMzPhMF106Yybj+RK9SZu842IbBiXPI2mF9kY6ZpCyDaYLLpmix/IOG9vUmC74jGXC7BA/8NE1nUzRJWWblDyPuGmEZkjJZzznko7pmJrGeN4haRmYhsDSNExDkCv5eIEkV/JJWDoJS0NDMJoNM0HyrkfKMoiZOtmSi6XrOL6PqYXmyXndCQxdcGSqQLbos7zTpisRBpBFAT8D6Ri6Fn4I2EA6xrmdoclRHQBmGBpBIDk8kWN4pkTe8VjVk6zM6I6MjolciXTMwvWDBQsOWkQo++MMZinaH0EgGZmZYTgTUHR9XF/iBQEJy2Aq75Y/r8ai4IYBhz1JC0sPU5Bnih7TBY/+lE3S1nh5ukjKNtBFGI6Ysg1WdMQ4vz+1lPqApcaisj8WFTHbxC4JxrKSAEnJC/CRnNMZD8NyhMV4rkTM1LEMja64yWi2hKlpWIaGF4T7GLqGFwRYhoZEUnDDEC9TF+gaxC29nOLnknc8uhMWeddD1zS6EjoCjeFyEmngBQghyJRcuuMmlq4xNFOkN2UTtzUSVlju8EyYblpwA5KWxavO665J+gwCSSBhWBTpSphM5VzGsk7laYUQsKonyaqeJC+M53js55Ms64ixaWVXTWegaYI1fSnW9DVaGpomSMdM8o6PqYfnXn38KE20fqDRbt3xcjJlzWc9FIsXKSWlUgnbthFC/X7zpRLZksTQBKau4QU+li4qgWKaEBQ8Dz+QrOiMEbc0jk4XKbg66XLQoR9Ifj5RJBkL+zbDgK6ETsIyWa3a0ZJlSQ8qwtH6NE8cKTCRc2v0yx2bB4lbOn/0L0+2VDSrQ8F2bh7k7kcP8+iL0zUq6ruuWM2Xf/IiH756A6OZUo12tf26Qf7z8BFevaavJohn5+ZBHnzmKN99eqzhOLdt2ci44fDRe56q0V5ve/Rpfv+X1vOrl66sPF349t4hbrn7Z2wYSPGbr11dGwx23SD3PH6Y91+5DseT3HL3z9rqoK2uX3SMegX3o9dejGUIfv/L/9lQLtCw34mGiTWrw8nUX4WanZ2USiV+/S8e5KsfvHpJpZE2I1so8tTLMxS9gEzRZ2i6yHf3HuUdr17FrXX9WzpmEASSroSJrsGO7zzNe994PjFTZ9uuxyvb3nLNBmKGRmfC5P978hC/PHgOW1+5suafHMXSYEn/xiO1yvVkg365fddeDoxk2yqa1aFg23aFymi0rlpBve6SlRwayzVoVzvu38vWy1Y1qFvbyjpqs+N88r49PD+aa6q9fvK+Pew9Ol05t+iP5fvefEFjMFhZcX3ypenKdtG6ueqg1ceor8std/+MJ1+ablpus/1OVEE9mbLmsx6KxY9uWqe7CouCp4dygIYuNA6MZLnjgVCTv7VJ/zaSKTGWczgwmiMds7jukpWM5ZwGhf6OB/YxlnN4fjTHu193Pp+491hfpFhaLOlBRaRWtVM4I+YSClZwvIZ10fdWWuZYpnkQz1TebXmcVlpo0Q0Ymi5Wzi0qt5UeVijrYSeqg1Yfo1ldmtVzJFNsud+J6GcnU9Z81kOhOFMYnikxmikxURU62E5xj76ioMFWfUa0XaTSR32RYmmxpAcVkVrVTuGsX1b/ulqtikLEqtdF31tpmf3p5kE8XQmz5XFaaaExU2N5Z6xyblG5rfSwuGW0rNdcVLBWQWxRXZrVcyDdOsDtRPSzkylrPuuhUJwpLOuw6U/b9FSFDrZT3KOvKGiwVZ8RbRep9FFfpFhaLOlBRaRWmbpo0C93bB5k3UCqraJZHQq2c3OojEbrqhXU+588wpq+ZIN2tf26Qb7x+OEGdWtnWUdtdpzbtmzkgv5kU+31ti0bGVzRWTm3O264lJip8Tc/eL4xGKysuG46t7OyXbRurjpo9THq63LHDZdyybmdTctttt+JKqgnU9Z81kOhOFN4xfIkEODLgAsGUtxyTajJ39qkfxtI2/QlLdb1J8kUHe5/8gi9SatBob/lmg30JS0u6E/ypUcOcfvWY32RYmmx5JVSx/GZyGcYyUhyjs9EzqE3ZZEwdTQhyLse03mPVMwgkD6WbjCec+hL2UgkIzMlelMW3QmDqXyopHbFTSZyDn0pC19KpvJuqH9aOp4fMF1w6U5YuIGPIXSmCg5dCYvJvEtPeULUaNYhboahYEITHJ0ukrQNDA3ipo6mCV6eKtIZN/ECn5hhMFVw6UlYBEh6kzaruhO8OJHn8ESO/pRN3vUrhklXQqfghMpqR9wg7/g4nk/aNsmVfGxTI1NySNvHymtmRgSB5NBYjsMTOeKWTsHx6U1avGJFJ5omeGE8VwkMi5TVo9NFzu2OEzN0xnKlmjCxSFE9Ol1kRWecwRUds072igyOEwkmO5l9q1BK6SJnvlXPM10pnSoUeXE0X1bkTbwgACQCrRxQaJC0dCbyDr0JiwAYy5boTFikLB3Xl2RLHrlS2DfGDA2hCXQhAElHzGJ1eXB+InaVsrIWPUopbYbnBUzkMzx8MMvHv3HMprjpqvWs7Irxw/0jDJ7TTd71a8K0br56A3/6rWf4jdesImnp/MujP+eXN67g898/0BCsVW1uROXaps4f/ssTDdvefPUGhk2NT33r2cqyj7z1QvpSVo3tEZYT5/4nX+KpI1lufP3qmvrVGxh3//RFrrp4RZ1hspEHn3m5Ypj892svouQHNXZKfZjaR6+9uKkZ8dxwpsaguOmq9YxkS7zlwmWVwDDPC7j3iSN84t7awLLqGeJz2aYZmiZOOJjsZPZVKM5EikWPB58erbSzy1d38l/ffEGDAXfTVev51lNHedumFTX9y21bNvKX/7afF8cLTU2337tyHQ89c5Str1rV0gBrN0BQVtaZzZJ++2Pv0WkOT/iVAQUcm/V8YDTH1stWMZ53GsK0IqMjCvl6z5vOZ8fu5oFk1eZGVK7ryabbfvbBcAZ19bLPfOe5BtsjLCfLu193Pm+/7NyG+tUbGO9+3flNDJM9NYbJeN5psFPqw9SamRHNDIo7H9rPky/VhgntPTpd6cSi7epniM9lG4VCcXI8VdfObnzD2qYG3J0P7W8afPjJ+8IQweh1vekWhSm2M8DaoaysM5slPag4On0sTKyaaCbzWLbUcqZzteEQhXnNxRAJJOQc77gCv1otmyrPxp5r/eq3qTZMZjvP6Hu9GdHKoKgPEzo63Xy76hnic9lGoVCcHEMztcZZofw2RitDrF2fVv26+ntkgLQywNqhrKwzmyU9qFjRGW9pAGgC+lJ2y5nO1YZDdaDYbIaIJiBZtkTmapy0WhYZIsdTv+ptqg2T2c4z+l5vRrS7ftXbruiMN92ueob4XLZRKBQnx/KOWuMsYRstDbj68MRoefVUvGb9RGSAtDLA2qGsrDObJT2oGFzRwapunU/96qaGWc/r+pPc+/hhehJWQ5hWZHREIV//8MNDbL++eSBZtbkRlWsaoum2N18dzqCuXvaRt17YYHuE5aT40iOHuOexlxrqV29g/NMjh5oYJhtrDJOehNVgp9SHqTUzI5oZFDddtZ5Lzq0NExpc0cHtWxsDy6pniM9lG4VCcXJsWtFZ087uevhgUwPupqvWNw0+vG3LRu5/8kjldb3pFoUptjPA2qGsrDObJW9/eF7AWHaGoZmAkRkH29JIWwa6Lim5MFUMU/lyjk/B8elJWkwXHCxDpzth4HiSI1NFVvXEcbyAibxLd8Ik77gkLRNfSmbyHnFbJ2nq2KZGznURUiNTcombBpmiR1fCZKYY2htF1ydb9EnYOglLx9I1Zoou2aJPzNJI2QbdCY2XplyKrs/aviS5ksfQTBj8I6tsDQjfo8yWwseRI2X7Y+PyDo5mSwzPFElYOq4f0Jey8YPwbQtT18iWwjA02cb+gFoDJGEZLOuwWdXTuG1kdtQHlh3vNosQZX8scpT9UXvvFYsee4dmmMg7dMZNEpZGEFAx4PpTNqYuGMmU6EqYCCGYyodmm2mA54dvv6ZiBo7nk7AMJvNu5QlFyjZr+p/jtavmycpSnDqU/dEKw9CI2THiVpGupEnR9XADycszJZalbTpiGo4f4AU+3UmDQEqKbkBn3MTUBXknQAAF18cyBCs6LTwfhNAqDbY/bWGbGgUnYCLnki15rOi0iZk60wWXjriBrWukYwZTBYe0bSI0H10TTOYd0jGTmBU+inT8MLRsLOuTdzzipk6uFCWghoOe+gbYymxYY4e//kjbOrcrweHJPAA9SYvLVnW3VEhfnMiRrBpAnN+XRIiwrPr3USOqw8fSMbNpJ2EYGq88r5tXnncCv0yFQjEnYjGDC5Yl0EYh77j4gYXjB7h+gKVrWIYg7/ggwPMlug4dcYMASSA10jGNQErGsg59aYu4Ff4DNF3wkIZgPFcCwqcOJ2JXKSvrzGXJDyqmCkV+dnia0YzDV3/6Ir922Sp23H8sKGfH5kEeeuYoV1+0nCGcGuVq5+aN3P3oi5UQsT99+yYMTfDSZKFGwfr42y5iWWeMg6M57nxoP90Jq0EDveWaDXTFDSbzHp99sFHr/L0r16FrEPiSjOPzme88V9lm+/WDfP77ByqK14lqW7dv3chf/Ov+luU02+emq9azflnY8NupY0oTUywEKo10bkwVijz0zBhf+fEL/M6b1jKSyTE0XWzZP9101XqSll7Zvytp8cWHD1X6vluvH0QTks8+eIDJvFOjtas2vrRY9M+VTzX7hnJoQvDJ+/Zw4xvWsuP+xmCxd7/ufBK22aBcbdu1pyZE7NBYjv0j2QYF61PfehbXk5XlzTTQOx7YR8IyKwOKaHmka23ftZeYYZCwzcqAItom0lmj1yeqbX3i3j1ty2mnj86mjilNTLEQRGmkpVLpdFdlUbNvKMcff+MpbnzDWoIADo3l2vZPkT4ffR0Yydb0fbfu3kvCMiv6fDsNXXF2s+QHFcMzYbBO0W0dqjOVd9sqVxFRoE6z7XJValYrDTTXRt+K1reqR73idaLaVrty2umjs6ljShNTLBQqjXR2hstaaaSTVvdb7XT36q/6AMVIlY9et9LQFWc3S35QsazDriiXrUJ1uhJmS+WqOkRMF63VzGSdmjWXbaLlkaaVtFqrX/WK14lqW+3KaaePzqaOKU1MoVg8LCtrpZFOWt9vtWvn0Vd9gGLSMmr0+VYauuLsZskPKjYsTxJIyW1bNnLXwwfZfl1jsNiXHjlEvug2KFc7N2+sCRFb05dk3UCqQcH6+NsuwjREZXkzDfSWazaQd1xuvrq51rlj8yBFzyNfdPnIWy+s2Wb79YM1iteJalu3b93Ytpx2+uhs6pjSxBSKxcOG5Un+5Fc3cdfDB9EErOlLtu2fIn0++lo3kKrp+269fpC841b0+XYauuLsZsGVUiHEecAXgWWABL4gpbxTCNEDfBVYA7wA3CClnBThbKs7gV8B8sB7pJSPl8v6v4FPlIu+XUp512zHbxWuMzJdZLrgU3A9bMNgPFeiL2Xj+h6mbjCaKbG6J0He9RmZKTGQtknYgrwjKyFdnXGdohNQ8AJcT1JwfboSBoamUXRDQyPr+ORKHsvSNjnXJ1/ySdk6cVMnQDJdcEnbJtMFl6RtkHc8OmImli7wJRi6QBOCohswkXOwTY2uuImmwZHJIivqNMxWtoamiQYVdHmnjefDaLa1xtVKH4XZ1bGzWBNTSukiYaFUz7NBKX1+PEPO8XH9gJRtEkiJ40nGsiUGOmw0IRjPOsQtnZSlownwAhl+Sm8+DEGcLrh0xk1ihkYgYTRTIm6F/VlfOjThRjIqFOwsZFEppR7wB1LKx4UQaeAxIcQDwHuAh6SUnxZCfAz4GPBR4G3A+vLXa4G/Bl5bHoRsBy4nHJw8JoTYJaWcPJ7KTBWK/Pj5SSbyx8J0VvfG+b0r1/E/vv1sJfSrfkb06t44H7hyHdt2tbZBogCxP3tgX8Wo+PjbLqLgBnz4q8csiGim9Affsp5zumyeOTpDzqkNMbv1+kH+5bHD/MYVq9m86RwefG6kwcKIgssiqwJoaWu85cJlQGMY2GxGhqYJLhhIccFAo+o1mwKmNDGF4vRTLHrs3nO0Yrt9/gcH+J03nI8EPv3tZ2v6inO6YvzLYy/yqlW9rOyOI4CP/MuTNeaZBL7yyIv86NBEpR+yDMEH37K+JhxQ2V5LgwV/+0NKeTR60iClzADPACuBLUD0pOEuYGv55y3AF2XII0CXEGIF8FbgASnlRHkg8QBw7fHWZ99QDtevDdOJbIvq0K/6GdHXXbKyMqCA5jZIFCBWbVSM5ZyWhscn7t2D58NYrjHE7Nbde7nxDWv5xL17ePLl6aYWRjTzOppxPVvYlzIyFIqlx1NHp2tst+suWcl43qkMKOBYX/H8aI53v+78sC8bybJ/JNtgnjluwHvedH5NPxT1Z6pvWXqc1jkVQog1wKuAHwPLpJRHy6uGCN8egXDA8fOq3V4qL2u1qqAsBwAAYGhJREFUvNlxflcI8agQ4tHR0dGadcMzpQajoj4cp3pZ/TbV1Nsg0YzpaqNituCuybzbcpso3GdoFnMjmnE9W9iXMjJOLe3uO8XsFIvFylsGiuOj3b03VGV+RP1Gqz4nCi5sZ3nlHK8SThiV16p/VH3L2c9pG1QIIVLAPcCHpZQz1etkONFj3iZ7SCm/IKW8XEp5eX9/f826ZR12S6Oi+nv9z61e18+I1gQ1RsVswV3dCbPlNvGyHbJiFnMjmnE9W9iXMjJOLe3uO4XiVNLu3lteZX5E7b9VnxMFF7azvJKWURNuWN0P1W+r+pazn9MyqBBCmIQDii9JKb9eXjxcfluD8veR8vIjQPWHNp9bXtZq+XGxYXkSU6sN09n9RGhbVId+1c+I3v3EEXY2CemqnhEdBYhVGxW9Saul4XH71o0YOvQmG0PMbr1+kC8+fJDbt25k0zmdTS2MaOZ1NON6trAvZWQoFEuPTSs6a2y33U8coSdh8bFrL2roKy7oT/KlRw6FfdlAivUDqQbzzDI1/vGHh2r6od1PHGkIB1R9y9LgdNgfgnDOxISU8sNVyz8DjFdN1OyRUv6REOK/AL9PaH+8FvhzKeUV5YmajwGXlYt4HHi1lHKi3fFb2R8vjhXIR2E6aZtA+mhCp+B4xK3Q/ljRGUMT4ePDzriJbYAXiBr7Yzzrki35xMww+MuXPp4vyJU8upMWyHDORHfCxPF8YqZBpujQk7QZXNGJpgkOT+QYzzoUXJ98OcSs6LqkY1bF7Kg2KfpTMXQNhmYarYrZwr7OYiNjIVH2xymglS0x2z7K/qilXaBYyfMwNJ2ZkktvwsINAqZyXiW40PV9ip4kVX5KOlN00DWd0WyJnoRFR8wgZeu8PF0iaem4vmSm6LKqJ8nqnjBLSPUtZyWLyv54I/BbwFNCiJ+Vl30c+DRwtxDivcCLwA3ldd8kHFAcIFRKfxtASjkhhLgN+Gl5u52zDSiaEQSSQqmEAGxToydpMZoJBwlF10MIQdrWEdiMZcOAMF0TSCSuL7B0wYpOG8fzmS7ARM5leaeNJiDv+GSKHgNpGzNhkim6JCwDzw9DyJK2hudLbN0gHQsfHx6eyFXmefSl7UqdVnV3cXgyz09fnKjoWfUmxZq+Rquina0RrVdGhuJ0cSJZHSrf4+SxLJ1lXRbjGUHR9UlaOiPZEh0xg4G0xdGZEgJBwtbpNgVSSnKOT7YY0JXQOLczTtHzmci7HJ4s0Je0SMcMVveG/cgL47lKX3XFml41mFhCLPigQkr5Q1qPcq5qsr0EPtCirL8H/v5E6xL+Fz/NgZECvpRMF7yawLBI43zn5av42qOHectFyys2SPSBVQlLZ3lnjLGMw61VSur7f3FdTVkfeeuFGELwp1XK1s7NG/nc944FeH3mHZdwdLrIHQ8cCxS7+eoNfPknL/LBt6xvG/alUJyJRFkdX/3g1XP+L/1E9lEcIwgkT708wc8nSkxkS7iBrAkorNbTb7pqPef3JciW/Bo9dMfmQUquz6e+9WzNssMTedxAtg0XVJzdLOlP1HxhPMd41sf1JUFAQ2BYpHFu3xV+jwYU0fo7HtjHSKaEpWuVAQWEuml9WZ/5znOM550GBbVaN90/kq0MKKJln31wX0XPOt7QMIXiTOBEsjpUvseJ88J4jpID+4YzjOWchoDCaj39zof24/k06KHbd+1lLOc0LMsU/VnDBRVnN0t6UDE8U2Q4UyRXah3UFWmchRZhX4GkEkgW0S6Qp37Z8eimxxsaplAoFPVE/V67AMRqPb1V0GErvXS2cEHF2c2SHlQs6wi1ymSsdVBXpHEmWoR9aYJKIFn9umbb1i87Ht30eEPDFAqFop6o32sXgFithbYKOmyll84WLqg4u1nSg4o1vUl6kzqmJtAEDYFhkca5Y/Mgdz18sKKXRutvuWYDA2kbxw+4tU5JrS/rI2+9kN6E1aCgVuum6wZS3HJNrW5689UbKrrp8YaGKRQKRT1repPYJqxflqY3aTUEFFbr6TddtR5Dp0EP3bF5kL6k1bAsHdNnDRdUnN2cDvtj0aBpgvP7OklagsmCpOgEfOG3LifvePSlbEqex83XXEh3wmRVz0UEMuCLv3MFwzNh4E7a1im6AaNZh4tXpPmH97yG8axTiRX+2xsvJ1vy6EtazJRcYqbOV973WoYzJXqTFh1xjc+845VM5Bz6UjaWITi/L8krz72CvOPRm7Rw/IBrXrGMVd0JXnVed0UNTdo6jx2eoDdpz6pqRdro8IwK9lEoljqaJth0Tg/LUjlennaYKjj842+/hkzRozthognBeT0JelMWCUPD0DUcL+CzN1xKOmaQtDQ0oVH0/Uof15u06EtZFfvjmx/6BaWSLlGW9KACIF8q8cSRPBM5t8bW2LllI3FTMF3weLLo8dAzQ/zaZavYcX91gNgg+4amOK8nzcHRbE0A2G1bNvLVn77IWy5aXhMetv36QTrjBofGssQsgz/77nMVoyMKFvvotRc3zJYOAtkQ/tVu++r96kPF1GxsxUKjNNDFRa5U4ofPTzYYHUenCjVGx81XbyBuag2Wx0PPHOXS83r56qOH+aO3XsyrV/fU9CdKU1+6LOm3PwCeHsrherLB1th23x464xYjmRJ3PrS/Er5Ta2/s5erBMIynPgAsCuypN0Z27N5LEEDCMjkwkq0xOqJgsWazpZuFf7Xbvt1+aja2YqGJNNBSqXS6q6IAnhnKzcno+OyD+5paHu9+3fmV/ucPvqb6E8UxlvygolmgGDSGexVabDNankXdzhypX55zvMos6XqjIzI96mdLtwr/arX9bPup2diKhUZpoIuH4XKoWDWtjI5my6KQsdn6H8XSY8kPKtoFilWHe1WH71Rv05+OtZxB3coYSVpGZZZ0vdERmR71s6VbhX+12n62/dRsbIVi6RLN+6qmldHRbFkUMjZb/6NYeiz5QcUrlicxddFga+zcspHpQpgDctNV6yvhO7X2xiAP7g3DeOoDwKLAnnpjZPv1g2ga5B2XdQOpGqMjChZrNlu6WfhXu+3b7admYysUS5uLlyfnZHTcfPWGppbHlx45VOl//uydqj9RHGPJT9RMxWO8cW03L4wXQ3sj57AsHY7i847PQDp8i2Ljyk4gtD9GMiUGUjadCY01fUkm8y79KYu/vfFyMkWPvpRFOq5zft/F5EoeX/ztKxjLleguK6V+IFnVk2BDf5qN53QyPFMkYem4fsC1G5c3nS2taYJrB5dz0Yd+YU7bN9tPzcZWnErUZMwzh3Q8xltf0c/avtcylnWIWzoxU2BpOn974+WVAMTpoktfwuKf3nsFQ9Oh9QYBv/3GC3A8n7+78TWs7U+p/kRRYckPKgAs3aTk5xnPOZzbFSOQ8MJ4geUdNglL58h0ka64yXjWxU4ZdMR0AiTRW5KeHxBISXfCJJCSqYJLT8LislWdsza245klXR3+Va2JApX/FJqpo+1Cw5rppvXlrOoO0wbbKanttNXqdQPpMFH16PT86q31xz8nHWPP0AxDM0VWdMTYdE4nlqXPuc6K40dlcpw5OI7Pc8Nhmz63O47jBYzMlOhP25iGpNewGM05pG0jzEUqhkGJjudjGjqWLpguugzPFNEFrO5TAwtFyJIfVDiOz31Pvswn7zumVlUH6vyPX9vERM7lQ185FpCz/bpB7nn8MDdcvorPfe9ARQndsXmQrz16mEdfnCZmavzZOy/lbRvnX91spYlahjiuIJ+5lLO6N84H37K+Rj2rL7edtgo0rKu+vvOht9Yff3VvnA9cuZ5tu47VeeeWjWy95JzKwEKptqcGNRlz8eM4Pvc++TLb7ttDd8Lixtevrthrq3vj/N6V69i+a29Ne02YOjsffpoPvmU9ruez4/5natavG8hx1UXLVNtRqDkVT748XRlQQGOgzvOjOf5HOVk0Wr/j/jBgbNuuvTVKaBQ8Fr0+VapVK030eIN85lJOFGbWrtx22mqzddXXdz701vpjXHfJysqAIjrmtvv28OTL03Oqs6I9UkqKxSJSytk3Viw6nnx5mm3lPu/tl51bo8Nfd8nKyoACjrXX8bxT6QuOVpkj0fqnjkyrtqMA1KCCoTaqJrQO3Il00XoltOB4Na9PhWrVShM93iCfuZTTKhytutx22mo7FXYudZwL9cdoVeforaLZ6qxoj/rMiTOb6j6vvq20C0OM1rXSTlXbUYAaVLCijaoJrQN3oqCxeiU0bhk1r0+FatVKEz3eIJ/jKaddue201XYq7FzqOBdaHaP+9bKOudVZMTvqbY4zl/o+by5tJ9Lf22mnqu0oQA0q2HROJ7dtqVWrqgN11vYn+ei1F9VqodeFQWM7Nw/WKKE7NofLo9enSrVqpYkeb5DPXMrZ/cSRBvWsvtx22mqzddXXdz701vpj7H7iCDs319Z555aNXHJO55zqrFCczWw6p5Od5T7vnsdeqtHhdz9xhB2bBxvaa2/CqgQbrqj6jIto/aaVnartKAA1URPL0tlyyTms7U8yNF3knK4YUsK53Ynwg7EsnZetIl/87SuYyJfoSdoUPY8/+OWLSMd0PvOOVzKaKTGQDk2RFVdtoOQGnN+XPGWqVStNFI4vyGeu5azqTnDZqu6W5c6mrVav60+F9serVnXNm97a7PjnpGOs7U9WzI5L6uwPpdqGtNNAi8XwcbYyOc4uLEtn6yXnsLYvyXCmyLmdcS5f3c1IpkR/ykaKgP/zO1cwnnNI2Qa2qZEpuvzZO16J44f2x5fe+1rGciWSlsE5nTHWKPtDUWbJDyogbGSvXt1Ts+yy1cd+Hly5wBWaA6000eMN8plrObOV205bbbZuTd/8hg01O8bla3ra7NG+zmcT7QYOSgNdmliWPmv7UChOhCX/9odCcTppZVKciGHRap/ZJlaq+RGLE2XZKM5E1JMKheI0UiqVeOdnv8n/+W9vqXlSUCwW+a2//teG5dE6aHxbotU+0fbR9/p9fNdpua4ZrfaZrawT2ed4jn+2HSf6fX7t5l9RT5EUZwxiqY2ChRCjwIunux5zpA8YO92VOE6WYp3HpJTXtttgge+7M/F3MJ8spfM/2XvvbL5W6txOHS3vuyU3qDiTEEI8KqW8/HTX43hQdT79nG3nc7ws9fM/Hs7ma6XO7fSg5lQoFAqFQqGYF9SgQqFQKBQKxbygBhWLmy+c7gqcAKrOp5+z7XyOl6V+/sfD2Xyt1LmdBtScCoVCoVAoFPOCelKhUCgUCoViXlCDCoVCoVAoFPOCGlQoFAqFQqGYF5bkoEII8fdCiBEhxJ45bn+DEOJpIcReIcSXT3X9FAqFQqE4E1mSEzWFEG8GssAXpZQbZ9l2PXA38BYp5aQQYkBKObIQ9VQoFAqF4kxiST6pkFL+AJioXiaEuEAI8W0hxGNCiH8XQlxUXvVfgc9JKSfL+6oBhUKhUCgUTViSg4oWfAH4oJTy1cAfAn9VXr4B2CCE+A8hxCNCiLafs69QKBQKxVJFpZQCQogU8Abga0KIaLFd/m4A64ErgXOBHwghNkkppxa4mgqFQqFQLGrUoCJEA6aklJc2WfcS8GMppQscEkLsIxxk/HQB66dQKBQKxaJHvf0BSClnCAcM7wQQIa8sr76X8CkFQog+wrdDDp6GaioUCoVCsahZkoMKIcRXgB8BFwohXhJCvBd4N/BeIcQTwF5gS3nz7wDjQoingX8DPiKlHD8d9VYoFAqFYjGzJJVShUKhUCgU88+SfFKhUCgUCoVi/llyg4prr71WAupLfc3n16yo+059naKvWVH3nvo6BV8tWZSDCiHEeUKIf6v6aOybmmxzpRBiWgjxs/LXtrmUPTY2Nv8VVihmQd13itOFuvcUC8liVUo94A+klI8LIdLAY0KIB6SUT9dt9+9SyutOQ/0UCoVCoVDUsSifVEgpj0opHy//nAGeAVae3lopFAqFQqFox6IcVFQjhFgDvAr4cZPVrxdCPCGE+JYQYnBhaxYSBJKDo1l+9PwYB0ezBEHbt5sUCsUZgmrbCsXxs1jf/gAqH599D/Dh8gdUVfM4sFpKmRVC/Arhh1Stb1HO7wK/C7Bq1ap5q18QSL69d4hb7v4ZRTcgZmrcccOlXDu4HE0TsxegOKs5Vfed4tRzprdtde8pTheL9kmFEMIkHFB8SUr59fr1UsoZKWW2/PM3AbP8iZcNSCm/IKW8XEp5eX9//7zV8YXxXKXTASi6Abfc/TNeGM/N2zEUZy6n6r5TnHrO9Lat7j3F6WJRDipEmOr1d8AzUso7WmyzvLwdQogrCM9lQT/pcnimWOl0IopuwEimuJDVUCgU84xq2wrFibFY3/54I/BbwFNCiJ+Vl30cWAUgpfw88A7gvwkhPKAA/IZc4I8HXdYRI2ZqNZ1PzNQYSMcWshoKhWKeUW1boTgxFuWgQkr5Q6DtG5dSyr8E/nJhatScNb1J7rjh0ob3Xdf0Jk9ntRQKxUmi2rZCcWIsykHFmYKmCa4dXM5FH/oFRjJFBtIx1vQmz4iJXAqFojWqbSsUJ4YaVJwkmiZY259ibX/qdFdFoVDMI6ptKxTHz6KcqKlQKBQKheLMQw0qFAqFQqFQzAtqUKFQKBQKhWJeUIMKhUKhUCgU84IaVCgUCoVCoZgX1KBCoVAoFArFvKAGFQqFQqFQKOYFNahQKBQKhUIxL6hBhUKhUCgUinlBDSoUCoVCoVDMC2pQoVAoFAqFYl5QgwqFQqFQKBTzghpUKBQKhUKhmBfUoEKhUCgUCsW8oAYVCoVCoVAo5gU1qFAoFAqFQjEvqEGFQqFQKBSKeWFRDiqEEOcJIf5NCPG0EGKvEOKmJtsIIcSfCyEOCCGeFEJcdjrqqlAoFAqFIsQ43RVogQf8gZTycSFEGnhMCPGAlPLpqm3eBqwvf70W+Ovyd4VCoVAoFKeBRfmkQkp5VEr5ePnnDPAMsLJusy3AF2XII0CXEGLFAldVoVAoFApFmUU5qKhGCLEGeBXw47pVK4GfV71+icaBR1TG7wohHhVCPDo6OnpK6qlQ1KPuO8XpQt17itPFoh5UCCFSwD3Ah6WUMydajpTyC1LKy6WUl/f3989fBRWKNqj7TnG6UPee4nSxaAcVQgiTcEDxJSnl15tscgQ4r+r1ueVlCoVCoVAoTgOLclAhhBDA3wHPSCnvaLHZLuDGsgXyOmBaSnl0wSqpUCgUCoWihsVqf7wR+C3gKSHEz8rLPg6sApBSfh74JvArwAEgD/z2wldToVAoFApFxKIcVEgpfwiIWbaRwAcWpkYKhUKhUChmY1G+/aFQKBQKheLMQw0qFAqFQqFQzAtqUKFQKBQKhWJeUIMKhUKhUCgU84IaVCgUCoVCoZgX1KBCoVAoFArFvKAGFQqFQqFQKOYFNahQKBQKhUIxL6hBhUKhUCgUinlBDSoUCoVCoVDMC2pQoVAoFAqFYl5QgwqFQqFQKBTzghpUKBQKhUKhmBfUoEKhUCgUCsW8oAYVCoVCoVAo5gU1qFAoFAqFQjEvqEGFQqFQKBSKeUENKhQKhUKhUMwLalChUCgUCoViXli0gwohxN8LIUaEEHtarL9SCDEthPhZ+WvbQtdRoVAoFArFMRZkUCFC/q/oD78QYpUQ4opZdvtH4NpZtvl3KeWl5a+d81FXhUKhUCgUJ8ZCPan4K+D1wG+WX2eAz7XbQUr5A2DiFNdLoVAoFArFPLFQg4rXSik/ABQBpJSTgDUP5b5eCPGEEOJbQojBVhsJIX5XCPGoEOLR0dHReTisQjE76r5TnC7Uvac4XSzUoMIVQuiABBBC9APBSZb5OLBaSvlK4C+Ae1ttKKX8gpTycinl5f39/Sd5WIVibqj7TnG6UPee4nSxUIOKPwe+AQwIIf4E+CHwqZMpUEo5I6XMln/+JmAKIfpOuqaLnCCQHBzN8qPnxzg4miUI5OmukkIx76j7XKE4MzEW4iBSyi8JIR4DrgIEsFVK+czJlCmEWA4MSylledKnBoyffG0XL0Eg+fbeIW65+2cU3YCYqXHHDZdy7eByNE2c7uopFPOCus8VijOXhbI/eoAR4CvAl4FhIYQ5yz5fAX4EXCiEeEkI8V4hxPuFEO8vb/IOYI8Q4gnCJyG/IaU8q/+deWE8V+loAYpuwC13/4wXxnOnuWYKxfyh7nOF4sxlQZ5UEM5/OA+YJHxS0QUMCSGGgf8qpXysfgcp5W/WL6tb/5fAX85/VRcvwzPFSkcbUXQDRjJF1vanTlOtFIr5Rd3nCsWZy0LNqXgA+BUpZZ+Ushd4G3A/8HuEuqliDizriBEza39lMVNjIB07TTVSKOYfdZ8rFGcuCzWoeJ2U8jvRCynld4HXSykfAewFqsMZz5reJHfccGmlw43ea17TmzzNNVMo5g91nysUZy4L9fbHUSHER4F/Lr/+dcJ5FTonr5YuGTRNcO3gci760C8wkikykI6xpjepJq8pzirUfa5QnLks1KDiXcB2jn2WxH+Ul+nADQtUh7MCTROs7U+p95YVZzXqPlcozkwWSikdAz7YYvWBhaiDQqFQKBSKU8uCDCrKn6D5R8AgUJltJaV8y0IcX6FQKBQKxalnoSZqfgl4Fjgf2AG8APx0gY6tUCgUCoViAVioQUWvlPLvAFdK+X0p5e8A6imFQqFQKBRnEQs1UdMtfz8qhPgvwMtAzwIdW6FQKBQKxQKwUIOK24UQncAfECaKdgA3L9CxFQqFQqFQLAALZX/cX/5xGvilhTimQqFQKBSKhWWhAsU2CCEeEkLsKb++RAjxiYU4tkKhUCgUioVhoSZq/g3w3ynPrZBSPgn8xgIdW6FQKBQKxQKwUIOKhJTyJ3XLvAU6tkKhUCgUigVgoQYVY0KICwAJIIR4B3B0gY6tUCgUCoViAVgo++MDwBeAi4QQR4BDwP+1QMdWKBQKhUKxACyU/XEQuFoIkQQ0KWVmIY6rUCgUCoVi4TilgwohxC0tlgMgpbzjVB5foVAoFArFwnGq51SkZ/lqiRDi74UQI5GG2mS9EEL8uRDigBDiSSHEZfNcd4VCoVAoFMfBKX1SIaXccRK7/yPwl8AXW6x/G7C+/PVa4K/L308rQSB5YTzH8EyRZR0x1vQm0TRxWo65mOqiWLoshntiPuuwmNqbQrHYONVvf/yRlPJ/CiH+grL5UY2U8kOt9pVS/kAIsaZN8VuAL0opJfCIEKJLCLFCSnnarJIgkHx77xC33P0zim5AzNS444ZLuXZw+SnrXFod85cvXsZ3nxleFHU5lcdULG4Wwz0xn3VYTO1NoViMnOq3P54pf38UeKzJ18mwEvh51euXystOGy+M5yqdCkDRDbjl7p/xwniOIJAcHM3yo+fHODiaJQgaxljzesy9R6db1uVU0e78FUuT2e6JU9UujqcO81HW6WhvCsVi5FS//bG7/P2uU3mc2RBC/C7wuwCrVq06ZccZnilWOpWIohswPFPk2aHMKfkvptUxj043Xz6SKbK2P3VSxzzeupzKYy5mFuq+W8y0uyfW9CYX5CnGfN6Xi6m9tUPde4rTxSl9UiGE2NXu6ySLPwKcV/X63PKyBqSUX5BSXi6lvLy/v/8kD9uaZR0xYmbtJY2ZGglLP2X/xbQ65orOeNPlA+nYSR/zeOtyKo+5mFmo+24x0+6eWKgnW/N5X7Zub4vr3lf3nuJ0carf/ng94R/7fwf+F/BndV8nwy7gxrIF8jpg+nTOpwBY05vkjhsurXQu0X9ejh+0/C/mVB1zcEVH0+VrepMnfczjrcupPKZicdPunmj3BGGh6jBfZQ2u6FT3vkIBiHCe4ykqXAgduAb4TeAS4P8DviKl3DuHfb8CXAn0AcPAdsAEkFJ+XoQfdvGXwLVAHvhtKeWjs5V7+eWXy0cfnXWzEyaaAT6SKTKQDmeAvzCe41f+/N9rOtCYqfHND/3CvDwabXbM6tno9ctPJafjmIuAWU/wVN93/3975x0mV1U28N+ZO71sL1k2bJLNbhKSTSGEgHyAQJBmIJRQLIAUERGJKNjpRUWUIogC4gdYQEBpnwIaQFBBCDWNdDaFTbJ9d/rMvef7487Mzuzc2SSbTbLJnt/zzLOzt55755T3vOctw5lCdWJta3CXtovtKcNQXmsP1X1V9xR7goL1bpcKFTk3EsKFKVz8FLhBSnnPbrlxP/ZEA9tR63PlmrbXoTr2QTAcPEO2Vb69oB2quqfYExSsd7s8THdKmPgspkAxFrgb+Muuvu9QsrOdi80mOGHKKCZdccQ2ZzHDvaNVKIaKgdrFnh7QVTtUKAbHro5T8QjQBPwVUzthGR1zODNUnYvNJqiv9G9TrVvIeG3SLlAJKxR7Gqt2MRwGdNUOFYrBsasNNb+IGfFyAfAfIURP6tMrhOjZxfceEnZ37IXdZbymUAxXhkO8E9UOFYrBsUuFCimlTUoZSH2Ksj4BKWXRrrz3ULG7OxfllqkY6QyHAV21Q4VicOxqTcVez/Z2LkMVGVC5ZSpGOoMd0IcyOqdqhwrF4Njlhpp7O+nOpf/6bnbnMpRrwDti1KlQ7ItsT5vrz1DbYah2qFAMjt3mUjpcGIx7Vbb/eaXfjWaDlu4+q/RdHYdiqMm2rK8K5D+P6jh3mL3SrW9Pe1gMxI7GfBhszIvdkb10F7NX1j3FXs+ecyndF0hbqBfKVVDqdQyruP8DYTWj+/6Jk+iJJonrBgePKeNT9eXY7WplbF9mOHhYDMT2ekulGUx+j6HOXvryii18uLEbQ4ImYOroYo6ZWD0s3qdCsbtQI8cOUMgq3eu07zVGXf2fodTrJBTXueeV1dy9cDVffnQR/7ekZZdki1QMH4aDh8VQMhg7jKF8B+s7QqzaEuT+19Zyz8ur+fVra1m1Jcj6jr3zfSoUg0UJFdtB2gBs5ZZeLj6inprivo4qmjBI6PpeY9TVf0Z3+szR3LVwVU7H+p2nPtxrBxfF9jEcPCyGksEYVm7rHeyI4eeWnlheO7pr4Sq29MR29tEUir0KtfyxDaxUpFcc08ijbzbT0h3F7bBR5nMxs65stxl17czabXpGl+78hGCvWbpRDB396wEMX+3a9jAYw8qB3sFASyNAXvsLxZOW7SgcT+6aB1YohilKU7ENrFSkd7+8itNnjs6ZDaXXgA+tr6C+0r9LBYoXlm7mpLtf53MP/JeT7n6dF5Zu3u7liv4zOk2w1yzdKIaOfdFlckfb4EDvoNDSyLq2kGX7G1PqtWxHdWV77/tUKAaD0lRsg0Iq0mm1Rfz1iiN2m8V8WjvR2hvbqfDB/Wd01QE34yv9fPupD7fbfU+x96NcJs13cNwB1Tx+yaG0dEepKXYzpaYYm00UbPfrO6yFjRcWHGHpBjuuQrUjxchCCRXboJCKtLE6sNuWB7JVsRcfUb/TyxX9LevHlPtoqi0esYPLSGVHPSz2NQxD8tLyLZZLHIXavddpt2x/m3uiI15IUyhACRXbZDCBeIaa/qpYq86u0j/45YqRPrgoRiYft4f4yQvLuejwekRq7P/JC8uZNCpQsN1XF7kK2mGodqRQKKFimwwHNXG2KvapdzZy5bETuOMfKzOd3YI5jaxrDzKuQs2MFIrtpT0U4+xZddz98qocI+yOUIz6Sr9luwf2+CRDoRjOKKFiO9jTM5BsVWxLdxRDSi45sh5DgpTwyBvNdIbjwzaCp0IxHHFqtoxAAX1G2I9fcihQuN3v6UmGQjGcUULFXkB/VWwkoXP3wtV5xyk3UIVi+wnH9QJuoPqA5+3pSYZCMZxRQsVeQP8lGI/Dzv2vrS3oXz9c8zkoFMOJQsaY1UXbzoaq2phCYc2wjVMhhDhBCLFCCLFaCPFdi/1fEkK0CiHeT30u3hPl3F1k++BPrS229K+vK/XuVAwLhWIkMZhYHTsbJ0ah2NcZlllKhRAasBL4DLAReBv4nJRyWdYxXwJmSSkv35FrD6eMfTsz47HK4ri3ZUvdh1CZIvdSkkmDpS3dqTgVHqbUFA2YTG+w2VB3IaruKfYEe12W0tnAainlWgAhxGPAPGDZgGcNAVYDPeSH5e0/+O+ogLCzGRKt1nUHk6lRMXLZXWr84bpcMFCcCptNWJZbtTGFYmCGq1BRC2zI+n8jcIjFcWcIIY7E1GpcKaXcYHEMQohLgEsA6urqLG9oGJJ1bSGWt/Swamsvf1q0kc5wnHs+fyDxpBxw8B+MgFAoDPD2Rsa0Yl/L57C3sz31bijZkcF7d6U+H84p1gdqg2PLfZblnlgd2Cva2O6uewpFmmFrU7EdPAeMlVJOA/4OPFzoQCnl/VLKWVLKWZWVlXn70x3fZ3/xOpf/8T1+/dpazj10DKVeJ6u2BLeZHnkwKZQLzXia20PblRXRin0xn8PezLbq3VCyo2v9uyv1+XBOsT6Q1qFQuTUb3PP5A7liTgOXH9PAgjkN3PP5A4ddG9uddU+hyGa4aio2Aftn/T86tS2DlLI9698HgdsGe7NCScMuP7qB2lJPTsS9p97ZSEt3NEfdubnbunPa0pOrEs2eSXqddssZz3sburh74epBz+gm1wR4+ILZhONJ6sp8KiDWPkYhbcSOar52hRp/R5YL+reNPcFAmr1C5W4NxuiOJDPeV26HjVtOm4phSAxD7pB9hkKxLzJchYq3gUYhxDhMYeIc4PPZBwghaqSULal/TwGWD/Zm2R1ITbGb02eORgiYOrqY9mCM5z/cxNxptWg2uHbuZH7zrzV4HFpmFigEzBpTzHmH1ROJJfG67Dz8n7V4nVrmHsmkwf8taeE7qcRdY8o93HxqEz98ekmmc7pm7mR6owlqit20dEd3aDmkkJpZJTTadxhoKWEgISFtxJs92A92qayQUGMYkpdXbOHDjd0Y0sx+O3V0MaMK5tDQBrjLwEs5Q2Wjsa0Q/GPKPcydVpuZUDz3wSZsCO5euDJnonH3wpU0VvpYuTWY055vPrWJU6fXKsFCMaIYlkKFlDIphLgceBHQgIeklEuFEDcCi6SUzwJXCCFOAZJAB/Clwd4v3cGWep2ce+iYnLC93z9xEp+fPSYnLPbNpzaxYnMPXZE4pR4n0WSSsw4ew7ef/CBzzE3zmpBS8saaNqoCbrb2RjMCBUBze4RfvLyKP11yKOs7I6zc0svjb63nqElVfPMzE9jaG+V3b67f7pljoZnq5AVHYEiGnZGcYscZSBtRSEio9LstB/ujGqu45/MH5m1PD6iFDJYLCTXN7SHWtoZyZvDf/MwEyrxOrjimMS8UdkI3BnWfgfZtyzDaShApFB2zrtTL149pzBMSgrEE5x46lttfWpHZftVxE2kPxXjsrWZumz89Z2LRWOVn+v6lQ18ZFIphyrAUKgCklH8F/tpv27VZ378HfG8o7jW62MONpzSxsSucE7a31OukMuBmTWuQn86fzqauMMGYzi9eXsX5nxpLDTZeW9XGwWPLuPaZ93I6+2ueWcIlR9ZnljKumTuZUq+Tlu5o5r7N7REiCYOrnvjAUqBZMKeRUdsIxJPGaqZa6nXy7vouvv+XxcPOSE6x4wykjZhVV5an+br51CYcdli1JZgz2C+Y00hjlZ94UuZs//lZMwBzAP7bks1864m+gftnZ85g0qhAwQRcW3qi/PzvK3PawM//vpKHzp/Fyx9tzhtsj58yqqB2Y1y5v+B9gB02cN6WsahVdMz1neHMu0zf54dPL+F3F83OCBTp7be/tILfXTSbM2bW5Uwsrps7hd5ofOd+dIViL2PYChW7k2Wbe/jTombOP6wvrXhNsZsvHTaWK7M6oiuOaeS5DzZx9qw69i/38nZzB8VuB5sLdPZpG7lowuCm55dxx1kz+Lg9RCgVBvi5DzbRE00QTRicPnN0Xh6Cuxau4rjJo7brGaxmqmfOGp0RKNLX3FkPk0IMV7fBfYmBliyaO8L84uVVmYFYSvjFy6v46RnTuWthfr06qK6Up99bz6/PPYjOUIIyn4PfvbmOSaMCGIbkthdzB/XbXlzOLac2WSbgauuNZupxNtGEQTCmc8ZB/Qbbk6dg12B9h7V2w+/SCib6Suhyh21BtuXlYVVvCwlwbcG45faOUIIbnl+ac48bnl/KoxfOBlT7UIwcRrxQkUwabO2NceZB+yMEmWWQ7510QKYjhD7jzYsOr+ful1fx4PmzuP+1tVx0eD090YRlZ58dVyyaMFi+uQePQ+Opd0x31dvmT6PE4+CKOQ3UFnsKGIZFGV+1bQHAan14QlVgt/jUD2e3wX2JseW+gksWr67cSjzZV+GEgHhS0hqMWdaBaDLJnANq+Mqj72R+sxtOmUIwlqAzFOcrR9azuSeWuc9XjqzHZdcsE3A9cuFsvA5rw2OPU+OGx/oNts+Zg60ES+3GIxfOtrzPY18+lDKfo6BgVWjg3tITpdTrzNhKgWlw3RGK8dHmXst6W0iA8zo1y+2uftvS5W4PxVX7UIwoRrxQsfSTbmqKXeiGZE1rkPu+MJOOcJzVW3uJJowcw02AxiofpV4n76/v4lPjyvifhnLaemPc94WZXP/cUprbI5kZ12///XHmPm6HDd2AuxauyiylbO6O8u0nTTuLBXMadtr/3WkXmeylNgGlA3TAQ8muiLmhsMZhE0yoChCKJfG57ThSg1Kx28F5nxqT0Uqklzmqi1wcN7mCLxw6Lkcj4XbY+eWrS3O0Eb98dTU/nT+dIreDZj2cc9+kLukIW8/S24IxRpd6WDCnMe/+Tk1YDujdkUTm/P7Xa+21FoTagjGmjS6xNK5Mh6i3Grhrit1cfMQ4fvpinx3E1cdPxOPQLOvtxK8fwbgKawGu1Ofkm5+ZkBGG0m292G3d1mqK3ap9KEYUI16oaA2ZLmJ3L1zJ3Gm1vLehiwNqiih2OxhT7slRw44p93DN3Cl8+4SJ1Ja4qSvzcuH/vp2zht0dTtAdTTCq2M0Fh43BAEaXeBHCnD1edlQDYAYISXdMNcVuHJp5/oaOcCbw1o7EmPi4PcTlf3gvp1MbU+7hJ2dMyxiI7qq4FSrK4ODYUZV4c3uQLT0xrn12aeb3vPGUKTS3B3FogsfeXp8jJDz29nqOPaCCYw/YL0cjceMpTSR0Pc8A+cpjJ9AVSVDstu4Wyn1OayHV78KGYEy5l9vnTycUT+Jz2rHZwOe0c+WxDXidjowgdOWxDVQGXEQSuuX1KgKuAT1GSrwa96eWbUp9DuyaWf+t7DAmVgcwpOSRNz7O2ffIGx/TtF+RZb1d3xFiXIXP0uakzGdnVJErR3gfVeTCZReWQpV9gKUU1T4U+yIjXqgo8Ti56fllXHjYONrDcbxODV2X1JS4+ckZ01i9pZefzp/O1p4obqfG5X94N6fTSBtfpg25fn3uQUTiOlt7otSWetFsggdfX8Mxk0blrBGnDTeBPAPNW0+bysy6EurKtn/d1arjam6PUFvi5q8W1u1DiYrkueMYhmThR1tYvKlvJtxUW8ycSdXYbMIyJ0VbMJ4RKMAcmK59tm8pwcoroSusc+2zS/qds4RHLpzNH95qzhlo//BWM7fPn44uJdGkkWfrYEhpOUs3kITiSXTDoNjjJGlIijx2uiOmkWKRx0EyK5t4kceBAHRD57qTp3DDc31C0nUnTwEMy/t4HBrrO0I0t0fzzkkkJRcfXk9rsG/J5uLD62npDqMbMtO+0/suPGwckYRu6TbqtNsKahceuWA2335qcV5df+C8WTzyRnOOTcsjbzQzvtJPQ5VftQ/FiGHECxWd4TjnHFyHEOB3alQEXKzc2oshzf+ri9xc/eQHXHR4Pb/pZ/WdXsr48zsbOO2g/YnEkgjgwdfXMOeAUTz5zzWcNWs03zxuEu3BOA+cN4t1bUHue3UtNz2/jEuOrEc3yFs//v5fFvPYlw+lpbudqoAbzQYt3QPPZgsN7GU+l6V1+1CyLX9/RT4ftwVZvTXfK2N8hY+6Mh9/W9rCqq1BDAnLW3pY3xHCrhVet68ucvHCkk/yvCxqit2W53SGE5bGkOF4Ertms7R1+M35s5i8n59HLpjNll6zPsb1JMFYknKvk0jc4OonszUiU3DYoTuS5Los7coNp0yhpkjitjt45aOP84xFJ1Y3Uh1wmlqPlHZD13V6ogliusFT76zPe87vnzQZISI5zykEeJ12pIRwQs971wGXg28cO4F1baGMsPGNYycQcNkHDH5ltT0US9IZjnPvK6sz28325xywfSgDTsW+xogXKoo9DsZX+tncHWFshZ/WYCyv8yn1OhHCev23uT3EiVNrcqzbrz95Ci9/1MIln66nN6rnLJFcd/IUrpzTwB0LVzO+0s+a1mDmutn2Gxu7Itzyf8vpDMe5du5kHntrPd3RBLecNpV4wsDnslNd5MpoM/bkwD6Qv7/Cmk+6o5ZeGVNriwnHdTZ2RvLq4dTaYkvB0e+yE00kLV0aa4qthc1Sr8PSGPK3XzqYYDRpWdfjCZ22UIJrnunT1t00r4npowN0RXTufXV1jubj3ldXc/v86RmBIn2d655dysMXzEY3dOZOr+Wd5k5zUG+DudNrsQnY0hvP01SMLffTFYlz5qzc57zhlCkY0qA3msx7Z0nDIJ6Ulu/6wfNmYbfBrDGldKSEmu5IHIkpjFjZolQVWJop9zm58tgJectJElmwfcDgYm4oFMOZYZn6fFeSnQbYMCRvN7cjgHeau4hkzWbSuB22TEf54Ov5+3597kGZTjEdwjutDg1GkxmX1Oxzbp8/HYBYMonTbufqJ/viVDy+aH0meucBo4q479XVrNwa5KHzZxFLGry3oQtDwptrWrno8PHoUjKxOoBDE7R0m+G/E7pOmc+lBvbdxw6nn35paQuXPPpu3nH3n3sQboeNS1I2EGncDhsPX3gwK1p6aQv1qfHLfU4mjgoghOC8h97KO+d3Fx1CWzBKUicz67fbwKHZuOjhd/Lu/+B5B1HkcVhe69ELZ3Ou1T0unE13LMHG9kjOEkOZ10llkYvLfv9e3n0eOPcgqgIuPtjYlfc8TbXFfP7B/+bd56HzZ+G0a3zxN/n7HjhvFl9+ZJHl9mjcjC1z8ZHjM9qNB15bw9ePaUTTwG6zZYSKpGFQ7nPicthYuTnE6tZgpmzjK/3UlrpYsrE37znHVnhpbg9nnsUmoMLn5MgJlYytsNYSrtka5LO/yE+j/n9fP2K7PL5SqNTnij3BXpf6fLfwcXuIgMtGa2+Suxau4uIj6i1naC67DYcmuGbuZG56flnODOnaZ5bQ3B5JGXFOpjscY0yFn45QnKqAi5OmVPPn91tyrheKJ/E4bFQXeQjHk/z6iwcR0w3u/+fqPJX0NXMn8/hb6/mkO5oJxjOm3MOlRzbkxNBYMKeRR95ozhh4zqwr22GBQqlidx9lBYweS70OOsJxPjWujC8d3jdL/u2/1mEXApdDy5mN33DKFNx2jU3dkQIeE1FiSYM1rX0q/vpKH5V+t6U9QZHHQSSe5MZTpuQZhPZEE5aeHK1Bc/mlzRHLub9pN+CyvE+pz0EkqROK5y9LxJI6E6r8eUJAMKZDLGlZhlDMWrsSjiWpLfVw6VHjMVK7hYBLjxpPbambxZt68pZmqvxuIjGDaCKZ42kTjiWwC6/ZVvvZm7gdGrf+7aO83/N/Ggon82ruCBU0FN0BoUKhGFaMaKFiS08UzSboynKVs+roG6v8XPmn9yn1OrnkyHrGV/qpLnJx+4sfMXdaLQG3RrHbwU9eWM7Zs+q4IWu548ZTmvj0xAp+/MIqKv1OLjlyPAjwOTV+8PTijAvqTfOauPSoBhZv7GZClZ8jJlQhBGztifK9kyZxwf/2zcLmTqvNC7Rz10Izhsa9r6zmm396n4oLZ2MXAk0ThOP6oFNhT64JWNpzKAFk59Bsgp+cMTVvsLdrgtElbk6Ymh9Dwq7ZLJcSHr3wYCr8hdTyLpa39OTcuzucYHyljcuPbuSaZ/oicN40z/QKKfE4aW4P53g4RBM6xR47X/10fY5m4aufrqfc70AiEYK8Qdjj0Pja0Y1cm3WfG+c14XFqdIYSlssSvzl/FhcdMY7VKdsmTcBFR4xjVJGLpCH52tHj2drbZ5D5taPHFxReKvwuDEPSG82360joknc+buOhLx1MW2+MyoCLv7y73syXIyRlfhdOzWYanrrNOBwx3bC0N3n0wtmWgtDWXjPOjFV78RVIKuh1juhuWbGXM6KXP9Z3BFnXGsTrshOO6USTBiUeBwAbO6PsV+ICoCNk+tS39kbx2G1UFnkwkHSFE/zw6SVcfnQD97xirif/5l/5SyQPnDuL1a1BGqu9GIbIqFq7QjF+9MLKzJLJd46fiMQ0upTAxs4wf3xrPVfMmUBXKE5VkZvOcIxSr4uv/zFfpXzNZw+gsshNJJakrtxLTzTBgsf6hIQfnTaV/ctcgEY8aTCq2E1dqZeNXWG29sQ477f5qu3sUOM7m39hH2aHVdBvf9zGurYw1z6TpQ2YN4VxFV6ktF7KePC8WXzxN2/lXfuBcw/C57bRHkxkjDs1AQ1VfvYrNsPMZ7t0hmMJxlX4LZcyfn/RIUQSOnf+Y0VegrxrPjuFFVt68q41cVQRSd1gY1ckT0iqLfHwrSc+yBvsf37mDNpDcd5YvZXjp9bSmrI1eGHxJj49qZqVW4J5NhWHjCsDCc0dQUq8rr52FI4xpszHss3BPK+QCVU+dAlXP5lfhtvnT6cjFCehy5y4H6U+Ox6HneUtvXnamrEVHm5+/qM84eHKzzRS4rWTSIqMEatDk3icdiZUFVu2lwOq/bywbEueG+oJU0YxbvsNq3d6+SM9BggxItuuYnCo5Q8rQtEk5T43K7cG+f5fFlPqdWYCCE2o8nPZ0Q0sa+nBkGYndM7BdVQG3Pzy1VXMOcAcXG+a14TPpVHqdTJpVICLj6gH+uwrogmDrkiCxio/oViSpZ/0ZIzSGqoC3HnONN5b382YMh9x3WBta5Cn39vEUZOqmFAV4Lb502nvjTG61syY2lAVoD0YY8GcBv60aGMml8iYcg/FXkeOAduPTp/KVcdNoCuSBODOhSu59bSpODRJZzhORzjOqq29qZmodfhjQ/YZkG7sCPHu+k50Qw5ZMJ+RqvGQUnDvK/0MG18xg08VCv4UjCUtZ7bFXgc+p0ZbMJF7D8Blt6FLwVX9wmSH49bLBR2hOG6n4KtHNeDQbBiGNDUURzUQN3TLa8V1HU3YaAvGc5YFrj5+IiUeh6WXSW80wbgKN92RUr6UEmbT2pKaYhf3vLwqz8Ojab8ifE6NMr8TTdiwCdM2pMzvJGFIfvXP3Pf5q3+u5uZTp5LQdcsyBGMJwgk9x/tjbIWPGrubSMLgT4vyvUy+c8IB/PDkSWDY2IKkusjFD0+ehNfhYHlLb57mZ1ZdgI/bQ7z6UUueRqSurJ7aEhf3n3tQjoC0O8d2KSVGal1I0wbOHKtQbA8jWqiIxA10KTP5MU6fOZrH3l7PgjmNVPhdfOPx3Lwfj729nnkzallw7ESklHzU0kNzR5hpo4v52tHjWbW1FzA7p0uPrOdXr63FaReUeBy8v6GL2fVlzB5XRk84gdNuIxxP4NTcVAXcOfYRN81r4p5XVmWWRq47eQptwRgep50tvT3sX+bFoZlCQyyp43FoSCl5d31XJvbFFw6pQ0oYVewhaYRBwo3zmuiJJCj3uyjz2bEJjbZgjKqAi6jDesCaul8RU2sn43XY6QzH2dwTpSOUP+iZ8TrMbKvpuArbSvlsteTykzOm8dmmmn0+XXQwlrCMnRCMJQp6GFQFXJZJw7ypYzdZeIyMKnJnZu/QFyb7kQtnDyigLPkk39bA57JbXuu3XzoYXeisaOnKGzin1hbz+KLcoFyPL1rP7fOn0x0xuOeVVTn77nllFXedfaBlvhCQuBw2mjsSrG41DZbXtAYZX+ljTLmdr316PF5XnxalrmQ8AgO/y9rT5ZELZxOJJ3O8P4LRODHdDGM+v18Zrj95CgldZ1NXLE94aNrPYfksP5s/HY8LDm+s5s217ZkyH95YjZQ64bjk20+9k3OPznCcsbu09vUhpWT+L1/j8a/8jxIqFEPCiBYqgvEk4bhONGFGtZxQ5ePsWXVoAjZ0hnO0Dne/vIrLj24gmjT4pDPCpu4IM/YvZm1riEg8iU2InA79mrmT+dHpTbQF43z50UWUep1oNpGj6rz51CZ6o4m8pF/XPGMuqdz+0spMx/3NYxvZ0htHs8GoYslLSzdzzyuruWleE0IIkrrBv1e3cumR9SQMyaNvfszcabV4HDamjy5hS08Ep2ajLW6g98Zw2AS3/m1Jjk3H3Z87kKWbujMRPW8+tYlRRU6aO6Is/aSjzwq+ys9xkytorC5BCPA4bARcdi56eFHm2W45bSp1ZR7KB/BCsQow9J2nPqTU6+TwhopBaSz2Fs1HkdtBOJEfpyLgdmAYku+fOCnPK8Kp2fC7tJz4DXYb6IZZl99b354X82H/Mm9BjYRVBEgpJcGYzi/7uYf+8tXVXH38pILXGlXs4PDGqn4DZxWReOF4GElDWkb1jCb1goJQOGawuSeWZyhZX+nH5dQyMWbSyy8Bt5O2YKyAcWcCTdPoiSSJJXR6ogKHpuG2CwR2rn/u3ZwyXJ/KWfL2utY84WlsuZfr5x6A1+XMuI0etH8RMT2JlhCAkSO8dIVjJHTB9f2eM32P3UUikUBP6Oi6vu2DFYrtYEQLFeG4js9pz4Tj1mw2Hl+0nkuOHM/v3+pz7bx27mTue3U1tSUeWnujbOqO8MSijXgcWsZAMtuWIpows5LePn96ZlZ5+szReUZpP3x6ienyZtFRV/pdmf9LvU5KfS5+/o/c2VEoluCeV1bx49OnkjQ0Lj2qgVKPk85wnK8d1ZCzHnzd3Cl8988fZoSIm09t4lufaWR9R5RKvwuPU6Pa76I14OKGeVMo8Tho7Y0R06GqyIHTXsSmzgj7l3vxODROnm4mYNvYGSYS17F5zDDF6Qysdy9cyVXHTeJfq9o4oKaIYyZUsaErQnNHCJ/TjLFRKMDQ5u4I6ztCBV3xCjEUiZt2l1CSNkrsb6T44HmzSBo6kUSuh8GVx05ANwzWtYXzBIFKvwu3Az47LTfmw2en1VJTZK318Lvs/G1xS456/4HX1lBf4QMhLKNTVvqtPVYqAy6EFGzqiuYJSTXFpQW1BEBGoEjvu+MfZpAta+Elhs/l4Pf/zY0E+vv/NjOrrpRPLO6/f4mXCr/LMi9Kmc/Fis35dhO1xR629oYtDS9D8QQHj6vMiT1z07wmPE7B5h6D9za2YUhYvTVIQ5WfCaUeInGd+kov4RhotgRuh0Z9pXeAjKu5XjS7EiklumFklkAUip1lRAsVlX4XOgbXnzyFr/7+Xa4+biLfOm4SP3vpI0vXziKPnTJfgJ+9tDIni6lVYKxSrxOvU8toO/wuzbIDaemK5HTUNcVuzpw1mmKvg19+4UDWd4QZXeLNrGOnz7vmmSU8fMFsvnfiASQN6ArHKPO5WNceosjtYGNXJEfTcsPzS/np/Onc+tfltHRHeeytZq46/gBiSagucrG+PYTHofHBhg6OmlTDv1abneNtL37EZUc1sHB5C6fM2J+eSJIr/vhe5r3cetpUSrx27DYbRW47W3rj2IC6EjflPjujGipoC8Z5b2MnSUMSjukIoCsssGuCu86egdMuuO/VNXy4qYcx5R7GlvtYvKmH9lAchyYIxUzvlbpSL+s7wwUH/EKhlWsvOZSptSWZY7b0mPE84rqeo0nZndkkewu4QAZjScp8TsvB9rdfOthSEHngvFn4nHY+6erJG1THlfssNRJ+l5YXtG3BnEaqAqYwu7Y1X4vic9q54ZQpecsiHodGRzhuWbY7zpph+Zxd4QRgPaiGYtY5Qcp8LsLxhGU48piuF3w3XjQWLt+cZx9x8NiyggG76sq8XHB4rgfKBYePI+Bycs/Lq/Ou9b0TJwMyx/tFSoNoQlLi0YgkDUwrFxPNJvA7bQU9VnYXUkqkNBhpBvuKXceIFiqEkDiwkdBN33e3U2P11l7mTqvNm13d9PwyFsxppL7CzwlNNZkspmn6CwbnfWoMl2XlCblm7mTGlHtobo/knFPhd3LDKVNMdfP/jMPjtOes11557AR0aVh2vpu6IqxtC6EJqAy4qAy42K/YnTdjvGleE2U+By1dES47ajx1ZR629sZzDORuPMU85uzZY1jXGqSxKkBbb5Sb501leUsPFx3ewMbOED98uk9dW+p18nF7iEYtwKbOIKNLvYwudSOEIGEYBNwOEkmJ16XRGU4QiiUocjsJxnQ0m8ChCZ5+byNvrOvg5lObmFDlZ0NnhH+tacNus2HXBD/+2/KMduWW06YypsxDVySBlJJNXSFcdjsd4ThlXied4YT1zK8nxgdGJ+vaw5mlJrfDxndOmERtiYeln/RQV+bF69QySalcdhsNVT4Sus5/1rTh0AQ+l51J1du2FdkeCs36K3xONhcw1GwPxQvGaDCkddTIyfsVWeakmD662PL4gy6YTVy31qI01RbzRNp4MZ7E47TzyH/WcsWcCcQSumWZA+5CbpMahpSW+9JLJP2XTLojCUo8joxAkb7H7S+t4MECGr9QLAkYltFGQ/EE3zq2kRJfnyfJhEovoVgSTQg2d+drPvYrdlrae8T1JCByll8aqvzYBAgbbOyME0sYhGM6W3tjdEdsTKh28/iXZ7K+Q894jHxxdjWbunINbnclaUNNwzAFC+UBothZRrRQsbU3TtKQlHgcnDlrNDc9v4yLj6hHs1mH5A7FdZwOQV2Zl6Qh+dUXZ9IdiuF22rlpXlNGGDhzVv5Sx03PL+Pez8/ka/0Skn3SFWFMhZ/vnXgADs2W2Z8+745/rOSOs2ZYd8wO07Dq6fc38YVDxhCJ6zg0LVOOtNfGhs4wHmeAYq8Lv9uG0953TPo+1z5rJkNz2W1Ul7hx2DRAsqi5gw83dLFfiQenXeMX5xzIxs4wvTGdxio/P36hb9C/9bSpCMxlJSkhoUuaO8J8L8uz5gdP981yr5k7mfMOG8NXjhpPdyRBXDco9mrMGlPKsk96+ailhwVzGjPq4K09UbxODZdmw0DS2pvg+3/pe5+3nDqVMeUe4knJ148ZT22pl0TSoMTroDUYo8Lv5Lb503BoNprbQySSOiVeB1t7osSSOro08mI33DZ/Gk67jbZgDBC8s6Gdg/Yv32nBQpe65axfxyhoqFmbElbz0psHXGwtkJMiljAsc1L0FgjF3RqMYRPCWosSTbKouZtFze/l7SvxWgtJPqdmqSlJCxVW+3xOe45xp5SmceePT59GR8g6/Xo4bq3dKPc5MSTc8Hxuu7rh+aX84eJD2Nwd49v94oGM9TvpClvH0HjkgtmW9h6PXjibcp+kenxFRkBI6kkMCeEY1JW56A4bbEFSFXBR7LERjoHLm183aksc1pVmFyClBAkXPvoeT1x25G67r2LfZUQLFT6XHZfdRjCWoC5l0PbUOxu5du5ka+t7v5PW3nhOIJ/rTp7Cb/61ju5ogjvOmkFcN9AKdMprWoPcefYMgrEk69rCvLW2nZOm7ceXH1nERYcXFmbiST2n8x1T7jFnR0mDGaOLmVDtpz0YI6FDZziWESiyw36v3NLLgfuX4HUKOoLWM/q3P+7kwdfXct3cKfzqtdWZSKGXHdWQ40a4YE4jf3xrPZ3hOFcc08ijbzYD0BWO80m3hm5I1raFcGg27lxoqvGtbEpuen4ZD51/MD3RJPe+bIYjv23+NJw2G3E9FYzMrnHQmGLiSUFb0BQq1m4NMrGmiEQiyU/nT2ddWwjNBu3BKD846QB8Tjvr2kNc+8ySHEPAMeUevnPCAazZGqSptog1raFMPIi0JsTtsHHH2TNo7Y1S6XeTNExNx9q2ECuMXhqq/Hzc3kNDdcnOVT6p5RhDSmkaQ952xnSKvRq3nTGV1VkxH8ZX+kgY1hqE6efPotTrsKyzJV67ZU4KfwENQpnPid0mrLUoBbQrpV4HvfGE5X3aQnFLTUljtZ8Kn5NRxe7cNOKpXCWXfrohL+aE22EjoWsFNR9WQppTs7GxyzraaDCWLJiXJFJA81IooVhbMIZNQELXM9oIhw0qAwKXA5a3REkkZWZfZ1gwrdbDu+vDfLSlN2OH0VYdYGadKWl0R6Ks2BxiS0+M6iIXE0f5KPYMbWZTKSUS05bIMAzlAaLYaYatUCGEOAG4C9CAB6WUP+633wU8AhwEtANnSyk/3pF7BFwaZT4bH21JUJmaHbZ0R7nv1dVcO3cyN2aF5F4wp5GGKj8XPrwopxO64bml3DZ/Olf88T2u/NP73HHWDD7a3GPZ8e1f6uVHf1vOVcdN4s/vmsJL2pVUCDCkdURPp13jb4tbuOjwegJujYDbwWW/75uhX3XcRB5982MuOXJ8Jvzz6TNH8/ii9Xm2ITefai5zWN1Hyr5ZXDo659xptXkdb3b0zrRXjE0IHn7jY0tblN5ogtoSbyZNPJCjRSnyOLj00+N5YtEGNnVGcmauVx8/kaSU/OylFZw9q47vPNW3fHH9yVNo6QrjtAvGlvnQpSShS5Z+0s2YCh8/Om0ab65r5+Ij6nltxVZOaKrJ2EtcMachJ89LNGHwg78szhjdmsLiGs46aH+8LgfVAVcm2FMovvPrz+2hGM3tkRwNQnq7IR20WsR8cDvsBQZHnUq/k++eMIkfv/BR5pzvnjAJmxA5Kc6lNFOc33HWDMu04z6nRjCW4PqTp2Q8E9LvOpxIWgoOXZEEAbdmeZ/bzphuqSkpcTvoisRJJHTTDiGexOc0329XJE6xx256uaS222xgEwKfy1rz4XLY+P2bzTlLMw++toavfHp8pm33r+9pz6/+77O1N0ap37qNFLpWud/FmtZQ3vscFZPEkmbAu/77usIemjvCeUssdeUePK4oG9pDKTMMs75taA9BOUMmWPTFqFD2FIqhY1gKFUIIDbgX+AywEXhbCPGslHJZ1mEXAZ1SygYhxDnAT4Czd+Q+ZX4nnaEEk0a5CUbh1tOm8v2/LObDTT10v7aGX5xzIElDIqWpxt/YZe2tEIknM9+Xb+7hiUUb8/KEXHFMIz9+YTlzp9USjiU5c9bonAylYBppDXTeva+s5mtHN3DnP3Jnq7e/tILLj27gpueX8ZPTp3LFMY1Ek7qlbcgPn17CnWfNsFyzTmsc0kKO+VtYa0/S+6MJg+oiN9c8s4SLDq+3tEW56PB6rn7yg0x+EoBzDx2TJ3xceER9TlKoaMLgpy+u4JIj6y2f5frnlrJgTiM2IfhGvzwo4bjOrX/tW5rJzuAKpgBX6LnSwuJ9X5zJ5u5YXrCnpL7zlvKVBcJqV/pdRJPmc/d/D/97wcGW5wTcGm2hOAJyZv0CM/iV1azf67JR5nPkDNwOu8BpFxAXPPlOvu3Ed044wFJwuH3+dHQpOe9TYzPlTgtCmo2cpcG0jY/NJgm4nVz37LKMoaKU8PyHm7jr7BkEo0my37ImzGeyCWGp3XBqNlZuDXJFVqRZt8NGdZGLWFLnurlTMqHt0zYV5QXyr1QFXGia4JufmZAX1bMnmrBsO+F4smAMDxJY7nv4gtkFM9UWuaMsawnleaYUebQh1Vac/et/A2TsKpSmQrGzDEuhApgNrJZSrgUQQjwGzAOyhYp5wPWp708C9wghhNwBM+bRJT4SyW56IhLd0PG57Fx+dAOVfhejSsyO6v5/ruG4phruWriKn86fbtkJeVKx+t0OG7oBLd1ReqOJnM730TebaemOotmgKBUK3OvqU0E/9c5Gzj10DKEC521rkK/0u4gmDDTNdIu96rhJrOpnTJo+tjua4NE3mzNLLhOqAtyS8gpJP0f2Wyyk1Uh/L/c5cwbk/vdLb79r4SouObIe3cBS+Pj5mdMtzzdk4ecu8zq57rl8TUpaELn3ldVEEwYfbe7JO3+g54omDJyarfBAsZM4NJvljNuh2QoanEbiSa4+fmLewG0TgmKPg5v/r2+A1g146D/rGFMxGZedHOEhrifpDid54LU1nHeY6SFkAA+8toZvnzAJt13juCm5niHf/MwEDAy++umGPA1GQtfRbDYcNpEz2DtsAt2QmbgO7cEY5X4XT7+7nnEVY4gmE5b5R8LxJLphUORxoktJkcdOMBrHMKC1N8Zv/7XOdPXM0kh858SJ3DivKS/HiEMDp93OU+/mC0nfP+kAyyUTKQwiqTaV/TyVfhd+l7W9x03zmix/s45QPKMB7L9vawGD3HBMZ3O3LSNQpLdf++xSHrlgNnXlO139AMzYFNLsWBKJBIlEArvdrow1FTvFcBUqaoENWf9vBA4pdIyUMimE6AbKgbb+FxNCXAJcAlBXV5fZbrMJQjHwuaA9JBlV5GTBY+YgVFPs5pZTm3hjXQcfbQly0eH1dIZjeZ3QdSdP4cHX1uB22Lh27mR+/doaAIIx3TIPyOSaIm54bhlnzRqNz6llZj0t3VEeX7SeW0+bmgkilX1e2qNRE9aDYVpA8ThsnHNwHbe/9BHXzp1SUAhq6Y5mVNK3z59GZzie2X/jKU3c++oqwNSe9M9YmdY4pDUMHqdpsZ8+f6CBekJ1oGBGyULr/LYBloa8LuslgbQgkqb/+U+9szFvUM/W1rgdZjpsq2u3h+JsD4XqHcCmroilrUFduZf9UnYF/Z+12OPEYYvkDdxuh0YoluDSIxvyZuMeh527FuZrA35w0gGWRpdd4SSjS90FtAGapQbj+ydNxqFZD0Qep2YZ18Ft13DaBXe+vSrvetedMpn2UIJFqZgbNgGNVX78boGBy1Ij4XbYWdmymf+9YLZpDxNw84+lm5hQ5cPrtPHFQ8fmCEk/Pn0qds3GwuUt/Prcg+gKJyjxOvj9m+u49NONODWNO/+7ysx/klW2m05tstT8BFzWdbfS70IUaLPVBWKIeFwaWwoIHFu2M4bFQHUvTfbSRzKZ5Kz7XueJy47E7XYrwUIxaIarUDGkSCnvB+4HM7lO9r7JNUU88+En7F9qB+z8+PSpfPfPi2npjvLLV1dxy2lT+cFfFnPvK6tTA+5kfnP+LDrDZjhlTcDlRzfidtrwOG2ZmZzVoHXraVPpicT51nETiCd1RhV5MvYL6Q7/jr+vyAvFfMMpU9ANg9vOmMrYCh8+lz1HLbtgTiMtXWGunTuZlq4IU2uLmDRqCh6n4OZTp/LDpxfnCUFp3A4brcEYt82fzsot6TwgSW6a18T7G7qJJQ3+trglo+J2aeZzfuGQOuor/Tz0rzV867iJLJhjhjEfaFnF7TCDLjk1WwHhQ+at2d962lSC0QS/+fe6vGsvmNPIpq5wQUEke5XiuQ82ZX7LaML0iPCnNFMAk2qKuOn5pZnkbmZKcetyVge2L47AQPVuVJHb0tagOuCmsdJrGY57v2Inm7qctGUJNaU+J2V+B7ohLWfjN5wyxVIbUGhAK/c5CXgg4Da9cDrDCUq9DnRpUFNk45zZY3IGZ7NcGuG4pMznyilbmc9FkVtQ1M8+wmEXOB1Q5LIe7Ct9NuJJJ9WBlCdFwI2mGXicYNdslu+mqsjGAbVlOW7St5w2lSKPDZcDynwO7j/3oMzzgKTKLzhuyn452WDN5zEFZKtnLfWY7sDZz2MuQdks7VCKvRrFbrjxlCaufTZLi3JKE6VezXKJxefUcBWqe0U7X/eyjskxp0gkcgULhWIwDMsspUKITwHXSymPT/3/PQAp5Y+yjnkxdcwbQgg7sBmo3Nbyh1XGvmTSYFlLN8FYAq/TQTgVvrvI40AISSJphi72OjV8To2YbtAbSVLsceByQGdYZ0tXmLGVAULxBH6naYRW4XMRSuhEYjoVATPSZZHbwZbeGFc98QGfGlfGSdP2y+nwbz1tKjUlTmz05eVw2k0DUr/LTsCtsbEzyoqUxbhNwJhyb8qFzcDrtNMZTrD0k25e/WgrXzy0Dq/TQSShM6rITTiRzMlcarrwadz3z7V0hs3QzbWlHkLRBDc8vzy3Q/U6cDs0lm7qpjuq8/yHm7j00w0Uu20kJazeGsLr1Bhd4kWXBh6HnVv+uizH5XR8hY+OSIzOUDInZsSPTptKhd9JOKFT6nXS2huj2Ovg2fc2cFhDFWvb+q4tU4mctvTEuP2lFXmhnhfMaWRUsZs7/7EyJ4JoqceOpmkEY0k2dIR55I1mOsNxrj95Ck++s55D6ivRbDCzrhTNZna4Ld3xvMHguKZKSnLXtXc4U2Q8rvP0h5/kqetPnbYfTqdGMBJlWZbl/+RRPrwuF+9vbCeRFJlQ0A67ZMbocuJxneeWtOQJDyc31RCVSVZmXWvCKB9uYef5pS15g/PcKTUY0mBTT5jOkJ4Z1Et9GvsVeeiORdjY0bd9dJnGqKJiorEEi1u6MKTpflvhd2ETBhNrili6qQeb6NtuSIMZtcUkkPRGo7R09l2vplQj4HbTGYzS2tu3vTKgUeo33/mG9hCROJl9HifsX+5jzdZedN2WI4iMrwoA0N4bpT3Yd71yv0Z5wE00Fu2LExFwU1em4XaZ9ym0rycSZXNX3/ZRJRpFHjfvNncRjhkZYcPrsjFzTAkAkViUDVnX2r9Mw+Ny89qKdla3BjNtuaHSz5ETzfWNl5a07pK6lyYWi3HqnS9jyFyNyBOXHUEgEFDaCsVAFKwcw1WosAMrgTnAJuBt4PNSyqVZx3wNmCqlvDRlqHm6lPKsbV17W2mA43GdZZt7iCSSeB0a0aSkJ5qg2OMgHE/gc5m5GXRDEtcNfC67GTQGQWc4gdtho8zrJJo0rcj9bjs+p+nBEY7rdITilHgc2G2CznCccr+LaFInGNHxuzXcDo3NPVEqAy6Q0BNNEHA56IwkKPM6cGqCaNJANyS9UTOiX5HLVDht7IpQFXDhdWr0RJO0h+KMLvGQ1E21aYXfhdtuIxRPEkxFLQy47CSlQWcwmdK2aDhsAikhGEsSiRt4XaYwJZFEEzp2TWNrb8yc1brsJHSDnmgCj9PO1l5TEHLYBK2pZ+0KxynxOEkaOkLY6I0mqCl2E02YeRyqAy6kMBDShkRHoBE3dPwOO71xHYmB226ntTdGmc9JwKURThgkdDMuR1cqKFJXOIHXqeF3auhIInGD3liSCp8Tv9tGb9SM5FjhdxKO64TjOn6Xht0uEFJkruOwCXSpY0gbSUNHE+bzVqUG5JJ8Q7lBdezxuM6Hn3RnIoRO268Yp3NgQ7l0GPG0UJEdVTQaTbK4pTsjPEytKcbtLqyMHOj4cCTOks29mX1NowJ4Pc4B71/onFAkxtLNwcz2KaP8+DzmjLsrEs0TeEo87oLbh/M5u+v+/Ri0UBGNRjn1rleQ/YQKh8OulkEU22LvEioAhBAnAXdiupQ+JKW8RQhxI7BISvmsEMINPAocCHQA56QNOwdiW0KFQjEIBt2xKxQ7yZALFQBut4snLjsSh8OhBAuFFQUrxbC1qZBS/hX4a79t12Z9jwJn7u5yKRQKxb5ONBrjrPte509fPSLjEaKEC8X2MGyFCoVCoVDsaiSFgl9FIhHm/uxF7HZzOcTrtYgprtinGYwgOWyXP3YVQohWoHlPl2M7qcDCRXaYMxLL3CalPGGgA3Zzvdsbf4OhZCQ9/87WvX35Xaln23UUrHcjTqjYmxBCLJJSztrT5dgRVJn3PPva8+woI/35d4R9+V2pZ9sz7HwOZ4VCoVAoFAqUUKFQKBQKhWKIUELF8Ob+PV2AQaDKvOfZ155nRxnpz78j7MvvSj3bHkDZVCgUCoVCoRgSlKZCoVAoFArFkKCEil2MEGJ/IcQrQohlQoilQogFqe3XCyE2CSHeT31Oyjrne0KI1UKIFUKI47O2n5DatloI8d2s7eOEEP9NbX9cCOEcgnJ/LIRYnCrbotS2MiHE34UQq1J/S1PbhRDi7tT9PxRCzMy6zvmp41cJIc7P2n5Q6vqrU+fuVGQdIcTErHf5vhCiRwjxjeH+nrfz2QrVoSH7PYYzg3j+SUKIN4QQMSHEVf2uZfnbjjT25fcghHhICLFVCLFkT5dlqCnUFoYVUkr12YUfoAaYmfoewMxpMhm4HrjK4vjJwAeACxgHrMEMVa6lvtcDztQxk1Pn/AkzTDnAr4CvDkG5PwYq+m27Dfhu6vt3gZ+kvp8E/A0zdOuhwH9T28uAtam/panvpal9b6WOFalzTxzCd65hJpgbM9zf807WoSH7PYbzZxDPXwUcDNyS/dsP9NuOpM++/h6AI4GZwJI9XZZd8GyWbWFPlyv7ozQVuxgpZYuU8t3U915gOVA7wCnzgMeklDEp5TpgNTA79VktpVwrpYwDjwHzUjP8Y4AnU+c/DJy6Sx7GLNvDFveZBzwiTd4ESoQQNcDxwN+llB1Syk7g78AJqX1FUso3pdk6HhniMs8B1kgpBwo2NZzfcw4D1KEh+T12xzPsDDv6/FLKrVLKt4FEv0tZ/ra7/gmGHfv0e5BSvoaZD2qfYxDjyW5HCRW7ESHEWMwEaP9Nbbo8pZ5+KK26xawgG7JO25jaVmh7OdAlpUz2276zSOAlIcQ7QohLUtuqpZQtqe+bgepBlrk29b3/9qHiHOCPWf8P5/e8Q/SrQ0P1e+w1bOfzF2Kvf/4hQr2HfQCL8WRYoISK3YQQwg88BXxDStkD3AeMB2YALcDP9lzpLDlcSjkTOBH4mhDiyOydKQ3DsHMdStk5nAI8kdo03N/zdmNRhzIM199jKBnpz69QpBmoLexplFCxGxBCODArwO+llH8GkFJukVLq0sw7/ACmShJgE7B/1umjU9sKbW/HVG/b+23fKaSUm1J/twJ/SZVvS0qNTurv1kGWeVPqe//tQ8GJwLtSyi2p8g/r97y9WNUhhu73GPbs4PMXYq99/iFGvYe9mAJtYdighIpdTGot/jfAcinlz7O212QddhqQtlR+FjhHCOESQowDGjGNGt8GGlMeCE5MFf+zqRnaK8D81PnnA8/sZJl9QohA+jtwXKp8z6au3/8+zwLnpbwODgW6U2rpF4HjhBClqWWH44AXU/t6hBCHpt7PeTtb5iw+R9bSx3B+z9tLoTrEEP0eu+MZdoZBPH8hLH/boS7vXoB6D3spA7SF4cOethTd1z/A4Zhq2Q+B91Ofk4BHgcWp7c8CNVnn/ADTOnsFWV4RqfNWpvb9IGt7PeaAuBpT7e/ayTLXY1qEfwAsTd8L065gIbAK+AdQltougHtT5VoMzMq61oWpcq0GLsjaPgtzgF8D3EMqENtOltuHqVEozto2bN/zENShIfs9hvNnEM8/CtNOoAfoSn0vGui3HWmfffk9YE4qWjANdTcCF+3pMg3hs1m2hT1druyPiqipUCgUCoViSFDLHwqFQqFQKIYEJVQoFAqFQqEYEpRQoVAoFAqFYkhQQoVCoVAoFIohQQkVCoVCoVCMEHY04ZoQ4qysBGZ/2NbxSqgYQQghdGFm6lwihHhCCOEtcNx/dnfZFPs2qZgZ/xJCnJi17UwhxAt7slyKvR8hhBRC/C7rf7sQolUI8Xzq/1PSmViFmbX4qkLXGiH8L9uZ80cI0Qh8D/gfKeUU4BvbOkcJFSOLiJRyhpSyCYgDl2bvTEeLlFIeticKp9h3kabv+qXAz4UQ7lSY4VuBrw3melmRTRWKENAkhPCk/v8MWRFCpZTPSil/vEdKNgyRFgnXhBDjhRAvpHI9vS6EmJTa9WXgXmkmIESaEZYHRAkVI5fXgQYhxFGpSvQssAxACBFMHySE+I4QYrEQ4gMhxI9T2wpVQIWiIFLKJcBzwHeAa4HfAT8QQrwlhHhPCDEPzERJqXr1bupzWGp7Xl1VKFL8Ffhs6nv/qLpfEkLc0/+EQv2YEOJkIcR/U3XyH0KI6tT2SiHE31PLAA8KIZqFEBWpfV9M1eP3hRC/FkJou/yJh5b7ga9LKQ8CrgJ+mdo+AZgghPi3EOJNIcQ2NRxK2h+BpGZ5JwJp1fNMoEmaKcCzjzsRMyXyIVLKsBCiLLXrfuBSKeUqIcQhmBXwmN1TesVezg3Au5iasueBl6WUFwohSoC3hBD/wMzh8RkpZTSlfv0jZgRWKFBXFSOex4BrU0se04CHgCO2cU6hfuxfwKFSSimEuBj4NvAt4DrM+vqj1OB6EYAQ4gDgbMwlgoQQ4pfAF4BHhvwpdwEpreFhwBNmFHAAXKm/dswUBkdh5oh5TQgxVUrZVeh6SqgYWXiEEO+nvr+OGUP+MOCtAp30scBvpZRhACllxzYqoEIxIFLKkBDicSAInAWcnLXG7QbqgE+Ae4QQMwAdc7aUplBdVYxgpJQfCjMV+OcwtRYDso1+bDTwuDDzBjmBdH07HDN/EFLKF4QQnantc4CDgLdT1/Kw7eR2wwkb0CWlnGGxbyPwXyllAlgnhFiJKWS8XehiSqgYWUT6V5xUIwjtwDUGqoAKxfZgpD4COENKuSJ7pxDiemALMB2zvkWzdu9IXVWMLJ4FbsecVZdv49iB+rFfAD+XUj4rhDgKuH4b1xLAw1LK7+1AWYcNUsoeIcQ6IcSZUsonhDkoTJNSfgA8jSmo/Ta11DMBWDvQ9ZRNhWIg/g5ckPYSEUKUSSl7MCXWM1PbhBBi+p4spGKv5UXg66lODCHEgantxUCLNNPVnwvsbevTij3DQ8ANUsrF2zpwG/1YMX2GnudnnfZvTO0aQojjgNLU9oXAfCFEVWpfmRBizM4+zK5CCPFH4A1gohBioxDiIszlmouEEOkkkvNSh78ItAshlmFmab5aStk+0PWVpkJRkJSKbwawSAgRx1Qrfh+zAt4nhPgh4MBcz/xgjxVUsbdyE3An8KEQwoapZp6Lubb9lBDiPEy7H6WdUGwTKeVG4O4dOKVQP3Y95rJIJ/AyMC51/A3AH4UQ52IOypuBXillW+oaL6XqcQLTq6l5559q6JFSfq7ArjwjzJTX1jdTn+1CZSlVKBQKhWIbCCFcgC6lTAohPgXcp5aB81GaCoVCoVAotk0d8KeUNiKOGcNB0Q+lqVAoFAqFQjEkKENNhUKhUCgUQ4ISKhQKhUKhUAwJSqhQKBQKhUIxJCihQqFQKBQKxZCghAqFQqFQKBRDghIqFAqFQqFQDAn/D3n+IpzpXw0oAAAAAElFTkSuQmCC",
       "datasetInfos": [],
       "metadata": {
        "imageDimensions": {
         "height": 533,
         "width": 533
        }
       },
       "removedWidgets": [],
       "type": "image"
      },
      "image/png": {
       "height": 533,
       "width": 533
      }
     },
     "output_type": "display_data"
    },
    {
     "data": {
      "text/html": [
       "<style scoped>\n",
       "  .ansiout {\n",
       "    display: block;\n",
       "    unicode-bidi: embed;\n",
       "    white-space: pre-wrap;\n",
       "    word-wrap: break-word;\n",
       "    word-break: break-all;\n",
       "    font-family: \"Source Code Pro\", \"Menlo\", monospace;;\n",
       "    font-size: 13px;\n",
       "    color: #555;\n",
       "    margin-left: 4px;\n",
       "    line-height: 19px;\n",
       "  }\n",
       "</style>\n",
       "<div class=\"ansiout\">&lt;seaborn.axisgrid.PairGrid at 0x7f80c214c820&gt;</div>"
      ]
     },
     "metadata": {
      "application/vnd.databricks.v1+output": {
       "addedWidgets": {},
       "arguments": {},
       "data": "<div class=\"ansiout\">&lt;seaborn.axisgrid.PairGrid at 0x7f80c214c820&gt;</div>",
       "datasetInfos": [],
       "metadata": {},
       "removedWidgets": [],
       "type": "html"
      }
     },
     "output_type": "display_data"
    }
   ],
   "source": [
    "sns.pairplot(dataTraining[numeric_features])"
   ]
  },
  {
   "cell_type": "code",
   "execution_count": 15,
   "metadata": {
    "application/vnd.databricks.v1+cell": {
     "inputWidgets": {},
     "nuid": "eb9a5c16-f403-4955-bb84-b60048f32027",
     "showTitle": false,
     "title": ""
    },
    "colab": {
     "base_uri": "https://localhost:8080/",
     "height": 206
    },
    "executionInfo": {
     "elapsed": 8,
     "status": "ok",
     "timestamp": 1651010714334,
     "user": {
      "displayName": "Freddy Mendoza",
      "userId": "10598764195432276332"
     },
     "user_tz": 300
    },
    "id": "DEYCJaVP6CSY",
    "outputId": "bf15c097-a0a9-41ee-ca77-17abab9320b8"
   },
   "outputs": [
    {
     "data": {
      "text/html": [
       "<div>\n",
       "<style scoped>\n",
       "    .dataframe tbody tr th:only-of-type {\n",
       "        vertical-align: middle;\n",
       "    }\n",
       "\n",
       "    .dataframe tbody tr th {\n",
       "        vertical-align: top;\n",
       "    }\n",
       "\n",
       "    .dataframe thead th {\n",
       "        text-align: right;\n",
       "    }\n",
       "</style>\n",
       "<table border=\"1\" class=\"dataframe\">\n",
       "  <thead>\n",
       "    <tr style=\"text-align: right;\">\n",
       "      <th></th>\n",
       "      <th>Price</th>\n",
       "      <th>Year</th>\n",
       "      <th>Mileage</th>\n",
       "      <th>State</th>\n",
       "      <th>Make</th>\n",
       "      <th>Model</th>\n",
       "    </tr>\n",
       "  </thead>\n",
       "  <tbody>\n",
       "    <tr>\n",
       "      <th>0</th>\n",
       "      <td>34995</td>\n",
       "      <td>2017</td>\n",
       "      <td>9913</td>\n",
       "      <td>FL</td>\n",
       "      <td>Jeep</td>\n",
       "      <td>Wrangler</td>\n",
       "    </tr>\n",
       "    <tr>\n",
       "      <th>1</th>\n",
       "      <td>37895</td>\n",
       "      <td>2015</td>\n",
       "      <td>20578</td>\n",
       "      <td>OH</td>\n",
       "      <td>Chevrolet</td>\n",
       "      <td>Tahoe4WD</td>\n",
       "    </tr>\n",
       "    <tr>\n",
       "      <th>2</th>\n",
       "      <td>18430</td>\n",
       "      <td>2012</td>\n",
       "      <td>83716</td>\n",
       "      <td>TX</td>\n",
       "      <td>BMW</td>\n",
       "      <td>X5AWD</td>\n",
       "    </tr>\n",
       "    <tr>\n",
       "      <th>3</th>\n",
       "      <td>24681</td>\n",
       "      <td>2014</td>\n",
       "      <td>28729</td>\n",
       "      <td>OH</td>\n",
       "      <td>Cadillac</td>\n",
       "      <td>SRXLuxury</td>\n",
       "    </tr>\n",
       "    <tr>\n",
       "      <th>4</th>\n",
       "      <td>26998</td>\n",
       "      <td>2013</td>\n",
       "      <td>64032</td>\n",
       "      <td>CO</td>\n",
       "      <td>Jeep</td>\n",
       "      <td>Wrangler</td>\n",
       "    </tr>\n",
       "  </tbody>\n",
       "</table>\n",
       "</div>"
      ],
      "text/plain": [
       "   Price  Year  Mileage State       Make      Model\n",
       "0  34995  2017     9913    FL       Jeep   Wrangler\n",
       "1  37895  2015    20578    OH  Chevrolet   Tahoe4WD\n",
       "2  18430  2012    83716    TX        BMW      X5AWD\n",
       "3  24681  2014    28729    OH   Cadillac  SRXLuxury\n",
       "4  26998  2013    64032    CO       Jeep   Wrangler"
      ]
     },
     "execution_count": 15,
     "metadata": {},
     "output_type": "execute_result"
    }
   ],
   "source": [
    "dataTraining.head()"
   ]
  },
  {
   "cell_type": "code",
   "execution_count": 0,
   "metadata": {
    "application/vnd.databricks.v1+cell": {
     "inputWidgets": {},
     "nuid": "0d723c8a-642b-4327-8b21-c699e5013e1b",
     "showTitle": false,
     "title": ""
    },
    "colab": {
     "base_uri": "https://localhost:8080/",
     "height": 351
    },
    "executionInfo": {
     "elapsed": 10294,
     "status": "ok",
     "timestamp": 1651010763164,
     "user": {
      "displayName": "Freddy Mendoza",
      "userId": "10598764195432276332"
     },
     "user_tz": 300
    },
    "id": "K0m3Xs7155Fn",
    "outputId": "56039e49-0c67-42c3-e927-b54d0ab9f3c7"
   },
   "outputs": [
    {
     "data": {
      "text/html": [
       "<style scoped>\n",
       "  .ansiout {\n",
       "    display: block;\n",
       "    unicode-bidi: embed;\n",
       "    white-space: pre-wrap;\n",
       "    word-wrap: break-word;\n",
       "    word-break: break-all;\n",
       "    font-family: \"Source Code Pro\", \"Menlo\", monospace;;\n",
       "    font-size: 13px;\n",
       "    color: #555;\n",
       "    margin-left: 4px;\n",
       "    line-height: 19px;\n",
       "  }\n",
       "</style>\n",
       "<div class=\"ansiout\">Out[13]: </div>"
      ]
     },
     "metadata": {
      "application/vnd.databricks.v1+output": {
       "addedWidgets": {},
       "arguments": {},
       "data": "<div class=\"ansiout\">Out[13]: </div>",
       "datasetInfos": [],
       "metadata": {},
       "removedWidgets": [],
       "type": "html"
      }
     },
     "output_type": "display_data"
    },
    {
     "data": {
      "image/png": "[encoded data removed]"
     },
     "metadata": {
      "application/vnd.databricks.v1+output": {
       "addedWidgets": {},
       "arguments": {},
       "data": "data:image/png;base64,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",
       "datasetInfos": [],
       "metadata": {
        "imageDimensions": {
         "height": 317,
         "width": 661
        }
       },
       "removedWidgets": [],
       "type": "image"
      },
      "image/png": {
       "height": 317,
       "width": 661
      }
     },
     "output_type": "display_data"
    },
    {
     "data": {
      "text/html": [
       "<style scoped>\n",
       "  .ansiout {\n",
       "    display: block;\n",
       "    unicode-bidi: embed;\n",
       "    white-space: pre-wrap;\n",
       "    word-wrap: break-word;\n",
       "    word-break: break-all;\n",
       "    font-family: \"Source Code Pro\", \"Menlo\", monospace;;\n",
       "    font-size: 13px;\n",
       "    color: #555;\n",
       "    margin-left: 4px;\n",
       "    line-height: 19px;\n",
       "  }\n",
       "</style>\n",
       "<div class=\"ansiout\">&lt;AxesSubplot:xlabel=&#39;Model&#39;, ylabel=&#39;count&#39;&gt;</div>"
      ]
     },
     "metadata": {
      "application/vnd.databricks.v1+output": {
       "addedWidgets": {},
       "arguments": {},
       "data": "<div class=\"ansiout\">&lt;AxesSubplot:xlabel=&#39;Model&#39;, ylabel=&#39;count&#39;&gt;</div>",
       "datasetInfos": [],
       "metadata": {},
       "removedWidgets": [],
       "type": "html"
      }
     },
     "output_type": "display_data"
    }
   ],
   "source": [
    "fig, axes=plt.subplots(1,3, figsize=(10, 5))\n",
    "sns.countplot(x = 'State', data = dataTraining, ax=axes[0])\n",
    "sns.countplot(x = 'Make', data = dataTraining, ax=axes[1])\n",
    "sns.countplot(x = 'Model', data = dataTraining, ax=axes[2])"
   ]
  },
  {
   "cell_type": "markdown",
   "metadata": {
    "application/vnd.databricks.v1+cell": {
     "inputWidgets": {},
     "nuid": "97a8bc64-54d8-4699-ab4f-ff920a8f2c66",
     "showTitle": false,
     "title": ""
    },
    "id": "3U4YV7mNUYHY"
   },
   "source": [
    "## Preprocesamiento de datos"
   ]
  },
  {
   "cell_type": "code",
   "execution_count": 5,
   "metadata": {
    "application/vnd.databricks.v1+cell": {
     "inputWidgets": {},
     "nuid": "1848cfa4-5e90-4a5e-b768-69a5337d216f",
     "showTitle": false,
     "title": ""
    },
    "executionInfo": {
     "elapsed": 292,
     "status": "ok",
     "timestamp": 1651011036240,
     "user": {
      "displayName": "Freddy Mendoza",
      "userId": "10598764195432276332"
     },
     "user_tz": 300
    },
    "id": "nWr3yhc67J4n"
   },
   "outputs": [],
   "source": [
    "XTotal = dataTraining.drop(columns = ['Price'])\n",
    "yTotal = dataTraining['Price']"
   ]
  },
  {
   "cell_type": "code",
   "execution_count": 6,
   "metadata": {
    "application/vnd.databricks.v1+cell": {
     "inputWidgets": {},
     "nuid": "de91a879-4920-4e7b-b71c-8be0f984e356",
     "showTitle": false,
     "title": ""
    },
    "executionInfo": {
     "elapsed": 301,
     "status": "ok",
     "timestamp": 1651011076619,
     "user": {
      "displayName": "Freddy Mendoza",
      "userId": "10598764195432276332"
     },
     "user_tz": 300
    },
    "id": "vX9JFrJi635F"
   },
   "outputs": [],
   "source": [
    "XTrain, XTest, yTrain, yTest = train_test_split(XTotal, yTotal, test_size=0.33, random_state=0)"
   ]
  },
  {
   "cell_type": "code",
   "execution_count": 7,
   "metadata": {
    "application/vnd.databricks.v1+cell": {
     "inputWidgets": {},
     "nuid": "34d3a707-a1d0-4a00-89f5-382a06d94f59",
     "showTitle": false,
     "title": ""
    },
    "executionInfo": {
     "elapsed": 292,
     "status": "ok",
     "timestamp": 1651011198857,
     "user": {
      "displayName": "Freddy Mendoza",
      "userId": "10598764195432276332"
     },
     "user_tz": 300
    },
    "id": "m0zmaVjp7NRz"
   },
   "outputs": [],
   "source": [
    "# funciones util\n",
    "from sklearn.base import BaseEstimator, TransformerMixin\n",
    "from sklearn.utils import check_array\n",
    "from sklearn.preprocessing import LabelEncoder\n",
    "from scipy import sparse\n",
    "from sklearn.base import BaseEstimator, TransformerMixin\n",
    "from sklearn.pipeline import Pipeline\n",
    "from sklearn.preprocessing import StandardScaler\n",
    "from sklearn.pipeline import FeatureUnion\n",
    "\n",
    "class CategoricalEncoder(BaseEstimator, TransformerMixin):\n",
    "    \"\"\"Encode categorical features as a numeric array.\n",
    "    The input to this transformer should be a matrix of integers or strings,\n",
    "    denoting the values taken on by categorical (discrete) features.\n",
    "    The features can be encoded using a one-hot aka one-of-K scheme\n",
    "    (``encoding='onehot'``, the default) or converted to ordinal integers\n",
    "    (``encoding='ordinal'``).\n",
    "    This encoding is needed for feeding categorical data to many scikit-learn\n",
    "    estimators, notably linear models and SVMs with the standard kernels.\n",
    "    Read more in the :ref:`User Guide <preprocessing_categorical_features>`.\n",
    "    Parameters\n",
    "    ----------\n",
    "    encoding : str, 'onehot', 'onehot-dense' or 'ordinal'\n",
    "        The type of encoding to use (default is 'onehot'):\n",
    "        - 'onehot': encode the features using a one-hot aka one-of-K scheme\n",
    "          (or also called 'dummy' encoding). This creates a binary column for\n",
    "          each category and returns a sparse matrix.\n",
    "        - 'onehot-dense': the same as 'onehot' but returns a dense array\n",
    "          instead of a sparse matrix.\n",
    "        - 'ordinal': encode the features as ordinal integers. This results in\n",
    "          a single column of integers (0 to n_categories - 1) per feature.\n",
    "    categories : 'auto' or a list of lists/arrays of values.\n",
    "        Categories (unique values) per feature:\n",
    "        - 'auto' : Determine categories automatically from the training data.\n",
    "        - list : ``categories[i]`` holds the categories expected in the ith\n",
    "          column. The passed categories are sorted before encoding the data\n",
    "          (used categories can be found in the ``categories_`` attribute).\n",
    "    dtype : number type, default np.float64\n",
    "        Desired dtype of output.\n",
    "    handle_unknown : 'error' (default) or 'ignore'\n",
    "        Whether to raise an error or ignore if a unknown categorical feature is\n",
    "        present during transform (default is to raise). When this is parameter\n",
    "        is set to 'ignore' and an unknown category is encountered during\n",
    "        transform, the resulting one-hot encoded columns for this feature\n",
    "        will be all zeros.\n",
    "        Ignoring unknown categories is not supported for\n",
    "        ``encoding='ordinal'``.\n",
    "    Attributes\n",
    "    ----------\n",
    "    categories_ : list of arrays\n",
    "        The categories of each feature determined during fitting. When\n",
    "        categories were specified manually, this holds the sorted categories\n",
    "        (in order corresponding with output of `transform`).\n",
    "    Examples\n",
    "    --------\n",
    "    Given a dataset with three features and two samples, we let the encoder\n",
    "    find the maximum value per feature and transform the data to a binary\n",
    "    one-hot encoding.\n",
    "    >>> from sklearn.preprocessing import CategoricalEncoder\n",
    "    >>> enc = CategoricalEncoder(handle_unknown='ignore')\n",
    "    >>> enc.fit([[0, 0, 3], [1, 1, 0], [0, 2, 1], [1, 0, 2]])\n",
    "    ... # doctest: +ELLIPSIS\n",
    "    CategoricalEncoder(categories='auto', dtype=<... 'numpy.float64'>,\n",
    "              encoding='onehot', handle_unknown='ignore')\n",
    "    >>> enc.transform([[0, 1, 1], [1, 0, 4]]).toarray()\n",
    "    array([[ 1.,  0.,  0.,  1.,  0.,  0.,  1.,  0.,  0.],\n",
    "           [ 0.,  1.,  1.,  0.,  0.,  0.,  0.,  0.,  0.]])\n",
    "    See also\n",
    "    --------\n",
    "    sklearn.preprocessing.OneHotEncoder : performs a one-hot encoding of\n",
    "      integer ordinal features. The ``OneHotEncoder assumes`` that input\n",
    "      features take on values in the range ``[0, max(feature)]`` instead of\n",
    "      using the unique values.\n",
    "    sklearn.feature_extraction.DictVectorizer : performs a one-hot encoding of\n",
    "      dictionary items (also handles string-valued features).\n",
    "    sklearn.feature_extraction.FeatureHasher : performs an approximate one-hot\n",
    "      encoding of dictionary items or strings.\n",
    "    \"\"\"\n",
    "\n",
    "    def __init__(self, encoding='onehot', categories='auto', dtype=np.float64,\n",
    "                 handle_unknown='error'):\n",
    "        self.encoding = encoding\n",
    "        self.categories = categories\n",
    "        self.dtype = dtype\n",
    "        self.handle_unknown = handle_unknown\n",
    "\n",
    "    def fit(self, X, y=None):\n",
    "        \"\"\"Fit the CategoricalEncoder to X.\n",
    "        Parameters\n",
    "        ----------\n",
    "        X : array-like, shape [n_samples, n_feature]\n",
    "            The data to determine the categories of each feature.\n",
    "        Returns\n",
    "        -------\n",
    "        self\n",
    "        \"\"\"\n",
    "\n",
    "        if self.encoding not in ['onehot', 'onehot-dense', 'ordinal']:\n",
    "            template = (\"encoding should be either 'onehot', 'onehot-dense' \"\n",
    "                        \"or 'ordinal', got %s\")\n",
    "            raise ValueError(template % self.handle_unknown)\n",
    "\n",
    "        if self.handle_unknown not in ['error', 'ignore']:\n",
    "            template = (\"handle_unknown should be either 'error' or \"\n",
    "                        \"'ignore', got %s\")\n",
    "            raise ValueError(template % self.handle_unknown)\n",
    "\n",
    "        if self.encoding == 'ordinal' and self.handle_unknown == 'ignore':\n",
    "            raise ValueError(\"handle_unknown='ignore' is not supported for\"\n",
    "                             \" encoding='ordinal'\")\n",
    "\n",
    "        X = check_array(X, dtype=object, accept_sparse='csc', copy=True)\n",
    "        n_samples, n_features = X.shape\n",
    "\n",
    "        self._label_encoders_ = [LabelEncoder() for _ in range(n_features)]\n",
    "\n",
    "        for i in range(n_features):\n",
    "            le = self._label_encoders_[i]\n",
    "            Xi = X[:, i]\n",
    "            if self.categories == 'auto':\n",
    "                le.fit(Xi)\n",
    "            else:\n",
    "                valid_mask = np.in1d(Xi, self.categories[i])\n",
    "                if not np.all(valid_mask):\n",
    "                    if self.handle_unknown == 'error':\n",
    "                        diff = np.unique(Xi[~valid_mask])\n",
    "                        msg = (\"Found unknown categories {0} in column {1}\"\n",
    "                               \" during fit\".format(diff, i))\n",
    "                        raise ValueError(msg)\n",
    "                le.classes_ = np.array(np.sort(self.categories[i]))\n",
    "\n",
    "        self.categories_ = [le.classes_ for le in self._label_encoders_]\n",
    "\n",
    "        return self\n",
    "\n",
    "    def transform(self, X):\n",
    "        \"\"\"Transform X using one-hot encoding.\n",
    "        Parameters\n",
    "        ----------\n",
    "        X : array-like, shape [n_samples, n_features]\n",
    "            The data to encode.\n",
    "        Returns\n",
    "        -------\n",
    "        X_out : sparse matrix or a 2-d array\n",
    "            Transformed input.\n",
    "        \"\"\"\n",
    "        X = check_array(X, accept_sparse='csc', dtype=object, copy=True)\n",
    "        n_samples, n_features = X.shape\n",
    "        X_int = np.zeros_like(X, dtype=int)\n",
    "        X_mask = np.ones_like(X, dtype=bool)\n",
    "\n",
    "        for i in range(n_features):\n",
    "            valid_mask = np.in1d(X[:, i], self.categories_[i])\n",
    "\n",
    "            if not np.all(valid_mask):\n",
    "                if self.handle_unknown == 'error':\n",
    "                    diff = np.unique(X[~valid_mask, i])\n",
    "                    msg = (\"Found unknown categories {0} in column {1}\"\n",
    "                           \" during transform\".format(diff, i))\n",
    "                    raise ValueError(msg)\n",
    "                else:\n",
    "                    # Set the problematic rows to an acceptable value and\n",
    "                    # continue `The rows are marked `X_mask` and will be\n",
    "                    # removed later.\n",
    "                    X_mask[:, i] = valid_mask\n",
    "                    X[:, i][~valid_mask] = self.categories_[i][0]\n",
    "            X_int[:, i] = self._label_encoders_[i].transform(X[:, i])\n",
    "\n",
    "        if self.encoding == 'ordinal':\n",
    "            return X_int.astype(self.dtype, copy=False)\n",
    "\n",
    "        mask = X_mask.ravel()\n",
    "        n_values = [cats.shape[0] for cats in self.categories_]\n",
    "        n_values = np.array([0] + n_values)\n",
    "        indices = np.cumsum(n_values)\n",
    "\n",
    "        column_indices = (X_int + indices[:-1]).ravel()[mask]\n",
    "        row_indices = np.repeat(np.arange(n_samples, dtype=np.int32),\n",
    "                                n_features)[mask]\n",
    "        data = np.ones(n_samples * n_features)[mask]\n",
    "\n",
    "        out = sparse.csc_matrix((data, (row_indices, column_indices)),\n",
    "                                shape=(n_samples, indices[-1]),\n",
    "                                dtype=self.dtype).tocsr()\n",
    "        if self.encoding == 'onehot-dense':\n",
    "            return out.toarray()\n",
    "        else:\n",
    "            return out\n",
    "\n",
    "# A class to select numerical or categorical columns\n",
    "# since Scikit-Learn doesn't handle DataFrames yet\n",
    "class DataFrameSelector(BaseEstimator, TransformerMixin):\n",
    "    def __init__(self, attribute_names):\n",
    "        self.attribute_names = attribute_names\n",
    "    def fit(self, X, y=None):\n",
    "        return self\n",
    "    def transform(self, X):\n",
    "        return X[self.attribute_names]"
   ]
  },
  {
   "cell_type": "code",
   "execution_count": 8,
   "metadata": {
    "application/vnd.databricks.v1+cell": {
     "inputWidgets": {},
     "nuid": "46b16072-346b-4ccc-b412-69db5bb22331",
     "showTitle": false,
     "title": ""
    },
    "executionInfo": {
     "elapsed": 5439,
     "status": "ok",
     "timestamp": 1651011492985,
     "user": {
      "displayName": "Freddy Mendoza",
      "userId": "10598764195432276332"
     },
     "user_tz": 300
    },
    "id": "sV1GmmUy6gKH"
   },
   "outputs": [],
   "source": [
    "\n",
    "categorical_features = ['State', 'Make', 'Model']\n",
    "numeric_features = ['Year', 'Mileage']\n",
    "\n",
    "numerical_pipeline = Pipeline([\n",
    "    (\"select_numeric\", DataFrameSelector(numeric_features)),\n",
    "])\n",
    "\n",
    "categorical_pipeline= Pipeline([\n",
    "    (\"select_cat\", DataFrameSelector(categorical_features)),\n",
    "    (\"cat_encoder\", CategoricalEncoder(encoding='ordinal'))\n",
    "])\n",
    "\n",
    "preprocess_pipeline = FeatureUnion(transformer_list=[\n",
    "    (\"numerical_pipeline\", numerical_pipeline),             \n",
    "    (\"categorical_pipeline\", categorical_pipeline),\n",
    "])\n",
    "\n",
    "XTrain_p = preprocess_pipeline.fit_transform(XTrain)\n",
    "\n",
    "XTest_p = preprocess_pipeline.transform(XTest)\n",
    "\n",
    "XTrain_enc = pd.DataFrame(XTrain_p, columns=XTrain.columns)\n",
    "XTest_enc = pd.DataFrame(XTest_p, columns=XTest.columns)"
   ]
  },
  {
   "cell_type": "code",
   "execution_count": 0,
   "metadata": {
    "application/vnd.databricks.v1+cell": {
     "inputWidgets": {},
     "nuid": "e1b8d365-b663-4c2a-9e41-252dd409db16",
     "showTitle": false,
     "title": ""
    }
   },
   "outputs": [
    {
     "data": {
      "text/html": [
       "<style scoped>\n",
       "  .ansiout {\n",
       "    display: block;\n",
       "    unicode-bidi: embed;\n",
       "    white-space: pre-wrap;\n",
       "    word-wrap: break-word;\n",
       "    word-break: break-all;\n",
       "    font-family: \"Source Code Pro\", \"Menlo\", monospace;;\n",
       "    font-size: 13px;\n",
       "    color: #555;\n",
       "    margin-left: 4px;\n",
       "    line-height: 19px;\n",
       "  }\n",
       "</style>\n",
       "<div class=\"ansiout\">Out[18]: </div>"
      ]
     },
     "metadata": {
      "application/vnd.databricks.v1+output": {
       "addedWidgets": {},
       "arguments": {},
       "data": "<div class=\"ansiout\">Out[18]: </div>",
       "datasetInfos": [],
       "metadata": {},
       "removedWidgets": [],
       "type": "html"
      }
     },
     "output_type": "display_data"
    },
    {
     "data": {
      "image/png": "[encoded data removed]"
     },
     "metadata": {
      "application/vnd.databricks.v1+output": {
       "addedWidgets": {},
       "arguments": {},
       "data": "data:image/png;base64,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",
       "datasetInfos": [],
       "metadata": {
        "imageDimensions": {
         "height": 307,
         "width": 550
        }
       },
       "removedWidgets": [],
       "type": "image"
      },
      "image/png": {
       "height": 307,
       "width": 550
      }
     },
     "output_type": "display_data"
    },
    {
     "data": {
      "text/html": [
       "<style scoped>\n",
       "  .ansiout {\n",
       "    display: block;\n",
       "    unicode-bidi: embed;\n",
       "    white-space: pre-wrap;\n",
       "    word-wrap: break-word;\n",
       "    word-break: break-all;\n",
       "    font-family: \"Source Code Pro\", \"Menlo\", monospace;;\n",
       "    font-size: 13px;\n",
       "    color: #555;\n",
       "    margin-left: 4px;\n",
       "    line-height: 19px;\n",
       "  }\n",
       "</style>\n",
       "<div class=\"ansiout\">&lt;AxesSubplot:&gt;</div>"
      ]
     },
     "metadata": {
      "application/vnd.databricks.v1+output": {
       "addedWidgets": {},
       "arguments": {},
       "data": "<div class=\"ansiout\">&lt;AxesSubplot:&gt;</div>",
       "datasetInfos": [],
       "metadata": {},
       "removedWidgets": [],
       "type": "html"
      }
     },
     "output_type": "display_data"
    }
   ],
   "source": [
    "train_all_df = pd.concat([XTrain_enc, pd.DataFrame(yTrain).reset_index(drop=True)], axis=1)\n",
    "\n",
    "correlation_matrix = train_all_df.corr(method='spearman').round(2)\n",
    "fig,axes = plt.subplots(1,1,figsize=(10,5))\n",
    "sns.heatmap(data=correlation_matrix, cmap=sns.diverging_palette(220, 10, as_cmap=True), annot=True,ax=axes)"
   ]
  },
  {
   "cell_type": "code",
   "execution_count": 0,
   "metadata": {
    "application/vnd.databricks.v1+cell": {
     "inputWidgets": {},
     "nuid": "aa908631-8103-47e5-bf8d-06c4658501eb",
     "showTitle": false,
     "title": ""
    }
   },
   "outputs": [
    {
     "data": {
      "image/png": "[encoded data removed]"
     },
     "metadata": {
      "application/vnd.databricks.v1+output": {
       "addedWidgets": {},
       "arguments": {},
       "data": "data:image/png;base64,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",
       "datasetInfos": [],
       "metadata": {
        "imageDimensions": {
         "height": 239,
         "width": 1011
        }
       },
       "removedWidgets": [],
       "type": "image"
      },
      "image/png": {
       "height": 239,
       "width": 1011
      }
     },
     "output_type": "display_data"
    }
   ],
   "source": [
    "mu_inf = mutual_info_regression(XTrain_enc, yTrain, discrete_features=False)\n",
    "\n",
    "fig, ax = plt.subplots(1,1, figsize=(20,3))\n",
    "ax.set_title('Información mutua')\n",
    "sns.heatmap([mu_inf],ax=ax,cmap=sns.diverging_palette(220,10,as_cmap=True), annot=True,fmt=\".3f\")\n",
    "ax.set_xticklabels(XTrain.columns.to_list())\n",
    "ax.tick_params(axis='x', rotation=90)"
   ]
  },
  {
   "cell_type": "markdown",
   "metadata": {
    "application/vnd.databricks.v1+cell": {
     "inputWidgets": {},
     "nuid": "ed1270d4-0dc2-4f0f-b259-dabef725044d",
     "showTitle": false,
     "title": ""
    },
    "id": "BWurak7I6gtK"
   },
   "source": [
    "## Calibración del modelo"
   ]
  },
  {
   "cell_type": "code",
   "execution_count": 20,
   "metadata": {
    "application/vnd.databricks.v1+cell": {
     "inputWidgets": {},
     "nuid": "4992d86c-1b92-4479-b742-9041350f2167",
     "showTitle": false,
     "title": ""
    },
    "colab": {
     "base_uri": "https://localhost:8080/"
    },
    "executionInfo": {
     "elapsed": 299,
     "status": "ok",
     "timestamp": 1651012159295,
     "user": {
      "displayName": "Freddy Mendoza",
      "userId": "10598764195432276332"
     },
     "user_tz": 300
    },
    "id": "7EQAk5vl_ert",
    "outputId": "0d9531c0-406a-4625-af57-9d8fd47ad475"
   },
   "outputs": [],
   "source": [
    "XTrain_sample, _, yTrain_sample, _ = train_test_split(XTrain_enc, yTrain, train_size=0.90, random_state=0)"
   ]
  },
  {
   "cell_type": "code",
   "execution_count": 21,
   "metadata": {
    "application/vnd.databricks.v1+cell": {
     "inputWidgets": {},
     "nuid": "c505432b-51bc-4ed1-87a8-7152ab4d4bd5",
     "showTitle": false,
     "title": ""
    }
   },
   "outputs": [
    {
     "data": {
      "text/plain": [
       "(241200, 5)"
      ]
     },
     "execution_count": 21,
     "metadata": {},
     "output_type": "execute_result"
    }
   ],
   "source": [
    "XTrain_sample.shape"
   ]
  },
  {
   "cell_type": "code",
   "execution_count": 0,
   "metadata": {
    "application/vnd.databricks.v1+cell": {
     "inputWidgets": {},
     "nuid": "c960fd44-45e6-4680-a969-0fb3d59bd6df",
     "showTitle": false,
     "title": ""
    },
    "colab": {
     "base_uri": "https://localhost:8080/",
     "height": 852
    },
    "executionInfo": {
     "elapsed": 918,
     "status": "error",
     "timestamp": 1651012173972,
     "user": {
      "displayName": "Freddy Mendoza",
      "userId": "10598764195432276332"
     },
     "user_tz": 300
    },
    "id": "TeOMn7ya9er3",
    "outputId": "adca6fc4-6db8-49a2-bab9-a7f2b3a6bcc3"
   },
   "outputs": [
    {
     "data": {
      "text/html": [
       "<style scoped>\n",
       "  .ansiout {\n",
       "    display: block;\n",
       "    unicode-bidi: embed;\n",
       "    white-space: pre-wrap;\n",
       "    word-wrap: break-word;\n",
       "    word-break: break-all;\n",
       "    font-family: \"Source Code Pro\", \"Menlo\", monospace;;\n",
       "    font-size: 13px;\n",
       "    color: #555;\n",
       "    margin-left: 4px;\n",
       "    line-height: 19px;\n",
       "  }\n",
       "</style>"
      ]
     },
     "metadata": {
      "application/vnd.databricks.v1+output": {
       "arguments": {},
       "data": "",
       "errorSummary": "Cancelled",
       "errorTraceType": "html",
       "metadata": {},
       "type": "ipynbError"
      }
     },
     "output_type": "display_data"
    }
   ],
   "source": [
    "#RANDOM FOREST\n",
    "\n",
    "# calibracion con RandomizedSearchCV\n",
    "param = {'max_depth': np.arange(1, 100),\n",
    "        'n_estimators': np.arange(10, 300),\n",
    "        'max_features': [1, 2, 3, 4], \n",
    "        'min_samples_leaf': [1, 2, 4, 6, 8, 12], \n",
    "        'min_samples_split': [2, 5, 7, 10, 14]}\n",
    "\n",
    "\n",
    "bc_gs = RandomizedSearchCV(RandomForestRegressor(), param, n_iter=100, cv=5, verbose=1, scoring='neg_root_mean_squared_error', n_jobs=10)\n",
    "bc_gs.fit(XTrain_sample, yTrain_sample)\n",
    "\n",
    "print(\"Calibracion de RandomForest\")\n",
    "print(f'Best estimator: {bc_gs.best_estimator_}')"
   ]
  },
  {
   "cell_type": "code",
   "execution_count": 0,
   "metadata": {
    "application/vnd.databricks.v1+cell": {
     "inputWidgets": {},
     "nuid": "f0ce3ea5-a0f3-47dc-8139-276f4628946e",
     "showTitle": false,
     "title": ""
    }
   },
   "outputs": [
    {
     "data": {
      "text/html": [
       "<style scoped>\n",
       "  .ansiout {\n",
       "    display: block;\n",
       "    unicode-bidi: embed;\n",
       "    white-space: pre-wrap;\n",
       "    word-wrap: break-word;\n",
       "    word-break: break-all;\n",
       "    font-family: \"Source Code Pro\", \"Menlo\", monospace;;\n",
       "    font-size: 13px;\n",
       "    color: #555;\n",
       "    margin-left: 4px;\n",
       "    line-height: 19px;\n",
       "  }\n",
       "</style>\n",
       "<div class=\"ansiout\">Optimization Progress:   0%|          | 0/144 [00:00&lt;?, ?pipeline/s]\n",
       "\n",
       "Generation 1 - Current best internal CV score: -19478191.153723404\n",
       "\n",
       "Generation 2 - Current best internal CV score: -19463928.967987478\n",
       "\n",
       "Generation 3 - Current best internal CV score: -19463928.967987478\n",
       "\n",
       "Generation 4 - Current best internal CV score: -19160635.58932329\n",
       "\n",
       "Generation 5 - Current best internal CV score: -19129981.2387769\n",
       "\n",
       "Best pipeline: RandomForestRegressor(input_matrix, max_depth=38, max_features=4, min_samples_leaf=1, min_samples_split=5, n_estimators=180)\n",
       "Out[17]: TPOTRegressor(config_dict={&#39;sklearn.ensemble.RandomForestRegressor&#39;: {&#39;max_depth&#39;: [2,\n",
       "                                                                                    7,\n",
       "                                                                                    12,\n",
       "                                                                                    17,\n",
       "                                                                                    22,\n",
       "                                                                                    27,\n",
       "                                                                                    32,\n",
       "                                                                                    38,\n",
       "                                                                                    43,\n",
       "                                                                                    48,\n",
       "                                                                                    53,\n",
       "                                                                                    58,\n",
       "                                                                                    63,\n",
       "                                                                                    69,\n",
       "                                                                                    74,\n",
       "                                                                                    79,\n",
       "                                                                                    84,\n",
       "                                                                                    89,\n",
       "                                                                                    94,\n",
       "                                                                                    100],\n",
       "                                                                      &#39;max_features&#39;: [1,\n",
       "                                                                                       2,\n",
       "                                                                                       3,\n",
       "                                                                                       4,\n",
       "                                                                                       5],\n",
       "                                                                      &#39;min_samples_leaf&#39;: [1,\n",
       "                                                                                           2,\n",
       "                                                                                           4,\n",
       "                                                                                           6,\n",
       "                                                                                           8],\n",
       "                                                                      &#39;min_samples_split&#39;: [2,\n",
       "                                                                                            5,\n",
       "                                                                                            10,\n",
       "                                                                                            14],\n",
       "                                                                      &#39;n_estimators&#39;: [30,\n",
       "                                                                                       60,\n",
       "                                                                                       90,\n",
       "                                                                                       120,\n",
       "                                                                                       150,\n",
       "                                                                                       180,\n",
       "                                                                                       210,\n",
       "                                                                                       240,\n",
       "                                                                                       270,\n",
       "                                                                                       300]}},\n",
       "              early_stop=12, generations=5, n_jobs=5, population_size=24,\n",
       "              scoring=&#39;neg_mean_squared_error&#39;, verbosity=2)</div>"
      ]
     },
     "metadata": {
      "application/vnd.databricks.v1+output": {
       "addedWidgets": {},
       "arguments": {},
       "data": "<div class=\"ansiout\">Optimization Progress:   0%|          | 0/144 [00:00&lt;?, ?pipeline/s]\n\nGeneration 1 - Current best internal CV score: -19478191.153723404\n\nGeneration 2 - Current best internal CV score: -19463928.967987478\n\nGeneration 3 - Current best internal CV score: -19463928.967987478\n\nGeneration 4 - Current best internal CV score: -19160635.58932329\n\nGeneration 5 - Current best internal CV score: -19129981.2387769\n\nBest pipeline: RandomForestRegressor(input_matrix, max_depth=38, max_features=4, min_samples_leaf=1, min_samples_split=5, n_estimators=180)\nOut[17]: TPOTRegressor(config_dict={&#39;sklearn.ensemble.RandomForestRegressor&#39;: {&#39;max_depth&#39;: [2,\n                                                                                    7,\n                                                                                    12,\n                                                                                    17,\n                                                                                    22,\n                                                                                    27,\n                                                                                    32,\n                                                                                    38,\n                                                                                    43,\n                                                                                    48,\n                                                                                    53,\n                                                                                    58,\n                                                                                    63,\n                                                                                    69,\n                                                                                    74,\n                                                                                    79,\n                                                                                    84,\n                                                                                    89,\n                                                                                    94,\n                                                                                    100],\n                                                                      &#39;max_features&#39;: [1,\n                                                                                       2,\n                                                                                       3,\n                                                                                       4,\n                                                                                       5],\n                                                                      &#39;min_samples_leaf&#39;: [1,\n                                                                                           2,\n                                                                                           4,\n                                                                                           6,\n                                                                                           8],\n                                                                      &#39;min_samples_split&#39;: [2,\n                                                                                            5,\n                                                                                            10,\n                                                                                            14],\n                                                                      &#39;n_estimators&#39;: [30,\n                                                                                       60,\n                                                                                       90,\n                                                                                       120,\n                                                                                       150,\n                                                                                       180,\n                                                                                       210,\n                                                                                       240,\n                                                                                       270,\n                                                                                       300]}},\n              early_stop=12, generations=5, n_jobs=5, population_size=24,\n              scoring=&#39;neg_mean_squared_error&#39;, verbosity=2)</div>",
       "datasetInfos": [],
       "metadata": {},
       "removedWidgets": [],
       "type": "html"
      }
     },
     "output_type": "display_data"
    }
   ],
   "source": [
    "# calibracion con TPOT (algoritmo genetico)\n",
    "n_estimators = [int(x) for x in np.linspace(start = 30, stop = 300, num = 10)]\n",
    "max_features = [1, 2, 3, 4, 5]\n",
    "max_depth = [int(x) for x in np.linspace(2, 100, 20)]\n",
    "min_samples_split = [2, 5, 10, 14]\n",
    "min_samples_leaf = [1, 2, 4, 6, 8]\n",
    "\n",
    "param = {'n_estimators': n_estimators,\n",
    "               'max_features': max_features,\n",
    "               'max_depth': max_depth,\n",
    "               'min_samples_split': min_samples_split,\n",
    "               'min_samples_leaf': min_samples_leaf}\n",
    "\n",
    "\n",
    "tpot = TPOTRegressor(generations=5, population_size=24, early_stop= 12, verbosity=2, \n",
    "                      config_dict={'sklearn.ensemble.RandomForestRegressor': param}, \n",
    "                      cv = 5, scoring = 'neg_root_mean_squared_error', n_jobs=5)\n",
    "tpot.fit(XTrain_sample, yTrain_sample)"
   ]
  },
  {
   "cell_type": "code",
   "execution_count": 0,
   "metadata": {
    "application/vnd.databricks.v1+cell": {
     "inputWidgets": {},
     "nuid": "09f85661-b3fe-4c76-956a-e353e025e10b",
     "showTitle": false,
     "title": ""
    }
   },
   "outputs": [
    {
     "data": {
      "text/html": [
       "<style scoped>\n",
       "  .ansiout {\n",
       "    display: block;\n",
       "    unicode-bidi: embed;\n",
       "    white-space: pre-wrap;\n",
       "    word-wrap: break-word;\n",
       "    word-break: break-all;\n",
       "    font-family: \"Source Code Pro\", \"Menlo\", monospace;;\n",
       "    font-size: 13px;\n",
       "    color: #555;\n",
       "    margin-left: 4px;\n",
       "    line-height: 19px;\n",
       "  }\n",
       "</style>"
      ]
     },
     "metadata": {
      "application/vnd.databricks.v1+output": {
       "arguments": {},
       "data": "",
       "errorSummary": "Cancelled",
       "errorTraceType": "html",
       "metadata": {},
       "type": "ipynbError"
      }
     },
     "output_type": "display_data"
    }
   ],
   "source": [
    "## XGBOOST\n",
    "params = {\n",
    "    'min_child_weight': [ 1, 3, 5, 7 ],\n",
    "    'gamma':  np.linspace(0, 30, 200),\n",
    "    'eta': np.linspace(0, 1, 25),\n",
    "    'subsample': [0.6, 0.8, 1.0],\n",
    "    'colsample_bytree': [ 0.3, 0.4, 0.5 , 0.7 ],\n",
    "    'max_depth': [ 3, 4, 5, 6, 8, 10, 12, 15],\n",
    "    'n_estimators': np.arange(10, 300)\n",
    "}\n",
    "xg_reg = xgb.XGBRegressor()\n",
    "\n",
    "random_search = RandomizedSearchCV(xg_reg, param_distributions=params, n_iter=100, scoring='neg_root_mean_squared_error', cv=5, verbose=2, n_jobs=5)\n",
    "\n",
    "random_search.fit(XTrain_sample, yTrain_sample)\n",
    "\n",
    "print(\"Calibracion de XGBoost regressor\")\n",
    "print(f'Best estimator: {random_search.best_estimator_}')\n",
    "print('\\n Best hyperparameters:')\n",
    "print(random_search.best_params_)\n"
   ]
  },
  {
   "cell_type": "code",
   "execution_count": 0,
   "metadata": {
    "application/vnd.databricks.v1+cell": {
     "inputWidgets": {},
     "nuid": "953bdd44-a54f-44cd-ada1-973bc5a544e3",
     "showTitle": false,
     "title": ""
    }
   },
   "outputs": [
    {
     "data": {
      "text/html": [
       "<style scoped>\n",
       "  .ansiout {\n",
       "    display: block;\n",
       "    unicode-bidi: embed;\n",
       "    white-space: pre-wrap;\n",
       "    word-wrap: break-word;\n",
       "    word-break: break-all;\n",
       "    font-family: \"Source Code Pro\", \"Menlo\", monospace;;\n",
       "    font-size: 13px;\n",
       "    color: #555;\n",
       "    margin-left: 4px;\n",
       "    line-height: 19px;\n",
       "  }\n",
       "</style>\n",
       "<div class=\"ansiout\">(53868, 5)\n",
       "(26532, 5)\n",
       "</div>"
      ]
     },
     "metadata": {
      "application/vnd.databricks.v1+output": {
       "addedWidgets": {},
       "arguments": {},
       "data": "<div class=\"ansiout\">(53868, 5)\n(26532, 5)\n</div>",
       "datasetInfos": [],
       "metadata": {},
       "removedWidgets": [],
       "type": "html"
      }
     },
     "output_type": "display_data"
    }
   ],
   "source": [
    "XTrain_sample2, XTest_sample2, yTrain_sample2, yTest_sample2 = train_test_split(XTrain_sample, yTrain_sample, test_size=0.33, random_state=0)\n",
    "\n",
    "print(XTrain_sample2.shape)\n",
    "print(XTest_sample2.shape)"
   ]
  },
  {
   "cell_type": "code",
   "execution_count": 23,
   "metadata": {
    "application/vnd.databricks.v1+cell": {
     "inputWidgets": {},
     "nuid": "91201cc5-0938-468f-b8d9-3e2ac2b5122c",
     "showTitle": false,
     "title": ""
    }
   },
   "outputs": [
    {
     "name": "stdout",
     "output_type": "stream",
     "text": [
      "100%|██████████| 25/25 [13:39<00:00, 32.80s/trial, best loss: 5128.098203998299]\n"
     ]
    },
    {
     "data": {
      "text/plain": [
       "{'max_depth': 59,\n",
       " 'max_features': 4,\n",
       " 'min_samples_leaf': 2,\n",
       " 'min_samples_split': 0.00570937116381259,\n",
       " 'n_estimators': 164}"
      ]
     },
     "execution_count": 23,
     "metadata": {},
     "output_type": "execute_result"
    }
   ],
   "source": [
    "## Hyperopt (Optimizacion Bayesiana)\n",
    "\n",
    "# RF\n",
    "\n",
    "def objective(search_space):\n",
    "    model = RandomForestRegressor(**search_space)\n",
    "    rmse = -cross_val_score(model, XTrain_enc, yTrain, cv=3, scoring='neg_root_mean_squared_error').mean()\n",
    "\n",
    "    return {'loss': rmse, 'status': STATUS_OK}\n",
    "\n",
    "\n",
    "# new search space\n",
    "search_space={'n_estimators':hp.randint('n_estimators', 50,300),\n",
    "              'max_depth': hp.randint('max_depth',4, 100),\n",
    "              'min_samples_split':hp.uniform('min_samples_split',0,1),\n",
    "              'min_samples_leaf':hp.randint('min_samples_leaf',1, 10),\n",
    "              'max_features':hp.choice('max_features',[1, 2, 3, 4, 5])\n",
    "             }\n",
    "\n",
    "spark_trials = Trials()\n",
    "# implement Hyperopt\n",
    "best_params = fmin(\n",
    "    fn=objective,\n",
    "    space=search_space,\n",
    "    algo=tpe.suggest,\n",
    "    max_evals=25,\n",
    "    trials=spark_trials)\n",
    "\n",
    "space_eval(search_space, best_params)"
   ]
  },
  {
   "cell_type": "markdown",
   "metadata": {
    "application/vnd.databricks.v1+cell": {
     "inputWidgets": {},
     "nuid": "5c3aa38b-4ed4-4fa9-b4d8-2a6e47387c22",
     "showTitle": false,
     "title": ""
    }
   },
   "source": [
    "100%|██████████| 200/200 [09:12<00:00,  2.76s/trial, best loss: 4587.053219506799]\n",
    "Out[27]: {'max_depth': 70,\n",
    " 'max_features': 3,\n",
    " 'min_samples_leaf': 1,\n",
    " 'min_samples_split': 4.194424016451537e-05,\n",
    " 'n_estimators': 862}"
   ]
  },
  {
   "cell_type": "code",
   "execution_count": 24,
   "metadata": {
    "application/vnd.databricks.v1+cell": {
     "inputWidgets": {},
     "nuid": "47eaf3d5-5c7c-4e36-86e1-d42c8700b44c",
     "showTitle": false,
     "title": ""
    }
   },
   "outputs": [
    {
     "name": "stdout",
     "output_type": "stream",
     "text": [
      "100%|██████████| 100/100 [2:23:53<00:00, 86.34s/trial, best loss: 3485.6058381757525]  \n"
     ]
    },
    {
     "data": {
      "text/plain": [
       "{'colsample_bytree': 0.6000000000000001,\n",
       " 'gamma': 3.467336683417085,\n",
       " 'learning_rate': 0.041666666666666664,\n",
       " 'max_depth': 13,\n",
       " 'min_child_weight': 4,\n",
       " 'n_estimators': 262,\n",
       " 'subsample': 0.773159917960503}"
      ]
     },
     "execution_count": 24,
     "metadata": {},
     "output_type": "execute_result"
    }
   ],
   "source": [
    "# XGB\n",
    "\n",
    "def objective(search_space):\n",
    "    model = xgb.XGBRegressor(**search_space)\n",
    "    rmse = -cross_val_score(model, XTrain_enc, yTrain, cv=3, scoring='neg_root_mean_squared_error').mean()\n",
    "    return {'loss': rmse, 'status': STATUS_OK}\n",
    "\n",
    "# XGB parameters\n",
    "xgb_reg_params = {\n",
    "    'learning_rate': hp.choice('learning_rate',    np.linspace(0, 1, 25)),\n",
    "    'gamma': hp.choice('gamma', np.linspace(0, 30, 200)),\n",
    "    'max_depth':        hp.choice('max_depth',        np.arange(3, 16, 1, dtype=int)),\n",
    "    'min_child_weight': hp.choice('min_child_weight', np.arange(1, 8, 1, dtype=int)),\n",
    "    'colsample_bytree': hp.choice('colsample_bytree', np.arange(0.3, 0.8, 0.1)),\n",
    "    'subsample':        hp.uniform('subsample', 0.6, 1),\n",
    "    'n_estimators':    hp.choice('n_estimators', np.arange(10, 300))\n",
    "}\n",
    "\n",
    "spark_trials = Trials()\n",
    "# implement Hyperopt\n",
    "best_params = fmin(\n",
    "    fn=objective,\n",
    "    space=xgb_reg_params,\n",
    "    algo=tpe.suggest,\n",
    "    max_evals=100, \n",
    "    trials=spark_trials)\n",
    "\n",
    "space_eval(xgb_reg_params, best_params)"
   ]
  },
  {
   "cell_type": "markdown",
   "metadata": {
    "application/vnd.databricks.v1+cell": {
     "inputWidgets": {},
     "nuid": "f1c44681-923b-4a32-af08-4cd84c336d69",
     "showTitle": false,
     "title": ""
    },
    "id": "4DjT4ecE6jnG"
   },
   "source": [
    "## Entrenamiento del modelo"
   ]
  },
  {
   "cell_type": "code",
   "execution_count": 0,
   "metadata": {
    "application/vnd.databricks.v1+cell": {
     "inputWidgets": {},
     "nuid": "ae5d0f5f-5c51-4ccf-bdae-0d89145afa4e",
     "showTitle": false,
     "title": ""
    }
   },
   "outputs": [
    {
     "data": {
      "text/html": [
       "<style scoped>\n",
       "  .ansiout {\n",
       "    display: block;\n",
       "    unicode-bidi: embed;\n",
       "    white-space: pre-wrap;\n",
       "    word-wrap: break-word;\n",
       "    word-break: break-all;\n",
       "    font-family: \"Source Code Pro\", \"Menlo\", monospace;;\n",
       "    font-size: 13px;\n",
       "    color: #555;\n",
       "    margin-left: 4px;\n",
       "    line-height: 19px;\n",
       "  }\n",
       "</style>\n",
       "<div class=\"ansiout\">XGBoost Regressor\n",
       "MSE: 3700.4343455071476\n",
       "</div>"
      ]
     },
     "metadata": {
      "application/vnd.databricks.v1+output": {
       "addedWidgets": {},
       "arguments": {},
       "data": "<div class=\"ansiout\">XGBoost Regressor\nMSE: 3700.4343455071476\n</div>",
       "datasetInfos": [],
       "metadata": {},
       "removedWidgets": [],
       "type": "html"
      }
     },
     "output_type": "display_data"
    }
   ],
   "source": [
    "#XGboost sin calibrar\n",
    "\n",
    "xgb_regressor = xgb.XGBRegressor(random_state=1, n_jobs=20)\n",
    "xgb_regressor.fit(XTrain_enc, yTrain)\n",
    "\n",
    "y_predict = xgb_regressor.predict(XTest_enc)\n",
    "\n",
    "print(\"XGBoost Regressor\")\n",
    "print(f'RMSE: {mean_squared_error(yTest, y_predict, squared=False)}')"
   ]
  },
  {
   "cell_type": "code",
   "execution_count": 0,
   "metadata": {
    "application/vnd.databricks.v1+cell": {
     "inputWidgets": {},
     "nuid": "9931b3b6-2224-43fc-92b1-80152db27575",
     "showTitle": false,
     "title": ""
    }
   },
   "outputs": [
    {
     "data": {
      "text/html": [
       "<style scoped>\n",
       "  .ansiout {\n",
       "    display: block;\n",
       "    unicode-bidi: embed;\n",
       "    white-space: pre-wrap;\n",
       "    word-wrap: break-word;\n",
       "    word-break: break-all;\n",
       "    font-family: \"Source Code Pro\", \"Menlo\", monospace;;\n",
       "    font-size: 13px;\n",
       "    color: #555;\n",
       "    margin-left: 4px;\n",
       "    line-height: 19px;\n",
       "  }\n",
       "</style>\n",
       "<div class=\"ansiout\">-3668.2132876903006\n",
       "</div>"
      ]
     },
     "metadata": {
      "application/vnd.databricks.v1+output": {
       "addedWidgets": {},
       "arguments": {},
       "data": "<div class=\"ansiout\">-3668.2132876903006\n</div>",
       "datasetInfos": [],
       "metadata": {},
       "removedWidgets": [],
       "type": "html"
      }
     },
     "output_type": "display_data"
    }
   ],
   "source": [
    "print(cross_val_score(xgb_regressor, XTrain_enc, yTrain, cv=5, scoring='neg_root_mean_squared_error', n_jobs=20).mean())"
   ]
  },
  {
   "cell_type": "code",
   "execution_count": 0,
   "metadata": {
    "application/vnd.databricks.v1+cell": {
     "inputWidgets": {},
     "nuid": "d4223215-706e-4128-a10e-063dbfb17ad5",
     "showTitle": false,
     "title": ""
    }
   },
   "outputs": [
    {
     "data": {
      "text/html": [
       "<style scoped>\n",
       "  .ansiout {\n",
       "    display: block;\n",
       "    unicode-bidi: embed;\n",
       "    white-space: pre-wrap;\n",
       "    word-wrap: break-word;\n",
       "    word-break: break-all;\n",
       "    font-family: \"Source Code Pro\", \"Menlo\", monospace;;\n",
       "    font-size: 13px;\n",
       "    color: #555;\n",
       "    margin-left: 4px;\n",
       "    line-height: 19px;\n",
       "  }\n",
       "</style>\n",
       "<div class=\"ansiout\">RandomForest Regressor\n",
       "RMSE: 3808.0782097420347\n",
       "</div>"
      ]
     },
     "metadata": {
      "application/vnd.databricks.v1+output": {
       "addedWidgets": {},
       "arguments": {},
       "data": "<div class=\"ansiout\">RandomForest Regressor\nRMSE: 3808.0782097420347\n</div>",
       "datasetInfos": [],
       "metadata": {},
       "removedWidgets": [],
       "type": "html"
      }
     },
     "output_type": "display_data"
    }
   ],
   "source": [
    "# RF sin calibrar\n",
    "clf = RandomForestRegressor(random_state=1, n_jobs=5)\n",
    "clf.fit(XTrain_enc, yTrain)\n",
    "\n",
    "y_predict = clf.predict(XTest_enc)\n",
    "\n",
    "print(\"RandomForest Regressor\")\n",
    "print(f'RMSE: {mean_squared_error(yTest, y_predict, squared=False)}')"
   ]
  },
  {
   "cell_type": "code",
   "execution_count": 0,
   "metadata": {
    "application/vnd.databricks.v1+cell": {
     "inputWidgets": {},
     "nuid": "92ab49ee-1a26-400c-87a3-07941f156718",
     "showTitle": false,
     "title": ""
    }
   },
   "outputs": [
    {
     "data": {
      "text/html": [
       "<style scoped>\n",
       "  .ansiout {\n",
       "    display: block;\n",
       "    unicode-bidi: embed;\n",
       "    white-space: pre-wrap;\n",
       "    word-wrap: break-word;\n",
       "    word-break: break-all;\n",
       "    font-family: \"Source Code Pro\", \"Menlo\", monospace;;\n",
       "    font-size: 13px;\n",
       "    color: #555;\n",
       "    margin-left: 4px;\n",
       "    line-height: 19px;\n",
       "  }\n",
       "</style>\n",
       "<div class=\"ansiout\">-3783.381369652458\n",
       "</div>"
      ]
     },
     "metadata": {
      "application/vnd.databricks.v1+output": {
       "addedWidgets": {},
       "arguments": {},
       "data": "<div class=\"ansiout\">-3783.381369652458\n</div>",
       "datasetInfos": [],
       "metadata": {},
       "removedWidgets": [],
       "type": "html"
      }
     },
     "output_type": "display_data"
    }
   ],
   "source": [
    "print(cross_val_score(clf, XTrain_enc, yTrain, cv=5, scoring='neg_root_mean_squared_error', n_jobs=5).mean())"
   ]
  },
  {
   "cell_type": "code",
   "execution_count": 0,
   "metadata": {
    "application/vnd.databricks.v1+cell": {
     "inputWidgets": {},
     "nuid": "0c6e06ce-f706-4789-9104-a04d679a30be",
     "showTitle": false,
     "title": ""
    }
   },
   "outputs": [
    {
     "data": {
      "text/html": [
       "<style scoped>\n",
       "  .ansiout {\n",
       "    display: block;\n",
       "    unicode-bidi: embed;\n",
       "    white-space: pre-wrap;\n",
       "    word-wrap: break-word;\n",
       "    word-break: break-all;\n",
       "    font-family: \"Source Code Pro\", \"Menlo\", monospace;;\n",
       "    font-size: 13px;\n",
       "    color: #555;\n",
       "    margin-left: 4px;\n",
       "    line-height: 19px;\n",
       "  }\n",
       "</style>\n",
       "<div class=\"ansiout\">RandomForest Regressor\n",
       "RMSE: 3779.2778283941766\n",
       "</div>"
      ]
     },
     "metadata": {
      "application/vnd.databricks.v1+output": {
       "addedWidgets": {},
       "arguments": {},
       "data": "<div class=\"ansiout\">RandomForest Regressor\nRMSE: 3779.2778283941766\n</div>",
       "datasetInfos": [],
       "metadata": {},
       "removedWidgets": [],
       "type": "html"
      }
     },
     "output_type": "display_data"
    }
   ],
   "source": [
    "# RF calibrado\n",
    "#clf = RandomForestRegressor(max_depth=18, max_features=4, n_estimators=180, n_jobs=20)\n",
    "\n",
    "#clf = RandomForestRegressor(max_depth=64, max_features=4, min_samples_leaf=4,\n",
    "#                      min_samples_split=10, n_estimators=221, n_jobs=5)\n",
    "\n",
    "#clf = RandomForestRegressor(max_depth=44, max_features=5, min_samples_leaf=4,\n",
    "#                      min_samples_split=10, n_estimators=156, n_jobs=5)\n",
    "\n",
    "#clf = RandomForestRegressor(max_depth=32, max_features=5, min_samples_leaf=4,\n",
    "#                      min_samples_split=5, n_estimators=266, n_jobs=20)\n",
    "\n",
    "clf = RandomForestRegressor(max_depth=75, max_features=4, n_estimators=254, n_jobs=10)\n",
    "\n",
    "clf.fit(XTrain_enc, yTrain)\n",
    "\n",
    "y_predict = clf.predict(XTest_enc)\n",
    "\n",
    "print(\"RandomForest Regressor\")\n",
    "print(f'RMSE: {mean_squared_error(yTest, y_predict, squared=False)}')"
   ]
  },
  {
   "cell_type": "code",
   "execution_count": 0,
   "metadata": {
    "application/vnd.databricks.v1+cell": {
     "inputWidgets": {},
     "nuid": "4a8aab8a-9cef-45cb-bdb2-e1b634a696b2",
     "showTitle": false,
     "title": ""
    }
   },
   "outputs": [
    {
     "data": {
      "text/html": [
       "<style scoped>\n",
       "  .ansiout {\n",
       "    display: block;\n",
       "    unicode-bidi: embed;\n",
       "    white-space: pre-wrap;\n",
       "    word-wrap: break-word;\n",
       "    word-break: break-all;\n",
       "    font-family: \"Source Code Pro\", \"Menlo\", monospace;;\n",
       "    font-size: 13px;\n",
       "    color: #555;\n",
       "    margin-left: 4px;\n",
       "    line-height: 19px;\n",
       "  }\n",
       "</style>"
      ]
     },
     "metadata": {
      "application/vnd.databricks.v1+output": {
       "arguments": {},
       "data": "",
       "errorSummary": "Cancelled",
       "errorTraceType": "html",
       "metadata": {},
       "type": "ipynbError"
      }
     },
     "output_type": "display_data"
    }
   ],
   "source": [
    "print(cross_val_score(clf, XTrain_enc, yTrain, cv=5, scoring='neg_root_mean_squared_error', n_jobs=20).mean())"
   ]
  },
  {
   "cell_type": "code",
   "execution_count": 0,
   "metadata": {
    "application/vnd.databricks.v1+cell": {
     "inputWidgets": {},
     "nuid": "0cb11fb2-e084-4c25-bb3d-0866c7ef0a95",
     "showTitle": false,
     "title": ""
    }
   },
   "outputs": [],
   "source": [
    "xgb_regressor = xgb.XGBRegressor(, n_jobs=5)\n",
    "xgb_regressor.fit(XTrain_enc, yTrain)\n",
    "\n",
    "y_predict = xgb_regressor.predict(XTest_enc)\n",
    "\n",
    "print(\"XGBoost Regressor\")\n",
    "print(f'RMSE: {mean_squared_error(yTest, y_predict, squared=False)}')"
   ]
  },
  {
   "cell_type": "markdown",
   "metadata": {
    "application/vnd.databricks.v1+cell": {
     "inputWidgets": {},
     "nuid": "18acb84b-3e6c-47e3-92cb-a4c272162bdd",
     "showTitle": false,
     "title": ""
    }
   },
   "source": [
    "### Complete Pipeline"
   ]
  },
  {
   "cell_type": "code",
   "execution_count": 9,
   "metadata": {
    "application/vnd.databricks.v1+cell": {
     "inputWidgets": {},
     "nuid": "1b1128aa-a9fe-4019-bde7-6a7cab3a4b79",
     "showTitle": false,
     "title": ""
    }
   },
   "outputs": [
    {
     "data": {
      "text/html": [
       "<style>#sk-299c92c7-adb7-44eb-9e21-f402ac6212b4 {color: black;background-color: white;}#sk-299c92c7-adb7-44eb-9e21-f402ac6212b4 pre{padding: 0;}#sk-299c92c7-adb7-44eb-9e21-f402ac6212b4 div.sk-toggleable {background-color: white;}#sk-299c92c7-adb7-44eb-9e21-f402ac6212b4 label.sk-toggleable__label {cursor: pointer;display: block;width: 100%;margin-bottom: 0;padding: 0.3em;box-sizing: border-box;text-align: center;}#sk-299c92c7-adb7-44eb-9e21-f402ac6212b4 label.sk-toggleable__label-arrow:before {content: \"▸\";float: left;margin-right: 0.25em;color: #696969;}#sk-299c92c7-adb7-44eb-9e21-f402ac6212b4 label.sk-toggleable__label-arrow:hover:before {color: black;}#sk-299c92c7-adb7-44eb-9e21-f402ac6212b4 div.sk-estimator:hover label.sk-toggleable__label-arrow:before {color: black;}#sk-299c92c7-adb7-44eb-9e21-f402ac6212b4 div.sk-toggleable__content {max-height: 0;max-width: 0;overflow: hidden;text-align: left;background-color: #f0f8ff;}#sk-299c92c7-adb7-44eb-9e21-f402ac6212b4 div.sk-toggleable__content pre {margin: 0.2em;color: black;border-radius: 0.25em;background-color: #f0f8ff;}#sk-299c92c7-adb7-44eb-9e21-f402ac6212b4 input.sk-toggleable__control:checked~div.sk-toggleable__content {max-height: 200px;max-width: 100%;overflow: auto;}#sk-299c92c7-adb7-44eb-9e21-f402ac6212b4 input.sk-toggleable__control:checked~label.sk-toggleable__label-arrow:before {content: \"▾\";}#sk-299c92c7-adb7-44eb-9e21-f402ac6212b4 div.sk-estimator input.sk-toggleable__control:checked~label.sk-toggleable__label {background-color: #d4ebff;}#sk-299c92c7-adb7-44eb-9e21-f402ac6212b4 div.sk-label input.sk-toggleable__control:checked~label.sk-toggleable__label {background-color: #d4ebff;}#sk-299c92c7-adb7-44eb-9e21-f402ac6212b4 input.sk-hidden--visually {border: 0;clip: rect(1px 1px 1px 1px);clip: rect(1px, 1px, 1px, 1px);height: 1px;margin: -1px;overflow: hidden;padding: 0;position: absolute;width: 1px;}#sk-299c92c7-adb7-44eb-9e21-f402ac6212b4 div.sk-estimator {font-family: monospace;background-color: #f0f8ff;border: 1px dotted black;border-radius: 0.25em;box-sizing: border-box;margin-bottom: 0.5em;}#sk-299c92c7-adb7-44eb-9e21-f402ac6212b4 div.sk-estimator:hover {background-color: #d4ebff;}#sk-299c92c7-adb7-44eb-9e21-f402ac6212b4 div.sk-parallel-item::after {content: \"\";width: 100%;border-bottom: 1px solid gray;flex-grow: 1;}#sk-299c92c7-adb7-44eb-9e21-f402ac6212b4 div.sk-label:hover label.sk-toggleable__label {background-color: #d4ebff;}#sk-299c92c7-adb7-44eb-9e21-f402ac6212b4 div.sk-serial::before {content: \"\";position: absolute;border-left: 1px solid gray;box-sizing: border-box;top: 2em;bottom: 0;left: 50%;}#sk-299c92c7-adb7-44eb-9e21-f402ac6212b4 div.sk-serial {display: flex;flex-direction: column;align-items: center;background-color: white;padding-right: 0.2em;padding-left: 0.2em;}#sk-299c92c7-adb7-44eb-9e21-f402ac6212b4 div.sk-item {z-index: 1;}#sk-299c92c7-adb7-44eb-9e21-f402ac6212b4 div.sk-parallel {display: flex;align-items: stretch;justify-content: center;background-color: white;}#sk-299c92c7-adb7-44eb-9e21-f402ac6212b4 div.sk-parallel::before {content: \"\";position: absolute;border-left: 1px solid gray;box-sizing: border-box;top: 2em;bottom: 0;left: 50%;}#sk-299c92c7-adb7-44eb-9e21-f402ac6212b4 div.sk-parallel-item {display: flex;flex-direction: column;position: relative;background-color: white;}#sk-299c92c7-adb7-44eb-9e21-f402ac6212b4 div.sk-parallel-item:first-child::after {align-self: flex-end;width: 50%;}#sk-299c92c7-adb7-44eb-9e21-f402ac6212b4 div.sk-parallel-item:last-child::after {align-self: flex-start;width: 50%;}#sk-299c92c7-adb7-44eb-9e21-f402ac6212b4 div.sk-parallel-item:only-child::after {width: 0;}#sk-299c92c7-adb7-44eb-9e21-f402ac6212b4 div.sk-dashed-wrapped {border: 1px dashed gray;margin: 0 0.4em 0.5em 0.4em;box-sizing: border-box;padding-bottom: 0.4em;background-color: white;position: relative;}#sk-299c92c7-adb7-44eb-9e21-f402ac6212b4 div.sk-label label {font-family: monospace;font-weight: bold;background-color: white;display: inline-block;line-height: 1.2em;}#sk-299c92c7-adb7-44eb-9e21-f402ac6212b4 div.sk-label-container {position: relative;z-index: 2;text-align: center;}#sk-299c92c7-adb7-44eb-9e21-f402ac6212b4 div.sk-container {/* jupyter's `normalize.less` sets `[hidden] { display: none; }` but bootstrap.min.css set `[hidden] { display: none !important; }` so we also need the `!important` here to be able to override the default hidden behavior on the sphinx rendered scikit-learn.org. See: https://github.com/scikit-learn/scikit-learn/issues/21755 */display: inline-block !important;position: relative;}#sk-299c92c7-adb7-44eb-9e21-f402ac6212b4 div.sk-text-repr-fallback {display: none;}</style><div id=\"sk-299c92c7-adb7-44eb-9e21-f402ac6212b4\" class=\"sk-top-container\"><div class=\"sk-text-repr-fallback\"><pre>Pipeline(steps=[(&#x27;preprocessor&#x27;,\n",
       "                 FeatureUnion(transformer_list=[(&#x27;numerical_pipeline&#x27;,\n",
       "                                                 Pipeline(steps=[(&#x27;select_numeric&#x27;,\n",
       "                                                                  DataFrameSelector(attribute_names=[&#x27;Year&#x27;,\n",
       "                                                                                                     &#x27;Mileage&#x27;]))])),\n",
       "                                                (&#x27;categorical_pipeline&#x27;,\n",
       "                                                 Pipeline(steps=[(&#x27;select_cat&#x27;,\n",
       "                                                                  DataFrameSelector(attribute_names=[&#x27;State&#x27;,\n",
       "                                                                                                     &#x27;Make&#x27;,\n",
       "                                                                                                     &#x27;Model&#x27;])),\n",
       "                                                                 (&#x27;cat_encoder&#x27;,\n",
       "                                                                  CategoricalEncoder(encoding=&#x27;ordinal&#x27;))]))]...\n",
       "                              grow_policy=None, importance_type=None,\n",
       "                              interaction_constraints=None,\n",
       "                              learning_rate=0.04660442516384383, max_bin=None,\n",
       "                              max_cat_to_onehot=None, max_delta_step=None,\n",
       "                              max_depth=12, max_leaves=None, min_child_weight=6,\n",
       "                              missing=nan, monotone_constraints=None,\n",
       "                              n_estimators=277, n_jobs=1,\n",
       "                              num_parallel_tree=None, predictor=None,\n",
       "                              random_state=None, reg_alpha=None,\n",
       "                              reg_lambda=None, ...))])</pre><b>Please rerun this cell to show the HTML repr or trust the notebook.</b></div><div class=\"sk-container\" hidden><div class=\"sk-item sk-dashed-wrapped\"><div class=\"sk-label-container\"><div class=\"sk-label sk-toggleable\"><input class=\"sk-toggleable__control sk-hidden--visually\" id=\"6e7485af-1e98-431a-827d-47ad3d999ab9\" type=\"checkbox\" ><label for=\"6e7485af-1e98-431a-827d-47ad3d999ab9\" class=\"sk-toggleable__label sk-toggleable__label-arrow\">Pipeline</label><div class=\"sk-toggleable__content\"><pre>Pipeline(steps=[(&#x27;preprocessor&#x27;,\n",
       "                 FeatureUnion(transformer_list=[(&#x27;numerical_pipeline&#x27;,\n",
       "                                                 Pipeline(steps=[(&#x27;select_numeric&#x27;,\n",
       "                                                                  DataFrameSelector(attribute_names=[&#x27;Year&#x27;,\n",
       "                                                                                                     &#x27;Mileage&#x27;]))])),\n",
       "                                                (&#x27;categorical_pipeline&#x27;,\n",
       "                                                 Pipeline(steps=[(&#x27;select_cat&#x27;,\n",
       "                                                                  DataFrameSelector(attribute_names=[&#x27;State&#x27;,\n",
       "                                                                                                     &#x27;Make&#x27;,\n",
       "                                                                                                     &#x27;Model&#x27;])),\n",
       "                                                                 (&#x27;cat_encoder&#x27;,\n",
       "                                                                  CategoricalEncoder(encoding=&#x27;ordinal&#x27;))]))]...\n",
       "                              grow_policy=None, importance_type=None,\n",
       "                              interaction_constraints=None,\n",
       "                              learning_rate=0.04660442516384383, max_bin=None,\n",
       "                              max_cat_to_onehot=None, max_delta_step=None,\n",
       "                              max_depth=12, max_leaves=None, min_child_weight=6,\n",
       "                              missing=nan, monotone_constraints=None,\n",
       "                              n_estimators=277, n_jobs=1,\n",
       "                              num_parallel_tree=None, predictor=None,\n",
       "                              random_state=None, reg_alpha=None,\n",
       "                              reg_lambda=None, ...))])</pre></div></div></div><div class=\"sk-serial\"><div class=\"sk-item sk-dashed-wrapped\"><div class=\"sk-label-container\"><div class=\"sk-label sk-toggleable\"><input class=\"sk-toggleable__control sk-hidden--visually\" id=\"c6b82365-1592-4dc4-a9c6-5365d86813c2\" type=\"checkbox\" ><label for=\"c6b82365-1592-4dc4-a9c6-5365d86813c2\" class=\"sk-toggleable__label sk-toggleable__label-arrow\">preprocessor: FeatureUnion</label><div class=\"sk-toggleable__content\"><pre>FeatureUnion(transformer_list=[(&#x27;numerical_pipeline&#x27;,\n",
       "                                Pipeline(steps=[(&#x27;select_numeric&#x27;,\n",
       "                                                 DataFrameSelector(attribute_names=[&#x27;Year&#x27;,\n",
       "                                                                                    &#x27;Mileage&#x27;]))])),\n",
       "                               (&#x27;categorical_pipeline&#x27;,\n",
       "                                Pipeline(steps=[(&#x27;select_cat&#x27;,\n",
       "                                                 DataFrameSelector(attribute_names=[&#x27;State&#x27;,\n",
       "                                                                                    &#x27;Make&#x27;,\n",
       "                                                                                    &#x27;Model&#x27;])),\n",
       "                                                (&#x27;cat_encoder&#x27;,\n",
       "                                                 CategoricalEncoder(encoding=&#x27;ordinal&#x27;))]))])</pre></div></div></div><div class=\"sk-parallel\"><div class=\"sk-parallel-item\"><div class=\"sk-item\"><div class=\"sk-label-container\"><div class=\"sk-label sk-toggleable\"><label>numerical_pipeline</label></div></div><div class=\"sk-serial\"><div class=\"sk-item\"><div class=\"sk-serial\"><div class=\"sk-item\"><div class=\"sk-estimator sk-toggleable\"><input class=\"sk-toggleable__control sk-hidden--visually\" id=\"e54ff84c-5fe1-4d82-8ef7-8e903c15fa11\" type=\"checkbox\" ><label for=\"e54ff84c-5fe1-4d82-8ef7-8e903c15fa11\" class=\"sk-toggleable__label sk-toggleable__label-arrow\">DataFrameSelector</label><div class=\"sk-toggleable__content\"><pre>DataFrameSelector(attribute_names=[&#x27;Year&#x27;, &#x27;Mileage&#x27;])</pre></div></div></div></div></div></div></div></div><div class=\"sk-parallel-item\"><div class=\"sk-item\"><div class=\"sk-label-container\"><div class=\"sk-label sk-toggleable\"><label>categorical_pipeline</label></div></div><div class=\"sk-serial\"><div class=\"sk-item\"><div class=\"sk-serial\"><div class=\"sk-item\"><div class=\"sk-estimator sk-toggleable\"><input class=\"sk-toggleable__control sk-hidden--visually\" id=\"a7d5d9ac-4bd3-4eff-bedd-421390a4da33\" type=\"checkbox\" ><label for=\"a7d5d9ac-4bd3-4eff-bedd-421390a4da33\" class=\"sk-toggleable__label sk-toggleable__label-arrow\">DataFrameSelector</label><div class=\"sk-toggleable__content\"><pre>DataFrameSelector(attribute_names=[&#x27;State&#x27;, &#x27;Make&#x27;, &#x27;Model&#x27;])</pre></div></div></div><div class=\"sk-item\"><div class=\"sk-estimator sk-toggleable\"><input class=\"sk-toggleable__control sk-hidden--visually\" id=\"50b86c2d-f95b-4260-bc30-54625421ba03\" type=\"checkbox\" ><label for=\"50b86c2d-f95b-4260-bc30-54625421ba03\" class=\"sk-toggleable__label sk-toggleable__label-arrow\">CategoricalEncoder</label><div class=\"sk-toggleable__content\"><pre>CategoricalEncoder(encoding=&#x27;ordinal&#x27;)</pre></div></div></div></div></div></div></div></div></div></div><div class=\"sk-item\"><div class=\"sk-estimator sk-toggleable\"><input class=\"sk-toggleable__control sk-hidden--visually\" id=\"bdd80b46-b8e1-4858-942b-a8cdcfb46346\" type=\"checkbox\" ><label for=\"bdd80b46-b8e1-4858-942b-a8cdcfb46346\" class=\"sk-toggleable__label sk-toggleable__label-arrow\">XGBRegressor</label><div class=\"sk-toggleable__content\"><pre>XGBRegressor(base_score=None, booster=None, callbacks=None,\n",
       "             colsample_bylevel=None, colsample_bynode=None,\n",
       "             colsample_bytree=0.6000000000000001, early_stopping_rounds=None,\n",
       "             enable_categorical=False, eval_metric=None,\n",
       "             gamma=25.69025797151704, gpu_id=None, grow_policy=None,\n",
       "             importance_type=None, interaction_constraints=None,\n",
       "             learning_rate=0.04660442516384383, max_bin=None,\n",
       "             max_cat_to_onehot=None, max_delta_step=None, max_depth=12,\n",
       "             max_leaves=None, min_child_weight=6, missing=nan,\n",
       "             monotone_constraints=None, n_estimators=277, n_jobs=1,\n",
       "             num_parallel_tree=None, predictor=None, random_state=None,\n",
       "             reg_alpha=None, reg_lambda=None, ...)</pre></div></div></div></div></div></div></div>"
      ],
      "text/plain": [
       "Pipeline(steps=[('preprocessor',\n",
       "                 FeatureUnion(transformer_list=[('numerical_pipeline',\n",
       "                                                 Pipeline(steps=[('select_numeric',\n",
       "                                                                  DataFrameSelector(attribute_names=['Year',\n",
       "                                                                                                     'Mileage']))])),\n",
       "                                                ('categorical_pipeline',\n",
       "                                                 Pipeline(steps=[('select_cat',\n",
       "                                                                  DataFrameSelector(attribute_names=['State',\n",
       "                                                                                                     'Make',\n",
       "                                                                                                     'Model'])),\n",
       "                                                                 ('cat_encoder',\n",
       "                                                                  CategoricalEncoder(encoding='ordinal'))]))]...\n",
       "                              grow_policy=None, importance_type=None,\n",
       "                              interaction_constraints=None,\n",
       "                              learning_rate=0.04660442516384383, max_bin=None,\n",
       "                              max_cat_to_onehot=None, max_delta_step=None,\n",
       "                              max_depth=12, max_leaves=None, min_child_weight=6,\n",
       "                              missing=nan, monotone_constraints=None,\n",
       "                              n_estimators=277, n_jobs=1,\n",
       "                              num_parallel_tree=None, predictor=None,\n",
       "                              random_state=None, reg_alpha=None,\n",
       "                              reg_lambda=None, ...))])"
      ]
     },
     "execution_count": 9,
     "metadata": {},
     "output_type": "execute_result"
    }
   ],
   "source": [
    "# preprocessor\n",
    "categorical_features = ['State', 'Make', 'Model']\n",
    "numeric_features = ['Year', 'Mileage']\n",
    "\n",
    "numerical_pipeline = Pipeline([\n",
    "    (\"select_numeric\", DataFrameSelector(numeric_features)),\n",
    "])\n",
    "\n",
    "categorical_pipeline= Pipeline([\n",
    "    (\"select_cat\", DataFrameSelector(categorical_features)),\n",
    "    (\"cat_encoder\", CategoricalEncoder(encoding='ordinal'))\n",
    "])\n",
    "\n",
    "preprocess_pipeline = FeatureUnion(transformer_list=[\n",
    "    (\"numerical_pipeline\", numerical_pipeline),             \n",
    "    (\"categorical_pipeline\", categorical_pipeline),\n",
    "])\n",
    "\n",
    "\n",
    "# model\n",
    "# {'learning_rate': 0.04660442516384383, 'gamma': 25.69025797151704, 'max_depth': 12, 'min_child_weight': 6, 'colsample_bytree': 0.6000000000000001, 'subsample': 0.9911830515002495, 'n_estimators': 277}\n",
    "\n",
    "xgb_reg = xgb.XGBRegressor(colsample_bytree=0.6000000000000001,gamma=25.69025797151704,\n",
    "                                 learning_rate=0.04660442516384383,max_depth=12,min_child_weight=6,n_estimators=277, subsample=0.9911830515002495,n_jobs=1)\n",
    "\n",
    "pipeline = Pipeline(steps = [\n",
    "               ('preprocessor', preprocess_pipeline)\n",
    "              ,('regressor',xgb_reg)\n",
    "])\n",
    "\n",
    "\n",
    "from sklearn import set_config\n",
    "set_config(display=\"diagram\")\n",
    "pipeline"
   ]
  },
  {
   "cell_type": "code",
   "execution_count": 10,
   "metadata": {
    "application/vnd.databricks.v1+cell": {
     "inputWidgets": {},
     "nuid": "8c620222-a0bc-4c0b-b864-ee755a4024c2",
     "showTitle": false,
     "title": ""
    }
   },
   "outputs": [
    {
     "name": "stdout",
     "output_type": "stream",
     "text": [
      "Pipeline(steps=[('preprocessor',\n",
      "                 FeatureUnion(transformer_list=[('numerical_pipeline',\n",
      "                                                 Pipeline(steps=[('select_numeric',\n",
      "                                                                  DataFrameSelector(attribute_names=['Year',\n",
      "                                                                                                     'Mileage']))])),\n",
      "                                                ('categorical_pipeline',\n",
      "                                                 Pipeline(steps=[('select_cat',\n",
      "                                                                  DataFrameSelector(attribute_names=['State',\n",
      "                                                                                                     'Make',\n",
      "                                                                                                     'Model'])),\n",
      "                                                                 ('cat_encoder',\n",
      "                                                                  CategoricalEncoder(encoding='ordinal'))]))]...\n",
      "                              gamma=25.69025797151704, gpu_id=-1,\n",
      "                              grow_policy='depthwise', importance_type=None,\n",
      "                              interaction_constraints='',\n",
      "                              learning_rate=0.04660442516384383, max_bin=256,\n",
      "                              max_cat_to_onehot=4, max_delta_step=0,\n",
      "                              max_depth=12, max_leaves=0, min_child_weight=6,\n",
      "                              missing=nan, monotone_constraints='()',\n",
      "                              n_estimators=277, n_jobs=1, num_parallel_tree=1,\n",
      "                              predictor='auto', random_state=0, reg_alpha=0,\n",
      "                              reg_lambda=1, ...))])\n"
     ]
    }
   ],
   "source": [
    "model = pipeline.fit(XTrain, yTrain)\n",
    "print(model)"
   ]
  },
  {
   "cell_type": "code",
   "execution_count": 11,
   "metadata": {
    "application/vnd.databricks.v1+cell": {
     "inputWidgets": {},
     "nuid": "bfc17948-4ec3-41b6-8ead-5a9bc4236527",
     "showTitle": false,
     "title": ""
    }
   },
   "outputs": [
    {
     "name": "stdout",
     "output_type": "stream",
     "text": [
      "RandomForest Regressor\n",
      "MSE: 3489.280270568571\n"
     ]
    }
   ],
   "source": [
    "y_predict = pipeline.predict(XTest)\n",
    "\n",
    "print(\"RandomForest Regressor\")\n",
    "print(f'MSE: {mean_squared_error(yTest, y_predict, squared=False)}')"
   ]
  },
  {
   "cell_type": "code",
   "execution_count": 12,
   "metadata": {},
   "outputs": [
    {
     "name": "stdout",
     "output_type": "stream",
     "text": [
      "Pipeline(steps=[('preprocessor',\n",
      "                 FeatureUnion(transformer_list=[('numerical_pipeline',\n",
      "                                                 Pipeline(steps=[('select_numeric',\n",
      "                                                                  DataFrameSelector(attribute_names=['Year',\n",
      "                                                                                                     'Mileage']))])),\n",
      "                                                ('categorical_pipeline',\n",
      "                                                 Pipeline(steps=[('select_cat',\n",
      "                                                                  DataFrameSelector(attribute_names=['State',\n",
      "                                                                                                     'Make',\n",
      "                                                                                                     'Model'])),\n",
      "                                                                 ('cat_encoder',\n",
      "                                                                  CategoricalEncoder(encoding='ordinal'))]))]...\n",
      "                              gamma=25.69025797151704, gpu_id=-1,\n",
      "                              grow_policy='depthwise', importance_type=None,\n",
      "                              interaction_constraints='',\n",
      "                              learning_rate=0.04660442516384383, max_bin=256,\n",
      "                              max_cat_to_onehot=4, max_delta_step=0,\n",
      "                              max_depth=12, max_leaves=0, min_child_weight=6,\n",
      "                              missing=nan, monotone_constraints='()',\n",
      "                              n_estimators=277, n_jobs=1, num_parallel_tree=1,\n",
      "                              predictor='auto', random_state=0, reg_alpha=0,\n",
      "                              reg_lambda=1, ...))])\n"
     ]
    }
   ],
   "source": [
    "pipe = pipeline.fit(XTotal, yTotal)\n",
    "print(pipe)"
   ]
  },
  {
   "cell_type": "code",
   "execution_count": 13,
   "metadata": {},
   "outputs": [],
   "source": [
    "y_predict = pipe.predict(dataTesting)\n",
    "y_pred = pd.DataFrame(y_predict, index=dataTesting.index, columns=['Price'])\n",
    "y_pred.to_csv('xgb_submission_2.csv', index_label='ID')"
   ]
  },
  {
   "cell_type": "markdown",
   "metadata": {
    "application/vnd.databricks.v1+cell": {
     "inputWidgets": {},
     "nuid": "b9520075-e1f7-47fa-ac6e-77b81886f708",
     "showTitle": false,
     "title": ""
    },
    "id": "-xQet-0U6rtf"
   },
   "source": [
    "## Disponibilización del modelo"
   ]
  },
  {
   "cell_type": "markdown",
   "metadata": {
    "application/vnd.databricks.v1+cell": {
     "inputWidgets": {},
     "nuid": "1f5ff20e-1c07-43ce-bded-cb788b779571",
     "showTitle": false,
     "title": ""
    },
    "id": "SrdLSg9x6p4c"
   },
   "source": [
    "## Conclusiones"
   ]
  },
  {
   "cell_type": "code",
   "execution_count": 0,
   "metadata": {
    "application/vnd.databricks.v1+cell": {
     "inputWidgets": {},
     "nuid": "74d0157a-91be-4a46-b383-b801c4ae64f3",
     "showTitle": false,
     "title": ""
    },
    "executionInfo": {
     "elapsed": 287,
     "status": "ok",
     "timestamp": 1651010830214,
     "user": {
      "displayName": "Freddy Mendoza",
      "userId": "10598764195432276332"
     },
     "user_tz": 300
    },
    "id": "CoSn8cAKNmiM"
   },
   "outputs": [],
   "source": []
  },
  {
   "cell_type": "code",
   "execution_count": 0,
   "metadata": {
    "application/vnd.databricks.v1+cell": {
     "inputWidgets": {},
     "nuid": "c26b011a-650e-47ef-9bbe-07c19d541e6c",
     "showTitle": false,
     "title": ""
    },
    "id": "DHg7GWHxCaD_"
   },
   "outputs": [
    {
     "data": {
      "text/html": [
       "<style scoped>\n",
       "  .ansiout {\n",
       "    display: block;\n",
       "    unicode-bidi: embed;\n",
       "    white-space: pre-wrap;\n",
       "    word-wrap: break-word;\n",
       "    word-break: break-all;\n",
       "    font-family: \"Source Code Pro\", \"Menlo\", monospace;;\n",
       "    font-size: 13px;\n",
       "    color: #555;\n",
       "    margin-left: 4px;\n",
       "    line-height: 19px;\n",
       "  }\n",
       "</style>"
      ]
     },
     "metadata": {
      "application/vnd.databricks.v1+output": {
       "arguments": {},
       "data": "",
       "errorSummary": "Cancelled",
       "errorTraceType": "html",
       "metadata": {},
       "type": "ipynbError"
      }
     },
     "output_type": "display_data"
    }
   ],
   "source": [
    "# Predicción del conjunto de test - acá se genera un número aleatorio como ejemplo\n",
    "np.random.seed(42)\n",
    "y_pred = pd.DataFrame(np.random.rand(dataTesting.shape[0]) * 75000 + 5000, index=dataTesting.index, columns=['Price'])"
   ]
  },
  {
   "cell_type": "code",
   "execution_count": 0,
   "metadata": {
    "application/vnd.databricks.v1+cell": {
     "inputWidgets": {},
     "nuid": "c91d6adf-944a-44c8-a0ed-f76f3ec0229f",
     "showTitle": false,
     "title": ""
    },
    "id": "LjnIVfdMCaEG"
   },
   "outputs": [
    {
     "data": {
      "text/html": [
       "<style scoped>\n",
       "  .ansiout {\n",
       "    display: block;\n",
       "    unicode-bidi: embed;\n",
       "    white-space: pre-wrap;\n",
       "    word-wrap: break-word;\n",
       "    word-break: break-all;\n",
       "    font-family: \"Source Code Pro\", \"Menlo\", monospace;;\n",
       "    font-size: 13px;\n",
       "    color: #555;\n",
       "    margin-left: 4px;\n",
       "    line-height: 19px;\n",
       "  }\n",
       "</style>"
      ]
     },
     "metadata": {
      "application/vnd.databricks.v1+output": {
       "arguments": {},
       "data": "",
       "errorSummary": "Cancelled",
       "errorTraceType": "html",
       "metadata": {},
       "type": "ipynbError"
      }
     },
     "output_type": "display_data"
    }
   ],
   "source": [
    "# Guardar predicciones en formato exigido en la competencia de kaggle\n",
    "y_pred.to_csv('test_submission.csv', index_label='ID')\n",
    "y_pred.head()"
   ]
  }
 ],
 "metadata": {
  "application/vnd.databricks.v1+notebook": {
   "dashboards": [],
   "language": "python",
   "notebookMetadata": {
    "pythonIndentUnit": 4
   },
   "notebookName": "S3P1_proyecto1",
   "notebookOrigID": 3272045445757876,
   "widgets": {}
  },
  "colab": {
   "collapsed_sections": [],
   "name": "S3P1_proyecto1.ipynb",
   "provenance": []
  },
  "kernelspec": {
   "display_name": "Python 3 (ipykernel)",
   "language": "python",
   "name": "python3"
  },
  "language_info": {
   "codemirror_mode": {
    "name": "ipython",
    "version": 3
   },
   "file_extension": ".py",
   "mimetype": "text/x-python",
   "name": "python",
   "nbconvert_exporter": "python",
   "pygments_lexer": "ipython3",
   "version": "3.9.12"
  }
 },
 "nbformat": 4,
 "nbformat_minor": 1
}
